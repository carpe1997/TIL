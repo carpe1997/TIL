{
 "cells": [
  {
   "cell_type": "code",
   "execution_count": 31,
   "metadata": {},
   "outputs": [],
   "source": [
    "import scipy.stats     as spt\n",
    "import numpy           as np\n",
    "import pandas          as pd\n",
    "import seaborn         as sb\n",
    "import statsmodels.api as sm\n",
    "import statsmodels.stats.weightstats as sw\n",
    "import matplotlib.pyplot as plt"
   ]
  },
  {
   "cell_type": "code",
   "execution_count": 32,
   "metadata": {},
   "outputs": [
    {
     "name": "stdout",
     "output_type": "stream",
     "text": [
      "Ttest_indResult(statistic=0.41473113113479565, pvalue=0.6870956353065248)\n",
      "t statistic = 0.415, p-value = 0.687\n",
      "1학년 : 3.4166666666666674\n",
      "2학년 : 3.216666666666667\n"
     ]
    }
   ],
   "source": [
    "# Two sample t test\n",
    "\n",
    "fres = np.array([3.7,4.3,2.5,3.3,3.6,3.1])\n",
    "soph = np.array([1.8,4.2,4.1,2.2,3.2,3.8])\n",
    "twosam = spt.ttest_ind(fres,soph)\n",
    "print(twosam)\n",
    "\n",
    "print('t statistic = %.3f, p-value = %.3f'%(twosam))\n",
    "\n",
    "\n",
    "print('1학년 :', np.mean(fres))\n",
    "print('2학년 :', np.mean(soph))"
   ]
  },
  {
   "cell_type": "code",
   "execution_count": 33,
   "metadata": {},
   "outputs": [
    {
     "name": "stdout",
     "output_type": "stream",
     "text": [
      "0    3.3\n",
      "1    3.7\n",
      "2    3.4\n",
      "3    3.9\n",
      "4    NaN\n",
      "Name: jun, dtype: float64 \n",
      "\n",
      "0    3.300\n",
      "1    3.700\n",
      "2    3.400\n",
      "3    3.900\n",
      "4    3.575\n",
      "Name: jun, dtype: float64 \n",
      "\n",
      "Ttest_indResult(statistic=-0.9550271234200176, pvalue=0.36752757550294646)\n"
     ]
    }
   ],
   "source": [
    "# Dataframe\n",
    "\n",
    "data1=pd.DataFrame(data=np.array([[3.7,1.8,3.3,4.1],[4.3,4.2,3.7,3.8],[2.5,4.1,3.4,3.5],[3.3,2.2,3.9,3.2],[3.6,3.2,np.nan,2.3]]),\n",
    "                   columns=['fre','sop','jun','sen'])\n",
    "\n",
    "print(data1['jun'],'\\n')\n",
    "\n",
    "sop = data1['sop']\n",
    "jun = data1['jun']\n",
    "jun = jun.fillna(jun.mean())\n",
    "\n",
    "print(jun,'\\n')\n",
    "\n",
    "tsam = spt.ttest_ind(sop,jun)\n",
    "print(tsam)"
   ]
  },
  {
   "cell_type": "code",
   "execution_count": 34,
   "metadata": {},
   "outputs": [
    {
     "name": "stdout",
     "output_type": "stream",
     "text": [
      "Ttest_relResult(statistic=3.562626515972126, pvalue=0.002834843356363954)\n"
     ]
    }
   ],
   "source": [
    "# Paired t test\n",
    "\n",
    "before=np.array([68,61,60,68,67,64,66,67,66,67,72,74,61,71,58,77])\n",
    "after=np.array([56,55,67,62,59,67,50,60,59,53,60,65,62,61,64,57])\n",
    "\n",
    "pairsam = spt.ttest_rel(before,after)\n",
    "print(pairsam)"
   ]
  },
  {
   "cell_type": "code",
   "execution_count": 35,
   "metadata": {},
   "outputs": [
    {
     "name": "stdout",
     "output_type": "stream",
     "text": [
      "tstat = \t 0.23453251491009644 \n",
      "p-val = \t 0.8204627528467475 \n",
      "degree of freedom = \t 8.0\n",
      "(0.9982467120464241, (3.510806493921623, 0.0015764190017186505, 15.0), (3.458986471871119, 0.9982467120464241, 15.0))\n"
     ]
    }
   ],
   "source": [
    "# Statsmodels를 이용한 t test\n",
    "\n",
    "fre=data1['fre']\n",
    "sen=data1['sen']\n",
    "\n",
    "\n",
    "# 가설에는 two-sided / larger / smaller 3가지, 분산에는 pooled, unequal 2가지, value는 두 집단의 평균 차이가 얼마인지 나타내는 수\n",
    "tsams=sw.ttest_ind(fre,sen,alternative='two-sided',usevar='pooled',value=0)\n",
    "print('tstat = \\t',tsams[0],'\\np-val = \\t',tsams[1],'\\ndegree of freedom = \\t',tsams[2])\n",
    "\n",
    "\n",
    "\n",
    "# 쌍체검정 (One-sided)\n",
    "\n",
    "ptsams = sw.ttost_paired(before,after,0.1,0.2)\n",
    "#0.1 low, # 0.2 upper  before 과 after 차이가 0.1 ~ 0.2일것ㄱ이다.\n",
    "print(ptsams)\n",
    "\n",
    "# (3.458986471871119, 0.9982467120464241, 15.0))\n",
    "# 통계량, p-value, 자유도"
   ]
  },
  {
   "cell_type": "code",
   "execution_count": 36,
   "metadata": {},
   "outputs": [
    {
     "name": "stdout",
     "output_type": "stream",
     "text": [
      "                                              sum_sq    df          F  \\\n",
      "C(fcategory, Sum)                          11.614700   2.0   0.276958   \n",
      "C(partner_status, Sum)                    212.213778   1.0  10.120692   \n",
      "C(fcategory, Sum):C(partner_status, Sum)  175.488928   2.0   4.184623   \n",
      "Residual                                  817.763961  39.0        NaN   \n",
      "\n",
      "                                            PR(>F)  \n",
      "C(fcategory, Sum)                         0.759564  \n",
      "C(partner_status, Sum)                    0.002874  \n",
      "C(fcategory, Sum):C(partner_status, Sum)  0.022572  \n",
      "Residual                                       NaN  \n"
     ]
    }
   ],
   "source": [
    "from statsmodels.formula.api import ols\n",
    "from statsmodels.stats.anova import anova_lm\n",
    "\n",
    "\n",
    "# Two-way ANOVA from statsmodels // Referred : https://www.statsmodels.org/stable/anova.html#module-statsmodels.stats.anova\n",
    "\n",
    "moore = sm.datasets.get_rdataset(\"Moore\", \"carData\", cache=True)\n",
    "\n",
    "data2 = moore.data\n",
    "\n",
    "data2 = data2.rename(columns={\"partner.status\":\"partner_status\"})\n",
    "\n",
    "moore_lm = ols('conformity ~ C(fcategory, Sum)*C(partner_status, Sum)',data=data2).fit()\n",
    "# * : 교호작용도 고려\n",
    "# + : 교호작용 고려 안하겠다.\n",
    "table = sm.stats.anova_lm(moore_lm, typ=2)\n",
    "\n",
    "print(table)\n",
    "\n",
    "#귀무가설 y값에 영향을 안미친다.\n",
    "# C(fcategory, Sum)  p값이 크므로 영향을 안미친다.\n",
    "# C(partner_status, Sum)  p값이 작으므로 영향을 미친다.\n",
    "# C(fcategory, Sum):C(partner_status, Sum) p값이 작으므로 영향을 미친다."
   ]
  },
  {
   "cell_type": "code",
   "execution_count": 37,
   "metadata": {},
   "outputs": [
    {
     "name": "stdout",
     "output_type": "stream",
     "text": [
      "    score grade\n",
      "0      75   fre\n",
      "1      85   fre\n",
      "2      34   fre\n",
      "3      23   fre\n",
      "4      99   sop\n",
      "5      84   sop\n",
      "6      17   sop\n",
      "7      56   sop\n",
      "8      43   jun\n",
      "9      22   jun\n",
      "10     88   jun\n",
      "11     71   jun\n",
      "12     97   sen\n",
      "13     44   sen\n",
      "14     82   sen\n",
      "15     74   sen\n",
      "['fre' 'sop' 'jun' 'sen']\n"
     ]
    },
    {
     "data": {
      "text/html": [
       "<div>\n",
       "<style scoped>\n",
       "    .dataframe tbody tr th:only-of-type {\n",
       "        vertical-align: middle;\n",
       "    }\n",
       "\n",
       "    .dataframe tbody tr th {\n",
       "        vertical-align: top;\n",
       "    }\n",
       "\n",
       "    .dataframe thead th {\n",
       "        text-align: right;\n",
       "    }\n",
       "</style>\n",
       "<table border=\"1\" class=\"dataframe\">\n",
       "  <thead>\n",
       "    <tr style=\"text-align: right;\">\n",
       "      <th></th>\n",
       "      <th>df</th>\n",
       "      <th>sum_sq</th>\n",
       "      <th>mean_sq</th>\n",
       "      <th>F</th>\n",
       "      <th>PR(&gt;F)</th>\n",
       "    </tr>\n",
       "  </thead>\n",
       "  <tbody>\n",
       "    <tr>\n",
       "      <th>C(grade)</th>\n",
       "      <td>3.0</td>\n",
       "      <td>1000.25</td>\n",
       "      <td>333.416667</td>\n",
       "      <td>0.372967</td>\n",
       "      <td>0.774051</td>\n",
       "    </tr>\n",
       "    <tr>\n",
       "      <th>Residual</th>\n",
       "      <td>12.0</td>\n",
       "      <td>10727.50</td>\n",
       "      <td>893.958333</td>\n",
       "      <td>NaN</td>\n",
       "      <td>NaN</td>\n",
       "    </tr>\n",
       "  </tbody>\n",
       "</table>\n",
       "</div>"
      ],
      "text/plain": [
       "            df    sum_sq     mean_sq         F    PR(>F)\n",
       "C(grade)   3.0   1000.25  333.416667  0.372967  0.774051\n",
       "Residual  12.0  10727.50  893.958333       NaN       NaN"
      ]
     },
     "execution_count": 37,
     "metadata": {},
     "output_type": "execute_result"
    }
   ],
   "source": [
    "# Excel file read\n",
    "\n",
    "df = pd.read_csv('score1.csv')\n",
    "print(df)\n",
    "\n",
    "print(df.grade.unique())\n",
    "\n",
    "model = ols('score ~ C(grade)', df).fit()\n",
    "anova_lm(model)"
   ]
  },
  {
   "cell_type": "code",
   "execution_count": null,
   "metadata": {},
   "outputs": [],
   "source": [
    "# One-way에서 scipy.stats.f_oneway() 를 사용할 때의 결측치 제거\n",
    "\n",
    "# data[~np.isnan(data)]"
   ]
  },
  {
   "cell_type": "code",
   "execution_count": 39,
   "metadata": {},
   "outputs": [
    {
     "name": "stdout",
     "output_type": "stream",
     "text": [
      "ShapiroResult(statistic=0.8843879699707031, pvalue=0.3577159345149994) \n",
      "\n",
      "ShapiroResult(statistic=0.9550020098686218, pvalue=0.7474660873413086) \n",
      "\n",
      "ShapiroResult(statistic=0.9719060063362122, pvalue=0.8532490134239197) \n",
      "\n",
      "ShapiroResult(statistic=0.9549440145492554, pvalue=0.747101366519928) \n",
      "\n",
      "LeveneResult(statistic=0.6665090995036634, pvalue=0.5885604746273037) \n",
      "\n",
      "BartlettResult(statistic=0.5881874396406543, pvalue=0.8991311844728094)\n"
     ]
    }
   ],
   "source": [
    "#분산분석 하기전에 꼭 하기\n",
    "\n",
    "# 오차의 가정 점검\n",
    "\n",
    "print(spt.shapiro(df.score[df.grade=='fre']),'\\n') #모델의 정규성 검정\n",
    "print(spt.shapiro(df.score[df.grade=='sop']),'\\n')\n",
    "print(spt.shapiro(df.score[df.grade=='jun']),'\\n')\n",
    "print(spt.shapiro(df.score[df.grade=='sen']),'\\n')\n",
    "#p값이 크므로 정규성을 띤다\n",
    "\n",
    "\n",
    "\n",
    "#등분산성 검정\n",
    "print(spt.levene(df.score[df.grade=='fre'],df.score[df.grade=='sop'],df.score[df.grade=='jun'],df.score[df.grade=='sen']),'\\n')\n",
    "print(spt.bartlett(df.score[df.grade=='fre'],df.score[df.grade=='sop'],df.score[df.grade=='jun'],df.score[df.grade=='sen']))"
   ]
  },
  {
   "cell_type": "code",
   "execution_count": 40,
   "metadata": {},
   "outputs": [
    {
     "name": "stdout",
     "output_type": "stream",
     "text": [
      "Test Multiple Comparison ttest_ind \n",
      "FWER=0.05 method=bonf\n",
      "alphacSidak=0.01, alphacBonf=0.008\n",
      "=============================================\n",
      "group1 group2   stat   pval  pval_corr reject\n",
      "---------------------------------------------\n",
      "   fre    jun  -0.083 0.9366       1.0  False\n",
      "   fre    sen -1.0621 0.3291       1.0  False\n",
      "   fre    sop -0.4138 0.6934       1.0  False\n",
      "   jun    sen -0.9914 0.3598       1.0  False\n",
      "   jun    sop -0.3445 0.7422       1.0  False\n",
      "   sen    sop  0.4836 0.6458       1.0  False\n",
      "---------------------------------------------\n"
     ]
    },
    {
     "data": {
      "text/html": [
       "<table class=\"simpletable\">\n",
       "<caption>Multiple Comparison of Means - Tukey HSD, FWER=0.05</caption>\n",
       "<tr>\n",
       "  <th>group1</th> <th>group2</th> <th>meandiff</th>  <th>p-adj</th>   <th>lower</th>   <th>upper</th>  <th>reject</th>\n",
       "</tr>\n",
       "<tr>\n",
       "    <td>fre</td>    <td>jun</td>    <td>1.75</td>     <td>0.9</td>  <td>-61.0255</td> <td>64.5255</td>  <td>False</td>\n",
       "</tr>\n",
       "<tr>\n",
       "    <td>fre</td>    <td>sen</td>    <td>20.0</td>   <td>0.7635</td> <td>-42.7755</td> <td>82.7755</td>  <td>False</td>\n",
       "</tr>\n",
       "<tr>\n",
       "    <td>fre</td>    <td>sop</td>    <td>9.75</td>     <td>0.9</td>  <td>-53.0255</td> <td>72.5255</td>  <td>False</td>\n",
       "</tr>\n",
       "<tr>\n",
       "    <td>jun</td>    <td>sen</td>    <td>18.25</td>  <td>0.8076</td> <td>-44.5255</td> <td>81.0255</td>  <td>False</td>\n",
       "</tr>\n",
       "<tr>\n",
       "    <td>jun</td>    <td>sop</td>     <td>8.0</td>     <td>0.9</td>  <td>-54.7755</td> <td>70.7755</td>  <td>False</td>\n",
       "</tr>\n",
       "<tr>\n",
       "    <td>sen</td>    <td>sop</td>   <td>-10.25</td>    <td>0.9</td>  <td>-73.0255</td> <td>52.5255</td>  <td>False</td>\n",
       "</tr>\n",
       "</table>"
      ],
      "text/plain": [
       "<class 'statsmodels.iolib.table.SimpleTable'>"
      ]
     },
     "execution_count": 40,
     "metadata": {},
     "output_type": "execute_result"
    }
   ],
   "source": [
    "# 사후 검정\n",
    "\n",
    "from statsmodels.sandbox.stats.multicomp import MultiComparison\n",
    "from statsmodels.stats.multicomp import pairwise_tukeyhsd\n",
    "\n",
    "comp = MultiComparison(df.score, df.grade)\n",
    "\n",
    "\n",
    "# Bonferroni\n",
    "opt = comp.allpairtest(spt.ttest_ind, method='bonf')\n",
    "print(opt[0])\n",
    "\n",
    "# Tukey's HSD\n",
    "hsd = pairwise_tukeyhsd(df['score'], df['grade'], alpha=0.05)\n",
    "hsd.summary()"
   ]
  },
  {
   "cell_type": "code",
   "execution_count": 41,
   "metadata": {},
   "outputs": [
    {
     "data": {
      "text/html": [
       "<div>\n",
       "<style scoped>\n",
       "    .dataframe tbody tr th:only-of-type {\n",
       "        vertical-align: middle;\n",
       "    }\n",
       "\n",
       "    .dataframe tbody tr th {\n",
       "        vertical-align: top;\n",
       "    }\n",
       "\n",
       "    .dataframe thead th {\n",
       "        text-align: right;\n",
       "    }\n",
       "</style>\n",
       "<table border=\"1\" class=\"dataframe\">\n",
       "  <thead>\n",
       "    <tr style=\"text-align: right;\">\n",
       "      <th></th>\n",
       "      <th>score</th>\n",
       "      <th>grade</th>\n",
       "      <th>class</th>\n",
       "    </tr>\n",
       "  </thead>\n",
       "  <tbody>\n",
       "    <tr>\n",
       "      <th>0</th>\n",
       "      <td>75</td>\n",
       "      <td>fre</td>\n",
       "      <td>A</td>\n",
       "    </tr>\n",
       "    <tr>\n",
       "      <th>1</th>\n",
       "      <td>85</td>\n",
       "      <td>fre</td>\n",
       "      <td>B</td>\n",
       "    </tr>\n",
       "    <tr>\n",
       "      <th>2</th>\n",
       "      <td>34</td>\n",
       "      <td>fre</td>\n",
       "      <td>A</td>\n",
       "    </tr>\n",
       "    <tr>\n",
       "      <th>3</th>\n",
       "      <td>23</td>\n",
       "      <td>fre</td>\n",
       "      <td>A</td>\n",
       "    </tr>\n",
       "    <tr>\n",
       "      <th>4</th>\n",
       "      <td>99</td>\n",
       "      <td>sop</td>\n",
       "      <td>C</td>\n",
       "    </tr>\n",
       "  </tbody>\n",
       "</table>\n",
       "</div>"
      ],
      "text/plain": [
       "   score grade class\n",
       "0     75   fre     A\n",
       "1     85   fre     B\n",
       "2     34   fre     A\n",
       "3     23   fre     A\n",
       "4     99   sop     C"
      ]
     },
     "execution_count": 41,
     "metadata": {},
     "output_type": "execute_result"
    }
   ],
   "source": [
    "# Two-way ANOVA\n",
    "\n",
    "data2 = pd.read_csv('score2.csv')\n",
    "data2.head()"
   ]
  },
  {
   "cell_type": "code",
   "execution_count": 42,
   "metadata": {},
   "outputs": [
    {
     "data": {
      "text/html": [
       "<div>\n",
       "<style scoped>\n",
       "    .dataframe tbody tr th:only-of-type {\n",
       "        vertical-align: middle;\n",
       "    }\n",
       "\n",
       "    .dataframe tbody tr th {\n",
       "        vertical-align: top;\n",
       "    }\n",
       "\n",
       "    .dataframe thead th {\n",
       "        text-align: right;\n",
       "    }\n",
       "</style>\n",
       "<table border=\"1\" class=\"dataframe\">\n",
       "  <thead>\n",
       "    <tr style=\"text-align: right;\">\n",
       "      <th></th>\n",
       "      <th>score</th>\n",
       "      <th>grade</th>\n",
       "    </tr>\n",
       "    <tr>\n",
       "      <th>class</th>\n",
       "      <th></th>\n",
       "      <th></th>\n",
       "    </tr>\n",
       "  </thead>\n",
       "  <tbody>\n",
       "    <tr>\n",
       "      <th>A</th>\n",
       "      <td>4</td>\n",
       "      <td>4</td>\n",
       "    </tr>\n",
       "    <tr>\n",
       "      <th>B</th>\n",
       "      <td>4</td>\n",
       "      <td>4</td>\n",
       "    </tr>\n",
       "    <tr>\n",
       "      <th>C</th>\n",
       "      <td>4</td>\n",
       "      <td>4</td>\n",
       "    </tr>\n",
       "    <tr>\n",
       "      <th>D</th>\n",
       "      <td>4</td>\n",
       "      <td>4</td>\n",
       "    </tr>\n",
       "  </tbody>\n",
       "</table>\n",
       "</div>"
      ],
      "text/plain": [
       "       score  grade\n",
       "class              \n",
       "A          4      4\n",
       "B          4      4\n",
       "C          4      4\n",
       "D          4      4"
      ]
     },
     "execution_count": 42,
     "metadata": {},
     "output_type": "execute_result"
    }
   ],
   "source": [
    "#data2.groupby('grade').agg(len)\n",
    "data2.groupby('class').agg(len)\n",
    "#data2.groupby(['grade', 'class']).agg(len)"
   ]
  },
  {
   "cell_type": "code",
   "execution_count": 43,
   "metadata": {},
   "outputs": [
    {
     "data": {
      "text/html": [
       "<div>\n",
       "<style scoped>\n",
       "    .dataframe tbody tr th:only-of-type {\n",
       "        vertical-align: middle;\n",
       "    }\n",
       "\n",
       "    .dataframe tbody tr th {\n",
       "        vertical-align: top;\n",
       "    }\n",
       "\n",
       "    .dataframe thead th {\n",
       "        text-align: right;\n",
       "    }\n",
       "</style>\n",
       "<table border=\"1\" class=\"dataframe\">\n",
       "  <thead>\n",
       "    <tr style=\"text-align: right;\">\n",
       "      <th></th>\n",
       "      <th>weekday</th>\n",
       "      <th>weather</th>\n",
       "      <th>sales</th>\n",
       "    </tr>\n",
       "  </thead>\n",
       "  <tbody>\n",
       "    <tr>\n",
       "      <th>0</th>\n",
       "      <td>sat</td>\n",
       "      <td>rain</td>\n",
       "      <td>100</td>\n",
       "    </tr>\n",
       "    <tr>\n",
       "      <th>1</th>\n",
       "      <td>sat</td>\n",
       "      <td>rain</td>\n",
       "      <td>100</td>\n",
       "    </tr>\n",
       "    <tr>\n",
       "      <th>2</th>\n",
       "      <td>sat</td>\n",
       "      <td>rain</td>\n",
       "      <td>100</td>\n",
       "    </tr>\n",
       "    <tr>\n",
       "      <th>3</th>\n",
       "      <td>sat</td>\n",
       "      <td>rain</td>\n",
       "      <td>100</td>\n",
       "    </tr>\n",
       "    <tr>\n",
       "      <th>4</th>\n",
       "      <td>sat</td>\n",
       "      <td>rain</td>\n",
       "      <td>100</td>\n",
       "    </tr>\n",
       "    <tr>\n",
       "      <th>5</th>\n",
       "      <td>sat</td>\n",
       "      <td>sun</td>\n",
       "      <td>10000</td>\n",
       "    </tr>\n",
       "    <tr>\n",
       "      <th>6</th>\n",
       "      <td>sun</td>\n",
       "      <td>sun</td>\n",
       "      <td>10000</td>\n",
       "    </tr>\n",
       "    <tr>\n",
       "      <th>7</th>\n",
       "      <td>sun</td>\n",
       "      <td>sun</td>\n",
       "      <td>10000</td>\n",
       "    </tr>\n",
       "    <tr>\n",
       "      <th>8</th>\n",
       "      <td>sun</td>\n",
       "      <td>sun</td>\n",
       "      <td>10000</td>\n",
       "    </tr>\n",
       "    <tr>\n",
       "      <th>9</th>\n",
       "      <td>sun</td>\n",
       "      <td>sun</td>\n",
       "      <td>10000</td>\n",
       "    </tr>\n",
       "  </tbody>\n",
       "</table>\n",
       "</div>"
      ],
      "text/plain": [
       "  weekday weather  sales\n",
       "0     sat    rain    100\n",
       "1     sat    rain    100\n",
       "2     sat    rain    100\n",
       "3     sat    rain    100\n",
       "4     sat    rain    100\n",
       "5     sat     sun  10000\n",
       "6     sun     sun  10000\n",
       "7     sun     sun  10000\n",
       "8     sun     sun  10000\n",
       "9     sun     sun  10000"
      ]
     },
     "execution_count": 43,
     "metadata": {},
     "output_type": "execute_result"
    }
   ],
   "source": [
    "# statsmodels anova_lm type : Referred https://jooskorstanje.com/anova-types-of-sums-of-squares-notebook.html\n",
    "\n",
    "weekday = ['sat', 'sat', 'sat', 'sat', 'sat', 'sat', 'sun', 'sun', 'sun', 'sun']\n",
    "weather = ['rain', 'rain', 'rain', 'rain', 'rain', 'sun', 'sun', 'sun', 'sun', 'sun']\n",
    "sales = [100, 100, 100, 100, 100, 10000, 10000, 10000, 10000, 10000]\n",
    "\n",
    "data = pd.DataFrame({'weekday': weekday, 'weather': weather, 'sales': sales})\n",
    "data"
   ]
  },
  {
   "cell_type": "code",
   "execution_count": 44,
   "metadata": {},
   "outputs": [
    {
     "name": "stdout",
     "output_type": "stream",
     "text": [
      "                        df        sum_sq       mean_sq             F  \\\n",
      "C(weekday)             1.0  1.633500e+08  1.633500e+08  9.487416e+30   \n",
      "C(weather)             1.0  8.167500e+07  8.167500e+07  4.743708e+30   \n",
      "C(weekday):C(weather)  1.0  5.586170e-24  5.586170e-24  3.244464e-01   \n",
      "Residual               7.0  1.205228e-22  1.721754e-23           NaN   \n",
      "\n",
      "                              PR(>F)  \n",
      "C(weekday)             1.004055e-106  \n",
      "C(weather)             1.135958e-105  \n",
      "C(weekday):C(weather)   5.867533e-01  \n",
      "Residual                         NaN  \n"
     ]
    }
   ],
   "source": [
    "# Type I tells us that weekday is more important. The interaction effect is not signifcant.\n",
    "lm = ols('sales ~ C(weekday)*C(weather)',data=data).fit()\n",
    "table = sm.stats.anova_lm(lm, typ=1) # Type 1 ANOVA DataFrame\n",
    "print(table)\n",
    "\n",
    "#교호작용 고려"
   ]
  },
  {
   "cell_type": "code",
   "execution_count": 45,
   "metadata": {},
   "outputs": [
    {
     "name": "stdout",
     "output_type": "stream",
     "text": [
      "                  sum_sq   df             F         PR(>F)\n",
      "C(weekday)  4.235165e-23  1.0  3.088823e-01   5.956752e-01\n",
      "C(weather)  8.167500e+07  1.0  5.956784e+29  1.618951e-102\n",
      "Residual    9.597880e-22  7.0           NaN            NaN\n"
     ]
    }
   ],
   "source": [
    "# Type II tells us that weather is more important. There is no interaction effect.\n",
    "lm = ols('sales ~ C(weekday) + C(weather)',data=data).fit()\n",
    "table = sm.stats.anova_lm(lm, typ=2) # Type 2 ANOVA DataFrame\n",
    "print(table)\n",
    "\n",
    "#교호작용 제거"
   ]
  },
  {
   "cell_type": "code",
   "execution_count": 46,
   "metadata": {},
   "outputs": [
    {
     "name": "stdout",
     "output_type": "stream",
     "text": [
      "                             sum_sq   df             F         PR(>F)\n",
      "Intercept              5.000000e+04  1.0  2.904015e+27   2.001148e-94\n",
      "C(weekday)             1.654361e-23  1.0  9.608579e-01   3.596265e-01\n",
      "C(weather)             8.167500e+07  1.0  4.743708e+30  1.135958e-105\n",
      "C(weekday):C(weather)  5.955700e-24  1.0  3.459088e-01   5.749144e-01\n",
      "Residual               1.205228e-22  7.0           NaN            NaN\n"
     ]
    }
   ],
   "source": [
    "# Type III tells us that weekday is more important. The interaction effect is not signifcant.\n",
    "lm = ols('sales ~ C(weekday)*C(weather)',data=data).fit()\n",
    "table = sm.stats.anova_lm(lm, typ=3) # Type 3 ANOVA DataFrame\n",
    "print(table)"
   ]
  }
 ],
 "metadata": {
  "kernelspec": {
   "display_name": "Python 3",
   "language": "python",
   "name": "python3"
  },
  "language_info": {
   "codemirror_mode": {
    "name": "ipython",
    "version": 3
   },
   "file_extension": ".py",
   "mimetype": "text/x-python",
   "name": "python",
   "nbconvert_exporter": "python",
   "pygments_lexer": "ipython3",
   "version": "3.8.5"
  },
  "toc": {
   "base_numbering": 1,
   "nav_menu": {},
   "number_sections": true,
   "sideBar": true,
   "skip_h1_title": false,
   "title_cell": "Table of Contents",
   "title_sidebar": "Contents",
   "toc_cell": false,
   "toc_position": {},
   "toc_section_display": true,
   "toc_window_display": false
  }
 },
 "nbformat": 4,
 "nbformat_minor": 4
}

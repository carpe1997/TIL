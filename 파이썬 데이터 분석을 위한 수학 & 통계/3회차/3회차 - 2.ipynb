{
 "cells": [
  {
   "cell_type": "code",
   "execution_count": 3,
   "metadata": {},
   "outputs": [
    {
     "name": "stdout",
     "output_type": "stream",
     "text": [
      "   X1 X2\n",
      "1   1  1\n",
      "2   2  1\n",
      "3   3  1\n",
      "4   4  1\n",
      "5   5  1\n",
      "6   6  1\n",
      "7   1  2\n",
      "8   2  2\n",
      "9   3  2\n",
      "10  4  2\n",
      "11  5  2\n",
      "12  6  2\n",
      "13  1  3\n",
      "14  2  3\n",
      "15  3  3\n",
      "16  4  3\n",
      "17  5  3\n",
      "18  6  3\n",
      "19  1  4\n",
      "20  2  4\n",
      "21  3  4\n",
      "22  4  4\n",
      "23  5  4\n",
      "24  6  4\n",
      "25  1  5\n",
      "26  2  5\n",
      "27  3  5\n",
      "28  4  5\n",
      "29  5  5\n",
      "30  6  5\n",
      "31  1  6\n",
      "32  2  6\n",
      "33  3  6\n",
      "34  4  6\n",
      "35  5  6\n",
      "36  6  6\n",
      "\n"
     ]
    }
   ],
   "source": [
    "import rpy2.robjects as robjs\n",
    "import scipy.stats as spt\n",
    "import numpy as np\n",
    "import pandas as pd\n",
    "\n",
    "robjs.r['load'](\"class1.RData\")\n",
    "S=robjs.r['S']\n",
    "print(S)"
   ]
  },
  {
   "cell_type": "code",
   "execution_count": 4,
   "metadata": {},
   "outputs": [
    {
     "name": "stdout",
     "output_type": "stream",
     "text": [
      "Ttest_1sampResult(statistic=array([0.26804796]), pvalue=array([0.7897876]))\n",
      "Ttest_1sampResult(statistic=array([4.31917448]), pvalue=array([7.61521386e-05]))\n"
     ]
    }
   ],
   "source": [
    "# 단일 모집단 검정\n",
    "\n",
    "import rpy2.robjects as robjs\n",
    "\n",
    "rng = np.random.default_rng()\n",
    "rvs = spt.norm.rvs(loc=5, scale=10, size=(50, 1), random_state=rng) #평균 5, 표준편차 10\n",
    "ss=spt.ttest_1samp(rvs, 5.0) # 1 샘플, 5.0은 귀무가설\n",
    "print(ss)\n",
    "print(spt.ttest_1samp(rvs, 0.0))\n",
    "\n",
    "robjs.r['load'](\"class3.RData\")\n",
    "ex1=robjs.r['exa10_9']\n",
    "\n",
    "tt=spt.ttest_1samp(ex1,np.mean(ex1))\n",
    "\n",
    "#t에서 통계량 0.26804796"
   ]
  },
  {
   "cell_type": "code",
   "execution_count": 5,
   "metadata": {},
   "outputs": [
    {
     "name": "stdout",
     "output_type": "stream",
     "text": [
      "Power_divergenceResult(statistic=2.0, pvalue=0.8491450360846096)\n",
      "Power_divergenceResult(statistic=3.5, pvalue=0.6233876277495822)\n",
      "Power_divergenceResult(statistic=2.0, pvalue=array([0.84914504, 0.73575888, 0.5724067 ]))\n",
      "Power_divergenceResult(statistic=15.7, pvalue=0.007754884452437289)\n",
      "     [,1] [,2] [,3] [,4] [,5]\n",
      "[1,]   20   16   29   21   14\n",
      "[2,]   14   22   26   25   13\n",
      "[3,]   18   24   32   18    8\n",
      "[4,]    8   18   33   16   25\n",
      "\n",
      "chi2 value is  21.166666666666668 \n",
      "p-value is  0.047992500621633336 \n",
      "degree of freedom is  12 \n",
      "expected values are \n",
      " [[15. 20. 30. 20. 15.]\n",
      " [15. 20. 30. 20. 15.]\n",
      " [15. 20. 30. 20. 15.]\n",
      " [15. 20. 30. 20. 15.]]\n"
     ]
    }
   ],
   "source": [
    "# 카이제곱 검정 (적합도)\n",
    "\n",
    "print(spt.chisquare([16, 18, 16, 14, 12, 12]))\n",
    "\n",
    "print(spt.chisquare([16, 18, 16, 14, 12, 12], f_exp=[16, 16, 16, 16, 16, 8]))\n",
    "\n",
    "print(spt.chisquare([16, 18, 16, 14, 12, 12], ddof=[0,1,2]))\n",
    "\n",
    "obs=np.array([31,26,22,18,13,10])\n",
    "print(spt.chisquare(obs))\n",
    "\n",
    "# 교차분석\n",
    "\n",
    "ss=robjs.r['exa12_5']\n",
    "print(ss)\n",
    "\n",
    "ch2,pval,df,evl=spt.chi2_contingency(observed=ss)\n",
    "\n",
    "print('chi2 value is ',ch2,'\\np-value is ',pval,'\\ndegree of freedom is ',df,'\\nexpected values are \\n',evl)"
   ]
  },
  {
   "cell_type": "code",
   "execution_count": 8,
   "metadata": {},
   "outputs": [
    {
     "data": {
      "image/png": "[encoded data removed]",
      "text/plain": [
       "<Figure size 432x288 with 1 Axes>"
      ]
     },
     "metadata": {
      "needs_background": "light"
     },
     "output_type": "display_data"
    },
    {
     "data": {
      "image/png": "[encoded data removed]",
      "text/plain": [
       "<Figure size 432x288 with 1 Axes>"
      ]
     },
     "metadata": {
      "needs_background": "light"
     },
     "output_type": "display_data"
    },
    {
     "name": "stdout",
     "output_type": "stream",
     "text": [
      "F_onewayResult(statistic=1.171534108991306, pvalue=0.31473131164363166)\n",
      "F_onewayResult(statistic=78.51047905182283, pvalue=2.852694074293974e-13)\n"
     ]
    }
   ],
   "source": [
    "# One way ANOVA\n",
    "\n",
    "np.random.seed(5)\n",
    "\n",
    "grp1=np.random.normal(3,4,30)\n",
    "grp2=np.random.normal(3.1,4.1,30)\n",
    "grp3=np.random.normal(2.84,4.3,30)\n",
    "\n",
    "grp=[grp1,grp2,grp3]\n",
    "\n",
    "import seaborn as sb\n",
    "import matplotlib.pyplot as plt\n",
    "\n",
    "sb.kdeplot(grp1)\n",
    "sb.kdeplot(grp2)\n",
    "sb.kdeplot(grp3)\n",
    "plt.show()\n",
    "\n",
    "sb.boxplot(data=grp)\n",
    "plt.show()\n",
    "\n",
    "print(spt.f_oneway(grp1,grp2,grp3))\n",
    "F_stat,pval=spt.f_oneway(*grp)\n",
    "\n",
    "ttt=robjs.r['exa13_6']\n",
    "\n",
    "print(spt.f_oneway(ttt[0],ttt[1],ttt[2]))"
   ]
  },
  {
   "cell_type": "code",
   "execution_count": null,
   "metadata": {},
   "outputs": [],
   "source": []
  }
 ],
 "metadata": {
  "kernelspec": {
   "display_name": "Python 3",
   "language": "python",
   "name": "python3"
  },
  "language_info": {
   "codemirror_mode": {
    "name": "ipython",
    "version": 3
   },
   "file_extension": ".py",
   "mimetype": "text/x-python",
   "name": "python",
   "nbconvert_exporter": "python",
   "pygments_lexer": "ipython3",
   "version": "3.8.5"
  },
  "toc": {
   "base_numbering": 1,
   "nav_menu": {},
   "number_sections": true,
   "sideBar": true,
   "skip_h1_title": false,
   "title_cell": "Table of Contents",
   "title_sidebar": "Contents",
   "toc_cell": false,
   "toc_position": {},
   "toc_section_display": true,
   "toc_window_display": false
  }
 },
 "nbformat": 4,
 "nbformat_minor": 4
}

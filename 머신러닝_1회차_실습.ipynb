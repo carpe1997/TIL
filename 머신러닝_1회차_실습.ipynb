{
  "nbformat": 4,
  "nbformat_minor": 0,
  "metadata": {
    "colab": {
      "name": "머신러닝 1회차 실습.ipynb",
      "provenance": [],
      "collapsed_sections": [],
      "mount_file_id": "1Igr87_S0i5NEBO53R-6QYN9dly2YA7J1",
      "authorship_tag": "ABX9TyNfgDdkEbhDSyqZoMDiDf1w"
    },
    "kernelspec": {
      "name": "python3",
      "display_name": "Python 3"
    },
    "language_info": {
      "name": "python"
    }
  },
  "cells": [
    {
      "cell_type": "markdown",
      "metadata": {
        "id": "iaB1Dp8ACxyY"
      },
      "source": [
        "# 결정트리를 이용한 멜버른 집값 예측"
      ]
    },
    {
      "cell_type": "code",
      "metadata": {
        "colab": {
          "base_uri": "https://localhost:8080/"
        },
        "id": "Qw8mYQ9K61vB",
        "outputId": "768b0f81-68ce-41a7-811e-cd07a1fe227f"
      },
      "source": [
        "!ls drive/MyDrive"
      ],
      "execution_count": 44,
      "outputs": [
        {
          "output_type": "stream",
          "name": "stdout",
          "text": [
            " Classroom  'Colab Notebooks'   ml\n"
          ]
        }
      ]
    },
    {
      "cell_type": "code",
      "metadata": {
        "colab": {
          "base_uri": "https://localhost:8080/"
        },
        "id": "0f4l-_px7CdS",
        "outputId": "397a8aa2-b234-4bf3-ec22-4756f869742e"
      },
      "source": [
        "!ls drive/MyDrive/data"
      ],
      "execution_count": 45,
      "outputs": [
        {
          "output_type": "stream",
          "name": "stdout",
          "text": [
            "ls: cannot access 'drive/MyDrive/data': No such file or directory\n"
          ]
        }
      ]
    },
    {
      "cell_type": "markdown",
      "metadata": {
        "id": "6DKEcMqWC34w"
      },
      "source": [
        "## 데이터 불러오기, 모델 학습 및 예측\n"
      ]
    },
    {
      "cell_type": "code",
      "metadata": {
        "id": "xkhI6Y537MeZ"
      },
      "source": [
        "import numpy as np\n",
        "import pandas as pd\n",
        "\n",
        "from sklearn.model_selection import train_test_split\n",
        "from sklearn.tree import DecisionTreeRegressor\n",
        "from sklearn.metrics import mean_squared_error, r2_score, f1_score, precision_score"
      ],
      "execution_count": 46,
      "outputs": []
    },
    {
      "cell_type": "code",
      "metadata": {
        "colab": {
          "base_uri": "https://localhost:8080/",
          "height": 422
        },
        "id": "Fu_qy65T9G0U",
        "outputId": "b6cb489d-7e77-4613-8013-17af008bebe4"
      },
      "source": [
        "melbourne_file_path = 'drive/MyDrive/data/melb_data.csv'\n",
        "melbourne_data = pd.read_csv(melbourne_file_path)\n",
        "melbourne_data.columns"
      ],
      "execution_count": 47,
      "outputs": [
        {
          "output_type": "error",
          "ename": "FileNotFoundError",
          "evalue": "ignored",
          "traceback": [
            "\u001b[0;31m---------------------------------------------------------------------------\u001b[0m",
            "\u001b[0;31mFileNotFoundError\u001b[0m                         Traceback (most recent call last)",
            "\u001b[0;32m<ipython-input-47-d09feb4b76d9>\u001b[0m in \u001b[0;36m<module>\u001b[0;34m()\u001b[0m\n\u001b[1;32m      1\u001b[0m \u001b[0mmelbourne_file_path\u001b[0m \u001b[0;34m=\u001b[0m \u001b[0;34m'drive/MyDrive/data/melb_data.csv'\u001b[0m\u001b[0;34m\u001b[0m\u001b[0;34m\u001b[0m\u001b[0m\n\u001b[0;32m----> 2\u001b[0;31m \u001b[0mmelbourne_data\u001b[0m \u001b[0;34m=\u001b[0m \u001b[0mpd\u001b[0m\u001b[0;34m.\u001b[0m\u001b[0mread_csv\u001b[0m\u001b[0;34m(\u001b[0m\u001b[0mmelbourne_file_path\u001b[0m\u001b[0;34m)\u001b[0m\u001b[0;34m\u001b[0m\u001b[0;34m\u001b[0m\u001b[0m\n\u001b[0m\u001b[1;32m      3\u001b[0m \u001b[0mmelbourne_data\u001b[0m\u001b[0;34m.\u001b[0m\u001b[0mcolumns\u001b[0m\u001b[0;34m\u001b[0m\u001b[0;34m\u001b[0m\u001b[0m\n",
            "\u001b[0;32m/usr/local/lib/python3.7/dist-packages/pandas/io/parsers.py\u001b[0m in \u001b[0;36mread_csv\u001b[0;34m(filepath_or_buffer, sep, delimiter, header, names, index_col, usecols, squeeze, prefix, mangle_dupe_cols, dtype, engine, converters, true_values, false_values, skipinitialspace, skiprows, skipfooter, nrows, na_values, keep_default_na, na_filter, verbose, skip_blank_lines, parse_dates, infer_datetime_format, keep_date_col, date_parser, dayfirst, cache_dates, iterator, chunksize, compression, thousands, decimal, lineterminator, quotechar, quoting, doublequote, escapechar, comment, encoding, dialect, error_bad_lines, warn_bad_lines, delim_whitespace, low_memory, memory_map, float_precision)\u001b[0m\n\u001b[1;32m    686\u001b[0m     )\n\u001b[1;32m    687\u001b[0m \u001b[0;34m\u001b[0m\u001b[0m\n\u001b[0;32m--> 688\u001b[0;31m     \u001b[0;32mreturn\u001b[0m \u001b[0m_read\u001b[0m\u001b[0;34m(\u001b[0m\u001b[0mfilepath_or_buffer\u001b[0m\u001b[0;34m,\u001b[0m \u001b[0mkwds\u001b[0m\u001b[0;34m)\u001b[0m\u001b[0;34m\u001b[0m\u001b[0;34m\u001b[0m\u001b[0m\n\u001b[0m\u001b[1;32m    689\u001b[0m \u001b[0;34m\u001b[0m\u001b[0m\n\u001b[1;32m    690\u001b[0m \u001b[0;34m\u001b[0m\u001b[0m\n",
            "\u001b[0;32m/usr/local/lib/python3.7/dist-packages/pandas/io/parsers.py\u001b[0m in \u001b[0;36m_read\u001b[0;34m(filepath_or_buffer, kwds)\u001b[0m\n\u001b[1;32m    452\u001b[0m \u001b[0;34m\u001b[0m\u001b[0m\n\u001b[1;32m    453\u001b[0m     \u001b[0;31m# Create the parser.\u001b[0m\u001b[0;34m\u001b[0m\u001b[0;34m\u001b[0m\u001b[0;34m\u001b[0m\u001b[0m\n\u001b[0;32m--> 454\u001b[0;31m     \u001b[0mparser\u001b[0m \u001b[0;34m=\u001b[0m \u001b[0mTextFileReader\u001b[0m\u001b[0;34m(\u001b[0m\u001b[0mfp_or_buf\u001b[0m\u001b[0;34m,\u001b[0m \u001b[0;34m**\u001b[0m\u001b[0mkwds\u001b[0m\u001b[0;34m)\u001b[0m\u001b[0;34m\u001b[0m\u001b[0;34m\u001b[0m\u001b[0m\n\u001b[0m\u001b[1;32m    455\u001b[0m \u001b[0;34m\u001b[0m\u001b[0m\n\u001b[1;32m    456\u001b[0m     \u001b[0;32mif\u001b[0m \u001b[0mchunksize\u001b[0m \u001b[0;32mor\u001b[0m \u001b[0miterator\u001b[0m\u001b[0;34m:\u001b[0m\u001b[0;34m\u001b[0m\u001b[0;34m\u001b[0m\u001b[0m\n",
            "\u001b[0;32m/usr/local/lib/python3.7/dist-packages/pandas/io/parsers.py\u001b[0m in \u001b[0;36m__init__\u001b[0;34m(self, f, engine, **kwds)\u001b[0m\n\u001b[1;32m    946\u001b[0m             \u001b[0mself\u001b[0m\u001b[0;34m.\u001b[0m\u001b[0moptions\u001b[0m\u001b[0;34m[\u001b[0m\u001b[0;34m\"has_index_names\"\u001b[0m\u001b[0;34m]\u001b[0m \u001b[0;34m=\u001b[0m \u001b[0mkwds\u001b[0m\u001b[0;34m[\u001b[0m\u001b[0;34m\"has_index_names\"\u001b[0m\u001b[0;34m]\u001b[0m\u001b[0;34m\u001b[0m\u001b[0;34m\u001b[0m\u001b[0m\n\u001b[1;32m    947\u001b[0m \u001b[0;34m\u001b[0m\u001b[0m\n\u001b[0;32m--> 948\u001b[0;31m         \u001b[0mself\u001b[0m\u001b[0;34m.\u001b[0m\u001b[0m_make_engine\u001b[0m\u001b[0;34m(\u001b[0m\u001b[0mself\u001b[0m\u001b[0;34m.\u001b[0m\u001b[0mengine\u001b[0m\u001b[0;34m)\u001b[0m\u001b[0;34m\u001b[0m\u001b[0;34m\u001b[0m\u001b[0m\n\u001b[0m\u001b[1;32m    949\u001b[0m \u001b[0;34m\u001b[0m\u001b[0m\n\u001b[1;32m    950\u001b[0m     \u001b[0;32mdef\u001b[0m \u001b[0mclose\u001b[0m\u001b[0;34m(\u001b[0m\u001b[0mself\u001b[0m\u001b[0;34m)\u001b[0m\u001b[0;34m:\u001b[0m\u001b[0;34m\u001b[0m\u001b[0;34m\u001b[0m\u001b[0m\n",
            "\u001b[0;32m/usr/local/lib/python3.7/dist-packages/pandas/io/parsers.py\u001b[0m in \u001b[0;36m_make_engine\u001b[0;34m(self, engine)\u001b[0m\n\u001b[1;32m   1178\u001b[0m     \u001b[0;32mdef\u001b[0m \u001b[0m_make_engine\u001b[0m\u001b[0;34m(\u001b[0m\u001b[0mself\u001b[0m\u001b[0;34m,\u001b[0m \u001b[0mengine\u001b[0m\u001b[0;34m=\u001b[0m\u001b[0;34m\"c\"\u001b[0m\u001b[0;34m)\u001b[0m\u001b[0;34m:\u001b[0m\u001b[0;34m\u001b[0m\u001b[0;34m\u001b[0m\u001b[0m\n\u001b[1;32m   1179\u001b[0m         \u001b[0;32mif\u001b[0m \u001b[0mengine\u001b[0m \u001b[0;34m==\u001b[0m \u001b[0;34m\"c\"\u001b[0m\u001b[0;34m:\u001b[0m\u001b[0;34m\u001b[0m\u001b[0;34m\u001b[0m\u001b[0m\n\u001b[0;32m-> 1180\u001b[0;31m             \u001b[0mself\u001b[0m\u001b[0;34m.\u001b[0m\u001b[0m_engine\u001b[0m \u001b[0;34m=\u001b[0m \u001b[0mCParserWrapper\u001b[0m\u001b[0;34m(\u001b[0m\u001b[0mself\u001b[0m\u001b[0;34m.\u001b[0m\u001b[0mf\u001b[0m\u001b[0;34m,\u001b[0m \u001b[0;34m**\u001b[0m\u001b[0mself\u001b[0m\u001b[0;34m.\u001b[0m\u001b[0moptions\u001b[0m\u001b[0;34m)\u001b[0m\u001b[0;34m\u001b[0m\u001b[0;34m\u001b[0m\u001b[0m\n\u001b[0m\u001b[1;32m   1181\u001b[0m         \u001b[0;32melse\u001b[0m\u001b[0;34m:\u001b[0m\u001b[0;34m\u001b[0m\u001b[0;34m\u001b[0m\u001b[0m\n\u001b[1;32m   1182\u001b[0m             \u001b[0;32mif\u001b[0m \u001b[0mengine\u001b[0m \u001b[0;34m==\u001b[0m \u001b[0;34m\"python\"\u001b[0m\u001b[0;34m:\u001b[0m\u001b[0;34m\u001b[0m\u001b[0;34m\u001b[0m\u001b[0m\n",
            "\u001b[0;32m/usr/local/lib/python3.7/dist-packages/pandas/io/parsers.py\u001b[0m in \u001b[0;36m__init__\u001b[0;34m(self, src, **kwds)\u001b[0m\n\u001b[1;32m   2008\u001b[0m         \u001b[0mkwds\u001b[0m\u001b[0;34m[\u001b[0m\u001b[0;34m\"usecols\"\u001b[0m\u001b[0;34m]\u001b[0m \u001b[0;34m=\u001b[0m \u001b[0mself\u001b[0m\u001b[0;34m.\u001b[0m\u001b[0musecols\u001b[0m\u001b[0;34m\u001b[0m\u001b[0;34m\u001b[0m\u001b[0m\n\u001b[1;32m   2009\u001b[0m \u001b[0;34m\u001b[0m\u001b[0m\n\u001b[0;32m-> 2010\u001b[0;31m         \u001b[0mself\u001b[0m\u001b[0;34m.\u001b[0m\u001b[0m_reader\u001b[0m \u001b[0;34m=\u001b[0m \u001b[0mparsers\u001b[0m\u001b[0;34m.\u001b[0m\u001b[0mTextReader\u001b[0m\u001b[0;34m(\u001b[0m\u001b[0msrc\u001b[0m\u001b[0;34m,\u001b[0m \u001b[0;34m**\u001b[0m\u001b[0mkwds\u001b[0m\u001b[0;34m)\u001b[0m\u001b[0;34m\u001b[0m\u001b[0;34m\u001b[0m\u001b[0m\n\u001b[0m\u001b[1;32m   2011\u001b[0m         \u001b[0mself\u001b[0m\u001b[0;34m.\u001b[0m\u001b[0munnamed_cols\u001b[0m \u001b[0;34m=\u001b[0m \u001b[0mself\u001b[0m\u001b[0;34m.\u001b[0m\u001b[0m_reader\u001b[0m\u001b[0;34m.\u001b[0m\u001b[0munnamed_cols\u001b[0m\u001b[0;34m\u001b[0m\u001b[0;34m\u001b[0m\u001b[0m\n\u001b[1;32m   2012\u001b[0m \u001b[0;34m\u001b[0m\u001b[0m\n",
            "\u001b[0;32mpandas/_libs/parsers.pyx\u001b[0m in \u001b[0;36mpandas._libs.parsers.TextReader.__cinit__\u001b[0;34m()\u001b[0m\n",
            "\u001b[0;32mpandas/_libs/parsers.pyx\u001b[0m in \u001b[0;36mpandas._libs.parsers.TextReader._setup_parser_source\u001b[0;34m()\u001b[0m\n",
            "\u001b[0;31mFileNotFoundError\u001b[0m: [Errno 2] No such file or directory: 'drive/MyDrive/data/melb_data.csv'"
          ]
        }
      ]
    },
    {
      "cell_type": "code",
      "metadata": {
        "colab": {
          "base_uri": "https://localhost:8080/"
        },
        "id": "ao6s-tP29eUU",
        "outputId": "6a7ca47f-5c59-45d2-b35f-289426a799a5"
      },
      "source": [
        "y = melbourne_data.Price\n",
        "y"
      ],
      "execution_count": 48,
      "outputs": [
        {
          "output_type": "execute_result",
          "data": {
            "text/plain": [
              "0        1480000.0\n",
              "1        1035000.0\n",
              "2        1465000.0\n",
              "3         850000.0\n",
              "4        1600000.0\n",
              "           ...    \n",
              "13575    1245000.0\n",
              "13576    1031000.0\n",
              "13577    1170000.0\n",
              "13578    2500000.0\n",
              "13579    1285000.0\n",
              "Name: Price, Length: 13580, dtype: float64"
            ]
          },
          "metadata": {},
          "execution_count": 48
        }
      ]
    },
    {
      "cell_type": "code",
      "metadata": {
        "id": "0_vam1R09eXP"
      },
      "source": [
        "melbourne_features = ['Rooms','Bathroom','Landsize','Lattitude','Longtitude']"
      ],
      "execution_count": 67,
      "outputs": []
    },
    {
      "cell_type": "code",
      "metadata": {
        "colab": {
          "base_uri": "https://localhost:8080/",
          "height": 417
        },
        "id": "x5fhpSVX9eZ3",
        "outputId": "994509d8-17b9-4dc9-c472-ae8f923a0f93"
      },
      "source": [
        "X = melbourne_data[melbourne_features]\n",
        "X"
      ],
      "execution_count": 68,
      "outputs": [
        {
          "output_type": "execute_result",
          "data": {
            "text/html": [
              "<div>\n",
              "<style scoped>\n",
              "    .dataframe tbody tr th:only-of-type {\n",
              "        vertical-align: middle;\n",
              "    }\n",
              "\n",
              "    .dataframe tbody tr th {\n",
              "        vertical-align: top;\n",
              "    }\n",
              "\n",
              "    .dataframe thead th {\n",
              "        text-align: right;\n",
              "    }\n",
              "</style>\n",
              "<table border=\"1\" class=\"dataframe\">\n",
              "  <thead>\n",
              "    <tr style=\"text-align: right;\">\n",
              "      <th></th>\n",
              "      <th>Rooms</th>\n",
              "      <th>Bathroom</th>\n",
              "      <th>Landsize</th>\n",
              "      <th>Lattitude</th>\n",
              "      <th>Longtitude</th>\n",
              "    </tr>\n",
              "  </thead>\n",
              "  <tbody>\n",
              "    <tr>\n",
              "      <th>0</th>\n",
              "      <td>2</td>\n",
              "      <td>1.0</td>\n",
              "      <td>202.0</td>\n",
              "      <td>-37.79960</td>\n",
              "      <td>144.99840</td>\n",
              "    </tr>\n",
              "    <tr>\n",
              "      <th>1</th>\n",
              "      <td>2</td>\n",
              "      <td>1.0</td>\n",
              "      <td>156.0</td>\n",
              "      <td>-37.80790</td>\n",
              "      <td>144.99340</td>\n",
              "    </tr>\n",
              "    <tr>\n",
              "      <th>2</th>\n",
              "      <td>3</td>\n",
              "      <td>2.0</td>\n",
              "      <td>134.0</td>\n",
              "      <td>-37.80930</td>\n",
              "      <td>144.99440</td>\n",
              "    </tr>\n",
              "    <tr>\n",
              "      <th>3</th>\n",
              "      <td>3</td>\n",
              "      <td>2.0</td>\n",
              "      <td>94.0</td>\n",
              "      <td>-37.79690</td>\n",
              "      <td>144.99690</td>\n",
              "    </tr>\n",
              "    <tr>\n",
              "      <th>4</th>\n",
              "      <td>4</td>\n",
              "      <td>1.0</td>\n",
              "      <td>120.0</td>\n",
              "      <td>-37.80720</td>\n",
              "      <td>144.99410</td>\n",
              "    </tr>\n",
              "    <tr>\n",
              "      <th>...</th>\n",
              "      <td>...</td>\n",
              "      <td>...</td>\n",
              "      <td>...</td>\n",
              "      <td>...</td>\n",
              "      <td>...</td>\n",
              "    </tr>\n",
              "    <tr>\n",
              "      <th>13575</th>\n",
              "      <td>4</td>\n",
              "      <td>2.0</td>\n",
              "      <td>652.0</td>\n",
              "      <td>-37.90562</td>\n",
              "      <td>145.16761</td>\n",
              "    </tr>\n",
              "    <tr>\n",
              "      <th>13576</th>\n",
              "      <td>3</td>\n",
              "      <td>2.0</td>\n",
              "      <td>333.0</td>\n",
              "      <td>-37.85927</td>\n",
              "      <td>144.87904</td>\n",
              "    </tr>\n",
              "    <tr>\n",
              "      <th>13577</th>\n",
              "      <td>3</td>\n",
              "      <td>2.0</td>\n",
              "      <td>436.0</td>\n",
              "      <td>-37.85274</td>\n",
              "      <td>144.88738</td>\n",
              "    </tr>\n",
              "    <tr>\n",
              "      <th>13578</th>\n",
              "      <td>4</td>\n",
              "      <td>1.0</td>\n",
              "      <td>866.0</td>\n",
              "      <td>-37.85908</td>\n",
              "      <td>144.89299</td>\n",
              "    </tr>\n",
              "    <tr>\n",
              "      <th>13579</th>\n",
              "      <td>4</td>\n",
              "      <td>1.0</td>\n",
              "      <td>362.0</td>\n",
              "      <td>-37.81188</td>\n",
              "      <td>144.88449</td>\n",
              "    </tr>\n",
              "  </tbody>\n",
              "</table>\n",
              "<p>13580 rows × 5 columns</p>\n",
              "</div>"
            ],
            "text/plain": [
              "       Rooms  Bathroom  Landsize  Lattitude  Longtitude\n",
              "0          2       1.0     202.0  -37.79960   144.99840\n",
              "1          2       1.0     156.0  -37.80790   144.99340\n",
              "2          3       2.0     134.0  -37.80930   144.99440\n",
              "3          3       2.0      94.0  -37.79690   144.99690\n",
              "4          4       1.0     120.0  -37.80720   144.99410\n",
              "...      ...       ...       ...        ...         ...\n",
              "13575      4       2.0     652.0  -37.90562   145.16761\n",
              "13576      3       2.0     333.0  -37.85927   144.87904\n",
              "13577      3       2.0     436.0  -37.85274   144.88738\n",
              "13578      4       1.0     866.0  -37.85908   144.89299\n",
              "13579      4       1.0     362.0  -37.81188   144.88449\n",
              "\n",
              "[13580 rows x 5 columns]"
            ]
          },
          "metadata": {},
          "execution_count": 68
        }
      ]
    },
    {
      "cell_type": "code",
      "metadata": {
        "colab": {
          "base_uri": "https://localhost:8080/",
          "height": 203
        },
        "id": "oZeQW_Yc9eco",
        "outputId": "a005378a-069c-4c76-b380-f31166187dc5"
      },
      "source": [
        "X.head()"
      ],
      "execution_count": 69,
      "outputs": [
        {
          "output_type": "execute_result",
          "data": {
            "text/html": [
              "<div>\n",
              "<style scoped>\n",
              "    .dataframe tbody tr th:only-of-type {\n",
              "        vertical-align: middle;\n",
              "    }\n",
              "\n",
              "    .dataframe tbody tr th {\n",
              "        vertical-align: top;\n",
              "    }\n",
              "\n",
              "    .dataframe thead th {\n",
              "        text-align: right;\n",
              "    }\n",
              "</style>\n",
              "<table border=\"1\" class=\"dataframe\">\n",
              "  <thead>\n",
              "    <tr style=\"text-align: right;\">\n",
              "      <th></th>\n",
              "      <th>Rooms</th>\n",
              "      <th>Bathroom</th>\n",
              "      <th>Landsize</th>\n",
              "      <th>Lattitude</th>\n",
              "      <th>Longtitude</th>\n",
              "    </tr>\n",
              "  </thead>\n",
              "  <tbody>\n",
              "    <tr>\n",
              "      <th>0</th>\n",
              "      <td>2</td>\n",
              "      <td>1.0</td>\n",
              "      <td>202.0</td>\n",
              "      <td>-37.7996</td>\n",
              "      <td>144.9984</td>\n",
              "    </tr>\n",
              "    <tr>\n",
              "      <th>1</th>\n",
              "      <td>2</td>\n",
              "      <td>1.0</td>\n",
              "      <td>156.0</td>\n",
              "      <td>-37.8079</td>\n",
              "      <td>144.9934</td>\n",
              "    </tr>\n",
              "    <tr>\n",
              "      <th>2</th>\n",
              "      <td>3</td>\n",
              "      <td>2.0</td>\n",
              "      <td>134.0</td>\n",
              "      <td>-37.8093</td>\n",
              "      <td>144.9944</td>\n",
              "    </tr>\n",
              "    <tr>\n",
              "      <th>3</th>\n",
              "      <td>3</td>\n",
              "      <td>2.0</td>\n",
              "      <td>94.0</td>\n",
              "      <td>-37.7969</td>\n",
              "      <td>144.9969</td>\n",
              "    </tr>\n",
              "    <tr>\n",
              "      <th>4</th>\n",
              "      <td>4</td>\n",
              "      <td>1.0</td>\n",
              "      <td>120.0</td>\n",
              "      <td>-37.8072</td>\n",
              "      <td>144.9941</td>\n",
              "    </tr>\n",
              "  </tbody>\n",
              "</table>\n",
              "</div>"
            ],
            "text/plain": [
              "   Rooms  Bathroom  Landsize  Lattitude  Longtitude\n",
              "0      2       1.0     202.0   -37.7996    144.9984\n",
              "1      2       1.0     156.0   -37.8079    144.9934\n",
              "2      3       2.0     134.0   -37.8093    144.9944\n",
              "3      3       2.0      94.0   -37.7969    144.9969\n",
              "4      4       1.0     120.0   -37.8072    144.9941"
            ]
          },
          "metadata": {},
          "execution_count": 69
        }
      ]
    },
    {
      "cell_type": "code",
      "metadata": {
        "colab": {
          "base_uri": "https://localhost:8080/"
        },
        "id": "WjyjPzxa9efQ",
        "outputId": "d241c661-ff72-4b6a-ce24-02fc79676c55"
      },
      "source": [
        "melbourne_model = DecisionTreeRegressor(random_state=0)\n",
        "melbourne_model.fit(X,y)"
      ],
      "execution_count": 70,
      "outputs": [
        {
          "output_type": "execute_result",
          "data": {
            "text/plain": [
              "DecisionTreeRegressor(ccp_alpha=0.0, criterion='mse', max_depth=None,\n",
              "                      max_features=None, max_leaf_nodes=None,\n",
              "                      min_impurity_decrease=0.0, min_impurity_split=None,\n",
              "                      min_samples_leaf=1, min_samples_split=2,\n",
              "                      min_weight_fraction_leaf=0.0, presort='deprecated',\n",
              "                      random_state=0, splitter='best')"
            ]
          },
          "metadata": {},
          "execution_count": 70
        }
      ]
    },
    {
      "cell_type": "code",
      "metadata": {
        "colab": {
          "base_uri": "https://localhost:8080/"
        },
        "id": "2KaIBaoK9eiI",
        "outputId": "76af2356-9d12-4e00-e21d-fe1458251bf3"
      },
      "source": [
        "melbourne_model.predict(X.head())"
      ],
      "execution_count": 71,
      "outputs": [
        {
          "output_type": "execute_result",
          "data": {
            "text/plain": [
              "array([1480000., 1035000., 1465000.,  850000., 1600000.])"
            ]
          },
          "metadata": {},
          "execution_count": 71
        }
      ]
    },
    {
      "cell_type": "code",
      "metadata": {
        "colab": {
          "base_uri": "https://localhost:8080/"
        },
        "id": "UdiMhqonDNLi",
        "outputId": "bf62bfc6-27b3-4e02-9b52-42c6a8d8f8e8"
      },
      "source": [
        "melbourne_model.predict(X[:5]) - y[:5]"
      ],
      "execution_count": 72,
      "outputs": [
        {
          "output_type": "execute_result",
          "data": {
            "text/plain": [
              "0    0.0\n",
              "1    0.0\n",
              "2    0.0\n",
              "3    0.0\n",
              "4    0.0\n",
              "Name: Price, dtype: float64"
            ]
          },
          "metadata": {},
          "execution_count": 72
        }
      ]
    },
    {
      "cell_type": "code",
      "metadata": {
        "colab": {
          "base_uri": "https://localhost:8080/"
        },
        "id": "ltQnC0PB9ekw",
        "outputId": "e2b5c675-4718-461e-a560-61690acca3c4"
      },
      "source": [
        "melbourne_model.score(X,y)"
      ],
      "execution_count": 73,
      "outputs": [
        {
          "output_type": "execute_result",
          "data": {
            "text/plain": [
              "0.9997390882943573"
            ]
          },
          "metadata": {},
          "execution_count": 73
        }
      ]
    },
    {
      "cell_type": "markdown",
      "metadata": {
        "id": "_4XQDu3vC9rd"
      },
      "source": [
        "## 모델 '제대로' 평가하기"
      ]
    },
    {
      "cell_type": "code",
      "metadata": {
        "colab": {
          "base_uri": "https://localhost:8080/"
        },
        "id": "YYIxh29I_V9Z",
        "outputId": "98725b4b-9975-4131-8635-7e524107b3ab"
      },
      "source": [
        "X_train, X_test, y_train, y_test = train_test_split(X, y, test_size=0.1, shuffle=False)\n",
        "\n",
        "print(X_train.shape, y_train.shape)\n",
        "print(X_test.shape, y_test.shape)"
      ],
      "execution_count": 74,
      "outputs": [
        {
          "output_type": "stream",
          "name": "stdout",
          "text": [
            "(12222, 5) (12222,)\n",
            "(1358, 5) (1358,)\n"
          ]
        }
      ]
    },
    {
      "cell_type": "code",
      "metadata": {
        "colab": {
          "base_uri": "https://localhost:8080/"
        },
        "id": "MAK-pEIn_egE",
        "outputId": "2b6e82bf-ca93-439a-dc0f-9de7d2cf32c2"
      },
      "source": [
        "melbourne_model.fit(X_train,y_train)"
      ],
      "execution_count": 75,
      "outputs": [
        {
          "output_type": "execute_result",
          "data": {
            "text/plain": [
              "DecisionTreeRegressor(ccp_alpha=0.0, criterion='mse', max_depth=None,\n",
              "                      max_features=None, max_leaf_nodes=None,\n",
              "                      min_impurity_decrease=0.0, min_impurity_split=None,\n",
              "                      min_samples_leaf=1, min_samples_split=2,\n",
              "                      min_weight_fraction_leaf=0.0, presort='deprecated',\n",
              "                      random_state=0, splitter='best')"
            ]
          },
          "metadata": {},
          "execution_count": 75
        }
      ]
    },
    {
      "cell_type": "code",
      "metadata": {
        "colab": {
          "base_uri": "https://localhost:8080/"
        },
        "id": "gX-la1O8_elT",
        "outputId": "cbddb5cb-249e-46f2-8527-8cf643dcc624"
      },
      "source": [
        "melbourne_model.predict(X_test.head())"
      ],
      "execution_count": 76,
      "outputs": [
        {
          "output_type": "execute_result",
          "data": {
            "text/plain": [
              "array([ 715000., 2330000., 2600000., 1750000., 3100000.])"
            ]
          },
          "metadata": {},
          "execution_count": 76
        }
      ]
    },
    {
      "cell_type": "code",
      "metadata": {
        "colab": {
          "base_uri": "https://localhost:8080/"
        },
        "id": "WEBRic7J_eoS",
        "outputId": "83a69fb3-bd5b-45e8-d2cb-215f19c6e1c6"
      },
      "source": [
        "melbourne_model.predict(X_train[:5]) - y_train[:5]"
      ],
      "execution_count": 77,
      "outputs": [
        {
          "output_type": "execute_result",
          "data": {
            "text/plain": [
              "0    0.0\n",
              "1    0.0\n",
              "2    0.0\n",
              "3    0.0\n",
              "4    0.0\n",
              "Name: Price, dtype: float64"
            ]
          },
          "metadata": {},
          "execution_count": 77
        }
      ]
    },
    {
      "cell_type": "code",
      "metadata": {
        "colab": {
          "base_uri": "https://localhost:8080/"
        },
        "id": "GXWt1ANk_erS",
        "outputId": "3a4e57c1-dad5-45ea-986c-ff11bcc0df47"
      },
      "source": [
        "melbourne_model.predict(X_test)[:5] - y_test[:5]"
      ],
      "execution_count": 78,
      "outputs": [
        {
          "output_type": "execute_result",
          "data": {
            "text/plain": [
              "12222     115000.0\n",
              "12223     545000.0\n",
              "12224     -50000.0\n",
              "12225    -201000.0\n",
              "12226    1150000.0\n",
              "Name: Price, dtype: float64"
            ]
          },
          "metadata": {},
          "execution_count": 78
        }
      ]
    },
    {
      "cell_type": "code",
      "metadata": {
        "colab": {
          "base_uri": "https://localhost:8080/"
        },
        "id": "jdlX6cRD_euH",
        "outputId": "b9a38431-4e2c-40c3-b368-aabf8a3d522a"
      },
      "source": [
        "melbourne_model.score(X_train, y_train)"
      ],
      "execution_count": 79,
      "outputs": [
        {
          "output_type": "execute_result",
          "data": {
            "text/plain": [
              "0.9997104417677788"
            ]
          },
          "metadata": {},
          "execution_count": 79
        }
      ]
    },
    {
      "cell_type": "code",
      "metadata": {
        "colab": {
          "base_uri": "https://localhost:8080/"
        },
        "id": "aXJMjl4g_ew7",
        "outputId": "61c4a2fe-a8dc-4ffc-c921-57f826838870"
      },
      "source": [
        "dt_r2 = melbourne_model.score(X_test, y_test)\n",
        "dt_r2"
      ],
      "execution_count": 80,
      "outputs": [
        {
          "output_type": "execute_result",
          "data": {
            "text/plain": [
              "0.37362922089637307"
            ]
          },
          "metadata": {},
          "execution_count": 80
        }
      ]
    },
    {
      "cell_type": "markdown",
      "metadata": {
        "id": "VW3DtszZDYM-"
      },
      "source": [
        "## Light GBM"
      ]
    },
    {
      "cell_type": "code",
      "metadata": {
        "id": "U6fYOQO2_ez0"
      },
      "source": [
        "#마이크로소프트에서 개발한 모델\n",
        "import lightgbm"
      ],
      "execution_count": 81,
      "outputs": []
    },
    {
      "cell_type": "code",
      "metadata": {
        "id": "80QyFGD5E3cu"
      },
      "source": [
        "train_data = lightgbm.Dataset(X_train, label=y_train) #categorical_feature=categorical_features \n",
        "test_data = lightgbm.Dataset(X_test, label=y_test)"
      ],
      "execution_count": 82,
      "outputs": []
    },
    {
      "cell_type": "code",
      "metadata": {
        "id": "69zZCXvzE8aj"
      },
      "source": [
        "#파라미터 고려해야될게 너무 많다.\n",
        "parameters = {\n",
        "    'objective': 'regression',\n",
        "    'metric': 'mse', #cost_function\n",
        "    'boosting': 'gbdt', #그레디언트 부스팅 decision tree\n",
        "    'num_leaves': 31, #잎의 갯수\n",
        "    'learning_rate': 0.05, #학습률 높을수록 빠르지만, overfitting될 확률 높음\n",
        "    'verbose_eval': 10,\n",
        "    'metric_freq': 10,\n",
        "}"
      ],
      "execution_count": 83,
      "outputs": []
    },
    {
      "cell_type": "code",
      "metadata": {
        "colab": {
          "base_uri": "https://localhost:8080/"
        },
        "id": "zSVPwkzGFafr",
        "outputId": "78267667-2d34-43e5-ade7-0fa4a22ae9f1"
      },
      "source": [
        "lgbm_model = lightgbm.train(parameters,\n",
        "                            train_data,\n",
        "                            valid_sets=test_data,\n",
        "                            num_boost_round=5000,\n",
        "                            early_stopping_rounds=10)"
      ],
      "execution_count": 84,
      "outputs": [
        {
          "output_type": "stream",
          "name": "stdout",
          "text": [
            "[1]\tvalid_0's l2: 3.81902e+11\n",
            "Training until validation scores don't improve for 10 rounds.\n",
            "[2]\tvalid_0's l2: 3.61108e+11\n",
            "[3]\tvalid_0's l2: 3.41968e+11\n",
            "[4]\tvalid_0's l2: 3.24365e+11\n",
            "[5]\tvalid_0's l2: 3.08223e+11\n",
            "[6]\tvalid_0's l2: 2.92927e+11\n",
            "[7]\tvalid_0's l2: 2.79067e+11\n",
            "[8]\tvalid_0's l2: 2.66565e+11\n",
            "[9]\tvalid_0's l2: 2.55089e+11\n",
            "[10]\tvalid_0's l2: 2.43834e+11\n",
            "[11]\tvalid_0's l2: 2.33261e+11\n",
            "[12]\tvalid_0's l2: 2.23641e+11\n",
            "[13]\tvalid_0's l2: 2.15173e+11\n",
            "[14]\tvalid_0's l2: 2.07455e+11\n",
            "[15]\tvalid_0's l2: 2.00131e+11\n",
            "[16]\tvalid_0's l2: 1.93941e+11\n",
            "[17]\tvalid_0's l2: 1.87718e+11\n",
            "[18]\tvalid_0's l2: 1.81212e+11\n",
            "[19]\tvalid_0's l2: 1.75605e+11\n",
            "[20]\tvalid_0's l2: 1.70094e+11\n",
            "[21]\tvalid_0's l2: 1.65779e+11\n",
            "[22]\tvalid_0's l2: 1.61842e+11\n",
            "[23]\tvalid_0's l2: 1.57709e+11\n",
            "[24]\tvalid_0's l2: 1.5381e+11\n",
            "[25]\tvalid_0's l2: 1.50354e+11\n",
            "[26]\tvalid_0's l2: 1.4691e+11\n",
            "[27]\tvalid_0's l2: 1.4411e+11\n",
            "[28]\tvalid_0's l2: 1.41326e+11\n",
            "[29]\tvalid_0's l2: 1.38398e+11\n",
            "[30]\tvalid_0's l2: 1.35775e+11\n",
            "[31]\tvalid_0's l2: 1.33259e+11\n",
            "[32]\tvalid_0's l2: 1.30799e+11\n",
            "[33]\tvalid_0's l2: 1.28251e+11\n",
            "[34]\tvalid_0's l2: 1.26091e+11\n",
            "[35]\tvalid_0's l2: 1.23962e+11\n",
            "[36]\tvalid_0's l2: 1.22052e+11\n",
            "[37]\tvalid_0's l2: 1.20505e+11\n",
            "[38]\tvalid_0's l2: 1.18894e+11\n",
            "[39]\tvalid_0's l2: 1.17478e+11\n",
            "[40]\tvalid_0's l2: 1.15559e+11\n",
            "[41]\tvalid_0's l2: 1.14177e+11\n",
            "[42]\tvalid_0's l2: 1.12805e+11\n",
            "[43]\tvalid_0's l2: 1.11745e+11\n",
            "[44]\tvalid_0's l2: 1.10422e+11\n",
            "[45]\tvalid_0's l2: 1.09363e+11\n",
            "[46]\tvalid_0's l2: 1.08159e+11\n",
            "[47]\tvalid_0's l2: 1.07133e+11\n",
            "[48]\tvalid_0's l2: 1.05988e+11\n",
            "[49]\tvalid_0's l2: 1.05309e+11\n",
            "[50]\tvalid_0's l2: 1.04312e+11\n",
            "[51]\tvalid_0's l2: 1.03491e+11\n",
            "[52]\tvalid_0's l2: 1.02559e+11\n",
            "[53]\tvalid_0's l2: 1.02041e+11\n",
            "[54]\tvalid_0's l2: 1.0141e+11\n",
            "[55]\tvalid_0's l2: 1.00945e+11\n",
            "[56]\tvalid_0's l2: 1.00255e+11\n",
            "[57]\tvalid_0's l2: 9.98864e+10\n",
            "[58]\tvalid_0's l2: 9.92218e+10\n",
            "[59]\tvalid_0's l2: 9.8704e+10\n",
            "[60]\tvalid_0's l2: 9.78604e+10\n",
            "[61]\tvalid_0's l2: 9.75082e+10\n",
            "[62]\tvalid_0's l2: 9.71827e+10\n",
            "[63]\tvalid_0's l2: 9.67124e+10\n",
            "[64]\tvalid_0's l2: 9.61736e+10\n",
            "[65]\tvalid_0's l2: 9.566e+10\n",
            "[66]\tvalid_0's l2: 9.55292e+10\n",
            "[67]\tvalid_0's l2: 9.50542e+10\n",
            "[68]\tvalid_0's l2: 9.47132e+10\n",
            "[69]\tvalid_0's l2: 9.43781e+10\n",
            "[70]\tvalid_0's l2: 9.43163e+10\n",
            "[71]\tvalid_0's l2: 9.40888e+10\n",
            "[72]\tvalid_0's l2: 9.3673e+10\n",
            "[73]\tvalid_0's l2: 9.32632e+10\n",
            "[74]\tvalid_0's l2: 9.30575e+10\n",
            "[75]\tvalid_0's l2: 9.28498e+10\n",
            "[76]\tvalid_0's l2: 9.25715e+10\n",
            "[77]\tvalid_0's l2: 9.23678e+10\n",
            "[78]\tvalid_0's l2: 9.22016e+10\n",
            "[79]\tvalid_0's l2: 9.20961e+10\n",
            "[80]\tvalid_0's l2: 9.19032e+10\n",
            "[81]\tvalid_0's l2: 9.17621e+10\n",
            "[82]\tvalid_0's l2: 9.16823e+10\n",
            "[83]\tvalid_0's l2: 9.15508e+10\n",
            "[84]\tvalid_0's l2: 9.13897e+10\n",
            "[85]\tvalid_0's l2: 9.11371e+10\n",
            "[86]\tvalid_0's l2: 9.09744e+10\n",
            "[87]\tvalid_0's l2: 9.09276e+10\n",
            "[88]\tvalid_0's l2: 9.0753e+10\n",
            "[89]\tvalid_0's l2: 9.06295e+10\n",
            "[90]\tvalid_0's l2: 9.05082e+10\n",
            "[91]\tvalid_0's l2: 9.04113e+10\n",
            "[92]\tvalid_0's l2: 9.02474e+10\n",
            "[93]\tvalid_0's l2: 9.02825e+10\n",
            "[94]\tvalid_0's l2: 9.01984e+10\n",
            "[95]\tvalid_0's l2: 9.00202e+10\n",
            "[96]\tvalid_0's l2: 8.99522e+10\n",
            "[97]\tvalid_0's l2: 8.9837e+10\n",
            "[98]\tvalid_0's l2: 8.97602e+10\n",
            "[99]\tvalid_0's l2: 8.96026e+10\n",
            "[100]\tvalid_0's l2: 8.94415e+10\n",
            "[101]\tvalid_0's l2: 8.91364e+10\n",
            "[102]\tvalid_0's l2: 8.91536e+10\n",
            "[103]\tvalid_0's l2: 8.91754e+10\n",
            "[104]\tvalid_0's l2: 8.91033e+10\n",
            "[105]\tvalid_0's l2: 8.90692e+10\n",
            "[106]\tvalid_0's l2: 8.89041e+10\n",
            "[107]\tvalid_0's l2: 8.87967e+10\n",
            "[108]\tvalid_0's l2: 8.86908e+10\n",
            "[109]\tvalid_0's l2: 8.87285e+10\n",
            "[110]\tvalid_0's l2: 8.86127e+10\n",
            "[111]\tvalid_0's l2: 8.86326e+10\n",
            "[112]\tvalid_0's l2: 8.8682e+10\n",
            "[113]\tvalid_0's l2: 8.86521e+10\n",
            "[114]\tvalid_0's l2: 8.86247e+10\n",
            "[115]\tvalid_0's l2: 8.87294e+10\n",
            "[116]\tvalid_0's l2: 8.87399e+10\n",
            "[117]\tvalid_0's l2: 8.86747e+10\n",
            "[118]\tvalid_0's l2: 8.86828e+10\n",
            "[119]\tvalid_0's l2: 8.86145e+10\n",
            "[120]\tvalid_0's l2: 8.86064e+10\n",
            "[121]\tvalid_0's l2: 8.85556e+10\n",
            "[122]\tvalid_0's l2: 8.85408e+10\n",
            "[123]\tvalid_0's l2: 8.85873e+10\n",
            "[124]\tvalid_0's l2: 8.85383e+10\n",
            "[125]\tvalid_0's l2: 8.85902e+10\n",
            "[126]\tvalid_0's l2: 8.85199e+10\n",
            "[127]\tvalid_0's l2: 8.84937e+10\n",
            "[128]\tvalid_0's l2: 8.83584e+10\n",
            "[129]\tvalid_0's l2: 8.82971e+10\n",
            "[130]\tvalid_0's l2: 8.82048e+10\n",
            "[131]\tvalid_0's l2: 8.80679e+10\n",
            "[132]\tvalid_0's l2: 8.79617e+10\n",
            "[133]\tvalid_0's l2: 8.80141e+10\n",
            "[134]\tvalid_0's l2: 8.79389e+10\n",
            "[135]\tvalid_0's l2: 8.80607e+10\n",
            "[136]\tvalid_0's l2: 8.80282e+10\n",
            "[137]\tvalid_0's l2: 8.79467e+10\n",
            "[138]\tvalid_0's l2: 8.79221e+10\n",
            "[139]\tvalid_0's l2: 8.78431e+10\n",
            "[140]\tvalid_0's l2: 8.78687e+10\n",
            "[141]\tvalid_0's l2: 8.79096e+10\n",
            "[142]\tvalid_0's l2: 8.77545e+10\n",
            "[143]\tvalid_0's l2: 8.7659e+10\n",
            "[144]\tvalid_0's l2: 8.76848e+10\n",
            "[145]\tvalid_0's l2: 8.76452e+10\n",
            "[146]\tvalid_0's l2: 8.76328e+10\n",
            "[147]\tvalid_0's l2: 8.75809e+10\n",
            "[148]\tvalid_0's l2: 8.75764e+10\n",
            "[149]\tvalid_0's l2: 8.7548e+10\n",
            "[150]\tvalid_0's l2: 8.75002e+10\n",
            "[151]\tvalid_0's l2: 8.74792e+10\n",
            "[152]\tvalid_0's l2: 8.7572e+10\n",
            "[153]\tvalid_0's l2: 8.76107e+10\n",
            "[154]\tvalid_0's l2: 8.74873e+10\n",
            "[155]\tvalid_0's l2: 8.74387e+10\n",
            "[156]\tvalid_0's l2: 8.73402e+10\n",
            "[157]\tvalid_0's l2: 8.73424e+10\n",
            "[158]\tvalid_0's l2: 8.73319e+10\n",
            "[159]\tvalid_0's l2: 8.74096e+10\n",
            "[160]\tvalid_0's l2: 8.73631e+10\n",
            "[161]\tvalid_0's l2: 8.73846e+10\n",
            "[162]\tvalid_0's l2: 8.73306e+10\n",
            "[163]\tvalid_0's l2: 8.73375e+10\n",
            "[164]\tvalid_0's l2: 8.73523e+10\n",
            "[165]\tvalid_0's l2: 8.73171e+10\n",
            "[166]\tvalid_0's l2: 8.73199e+10\n",
            "[167]\tvalid_0's l2: 8.73244e+10\n",
            "[168]\tvalid_0's l2: 8.72749e+10\n",
            "[169]\tvalid_0's l2: 8.7367e+10\n",
            "[170]\tvalid_0's l2: 8.72478e+10\n",
            "[171]\tvalid_0's l2: 8.72486e+10\n",
            "[172]\tvalid_0's l2: 8.72124e+10\n",
            "[173]\tvalid_0's l2: 8.72509e+10\n",
            "[174]\tvalid_0's l2: 8.72277e+10\n",
            "[175]\tvalid_0's l2: 8.71168e+10\n",
            "[176]\tvalid_0's l2: 8.71691e+10\n",
            "[177]\tvalid_0's l2: 8.72099e+10\n",
            "[178]\tvalid_0's l2: 8.71814e+10\n",
            "[179]\tvalid_0's l2: 8.71113e+10\n",
            "[180]\tvalid_0's l2: 8.70112e+10\n",
            "[181]\tvalid_0's l2: 8.70104e+10\n",
            "[182]\tvalid_0's l2: 8.70181e+10\n",
            "[183]\tvalid_0's l2: 8.6954e+10\n",
            "[184]\tvalid_0's l2: 8.69467e+10\n",
            "[185]\tvalid_0's l2: 8.70195e+10\n",
            "[186]\tvalid_0's l2: 8.70289e+10\n",
            "[187]\tvalid_0's l2: 8.69992e+10\n",
            "[188]\tvalid_0's l2: 8.70018e+10\n",
            "[189]\tvalid_0's l2: 8.70142e+10\n",
            "[190]\tvalid_0's l2: 8.70168e+10\n",
            "[191]\tvalid_0's l2: 8.70828e+10\n",
            "[192]\tvalid_0's l2: 8.70605e+10\n",
            "[193]\tvalid_0's l2: 8.71397e+10\n",
            "[194]\tvalid_0's l2: 8.71559e+10\n",
            "Early stopping, best iteration is:\n",
            "[184]\tvalid_0's l2: 8.69467e+10\n"
          ]
        }
      ]
    },
    {
      "cell_type": "code",
      "metadata": {
        "colab": {
          "base_uri": "https://localhost:8080/"
        },
        "id": "Cc5mHt7hF_8J",
        "outputId": "765742e8-0110-480d-fcf1-17f925ba17df"
      },
      "source": [
        "lgbm_model.predict(X_test[:5])"
      ],
      "execution_count": 86,
      "outputs": [
        {
          "output_type": "execute_result",
          "data": {
            "text/plain": [
              "array([ 574103.94460752, 1959851.0966476 , 2310908.53231483,\n",
              "       1804196.62121925, 2340710.72683632])"
            ]
          },
          "metadata": {},
          "execution_count": 86
        }
      ]
    },
    {
      "cell_type": "code",
      "metadata": {
        "colab": {
          "base_uri": "https://localhost:8080/"
        },
        "id": "jIKpSakhGd-J",
        "outputId": "8153cf1e-c7e6-4e59-e879-1e6ecc721fcc"
      },
      "source": [
        "lgbm_model.predict(X_test)[:5] - y_test[:5]"
      ],
      "execution_count": 87,
      "outputs": [
        {
          "output_type": "execute_result",
          "data": {
            "text/plain": [
              "12222    -25896.055392\n",
              "12223    174851.096648\n",
              "12224   -339091.467685\n",
              "12225   -146803.378781\n",
              "12226    390710.726836\n",
              "Name: Price, dtype: float64"
            ]
          },
          "metadata": {},
          "execution_count": 87
        }
      ]
    },
    {
      "cell_type": "code",
      "metadata": {
        "colab": {
          "base_uri": "https://localhost:8080/"
        },
        "id": "-xhypkwYGhkD",
        "outputId": "a6a2ff0c-b434-4ac3-d209-d38194615aaf"
      },
      "source": [
        "lgbm_r2 = r2_score(lgbm_model.predict(X_test), y_test)\n",
        "print(dt_r2, lgbm_r2)"
      ],
      "execution_count": 88,
      "outputs": [
        {
          "output_type": "stream",
          "name": "stdout",
          "text": [
            "0.37362922089637307 0.7166618912536572\n"
          ]
        }
      ]
    },
    {
      "cell_type": "code",
      "metadata": {
        "colab": {
          "base_uri": "https://localhost:8080/"
        },
        "id": "UWoW1H2UGi9g",
        "outputId": "e90e94c9-367d-461e-ba9e-9b4e4317d0b2"
      },
      "source": [
        "dt_mse = mean_squared_error(melbourne_model.predict(X_test), y_test, squared=False)\n",
        "lgbm_mse = mean_squared_error(lgbm_model.predict(X_test), y_test, squared=False)\n",
        "print(dt_mse, lgbm_mse)"
      ],
      "execution_count": 89,
      "outputs": [
        {
          "output_type": "stream",
          "name": "stdout",
          "text": [
            "495521.3859090252 294867.29611620615\n"
          ]
        }
      ]
    },
    {
      "cell_type": "code",
      "metadata": {
        "id": "YzOQRUPZGkkg"
      },
      "source": [
        ""
      ],
      "execution_count": null,
      "outputs": []
    }
  ]
}
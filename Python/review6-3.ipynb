{
 "cells": [
  {
   "cell_type": "markdown",
   "metadata": {
    "id": "pOdYzjmEAGhg"
   },
   "source": [
    "## 네이버 금융 개별종목 수집\n",
    "* FinanceDataReader를 통해 수집했던 데이터를 네이버 증권 웹 페이지를 통해 직접 수집합니다.\n",
    "\n",
    "\n",
    "### Keyword\n",
    "\n",
    "* html 파일 읽어오기\n",
    "    * pd.read_html(url, encoding=\"cp949\")\n",
    "\n",
    "* 결측 데이터 제거하기(axis 0:행, 1:열)\n",
    "    * table[0].dropna()\n",
    "\n",
    "* 데이터 프레임 합치기\n",
    "    * pd.concat([df1, df2, df3])\n",
    "\n",
    "* 중복데이터 제거\n",
    "    * df.drop_duplicates()\n",
    "\n",
    "* 과학적 기수법\n",
    "    * 1.210000e+02 => 121\n",
    "\n",
    "* 날짜 column의 첫 row값 확인\n",
    "    * date = df.iloc[0][\"날짜\"]\n",
    "\n",
    "* 파일로 저장하기 \n",
    "    * df.to_csv(file_name, index=False)\n",
    "\n",
    "* 파일 읽어오기\n",
    "    * pd.read_csv(file_name)"
   ]
  },
  {
   "cell_type": "markdown",
   "metadata": {
    "id": "-lIn4AdJTMkA"
   },
   "source": [
    "## 수집할 페이지 보기\n",
    "\n",
    "* 네이버 금융 국내증시 : https://finance.naver.com/sise/\n",
    "* 2020년 주요 상장종목\n",
    "    * 하이브 : https://finance.naver.com/item/main.nhn?code=352820\n",
    "    * 카카오게임즈 : https://finance.naver.com/item/main.nhn?code=293490\n",
    "    * SK바이오팜 : https://finance.naver.com/item/main.nhn?code=326030"
   ]
  },
  {
   "cell_type": "markdown",
   "metadata": {
    "id": "2TQ3QBpMpzJ7"
   },
   "source": [
    "## 라이브러리 로드"
   ]
  },
  {
   "cell_type": "code",
   "execution_count": 21,
   "metadata": {
    "id": "6Mm8vuymTMkA"
   },
   "outputs": [],
   "source": [
    "import pandas as pd"
   ]
  },
  {
   "cell_type": "markdown",
   "metadata": {
    "id": "u6LPTaoRpzJ8"
   },
   "source": [
    "## 수집할 URL 정하기"
   ]
  },
  {
   "cell_type": "code",
   "execution_count": 3,
   "metadata": {
    "id": "QzZJoAvoTMkA"
   },
   "outputs": [
    {
     "name": "stdout",
     "output_type": "stream",
     "text": [
      "https://finance.naver.com/item/sise_day.nhn?code=352820&page=3\n"
     ]
    }
   ],
   "source": [
    "# 종목번호와 상장사 이름을 item_code와 item_name으로 설정\n",
    "item_code = \"352820\"\n",
    "item_name = \"빅히트\"\n",
    "\n",
    "# item_code = \"326030\"\n",
    "# item_name = \"SK바이오팜\"\n",
    "\n",
    "# 종목 URL 만들기\n",
    "url=\"https://finance.naver.com/item/sise_day.nhn?code=352820&page=3\"\n",
    "print(url)"
   ]
  },
  {
   "cell_type": "markdown",
   "metadata": {
    "id": "omqDL0q0pzJ9"
   },
   "source": [
    "## requests를 통한 HTTP 요청\n",
    "* [Requests: HTTP for Humans™ — Requests documentation](https://requests.readthedocs.io/en/master/)\n",
    "* [Quickstart — Requests documentation # custom-headers](https://requests.readthedocs.io/en/latest/user/quickstart/#custom-headers)"
   ]
  },
  {
   "cell_type": "code",
   "execution_count": 4,
   "metadata": {
    "id": "4N9pP-4EpzJ-"
   },
   "outputs": [],
   "source": [
    "import requests"
   ]
  },
  {
   "cell_type": "code",
   "execution_count": 6,
   "metadata": {},
   "outputs": [],
   "source": [
    "response=requests.get(url)"
   ]
  },
  {
   "cell_type": "code",
   "execution_count": 7,
   "metadata": {},
   "outputs": [
    {
     "data": {
      "text/plain": [
       "'\\n<!DOCTYPE HTML PUBLIC \"-//W3C//DTD HTML 4.01 Transitional//EN\" \"http://www.w3.org/TR/html4/loose.dtd\">\\n<html>\\n<head>\\n<meta http-equiv=\"Content-Type\" content=\"text/html; charset=euc-kr\">\\n<title>네이버 :: 세상의 모든 지식, 네이버</title>\\n\\n<style type=\"text/css\">\\n.error_content * {margin:0;padding:0;}\\n.error_content img{border:none;}\\n.error_content em {font-style:normal;}\\n.error_content {width:410px; margin:80px auto 0; padding:57px 0 0 0; font-size:12px; font-family:\"나눔고딕\", \"NanumGothic\", \"돋움\", Dotum, AppleGothic, Sans-serif; text-align:left; line-height:14px; background:url(https://ssl.pstatic.net/static/common/error/090610/bg_thumb.gif) no-repeat center top; white-space:nowrap;}\\n.error_content p{margin:0;}\\n.error_content .error_desc {margin-bottom:21px; overflow:hidden; text-align:center;}\\n.error_content .error_desc2 {margin-bottom:11px; padding-bottom:7px; color:#888; line-height:18px; border-bottom:1px solid #eee;}\\n.error_content .error_desc3 {clear:both; color:#888;}\\n.error_content .error_desc3 a {color:#004790; text-decoration:underline;}\\n.error_content .error_list_type {clear:both; float:left; width:410px; _width:428px; margin:0 0 18px 0; *margin:0 0 7px 0; padding-bottom:13px; font-size:13px; color:#000; line-height:18px; border-bottom:1px solid #eee;}\\n.error_content .error_list_type dt {float:left; width:60px; _width /**/:70px; padding-left:10px; background:url(https://ssl.pstatic.net/static/common/error/090610/bg_dot.gif) no-repeat 2px 8px;}\\n.error_content .error_list_type dd {float:left; width:336px; _width /**/:340px; padding:0 0 0 4px;}\\n.error_content .error_list_type dd span {color:#339900; letter-spacing:0;}\\n.error_content .error_list_type dd a{color:#339900;}\\n.error_content p.btn{margin:29px 0 100px; text-align:center;}\\n</style>\\n</head>\\n<!-- ERROR -->\\n<body>\\n<div class=\"error_content\">\\n\\t<p class=\"error_desc\"><img src=\"https://ssl.pstatic.net/static/common/error/090610/txt_desc5.gif\" width=\"319\" height=\"30\" alt=\"페이지를 찾을 수 없습니다.\"></p>\\n\\t<p class=\"error_desc2\">방문하시려는 페이지의 주소가 잘못 입력되었거나,<br>\\n\\t\\t페이지의 주소가 변경 혹은 삭제되어 요청하신 페이지를 찾을 수 없습니다.<br>\\n\\t\\t입력하신 주소가 정확한지 다시 한번 확인해 주시기 바랍니다.\\n\\t</p>\\n\\t<p class=\"error_desc3\">관련 문의사항은 <a href=\"https://help.naver.com/\" target=\"_blank\">고객센터</a>에 알려주시면 친절히 안내해드리겠습니다. 감사합니다.</p>\\n\\t<p class=\"btn\">\\n\\t\\t<a href=\"javascript:history.back()\"><img src=\"https://ssl.pstatic.net/static/common/error/090610/btn_prevpage.gif\" width=\"115\" height=\"35\" alt=\"이전 페이지로\"></a>\\n\\t\\t<a href=\"https://finance.naver.com\"><img src=\"https://ssl.pstatic.net/static/nfinance/btn_home.gif\" width=\"115\" height=\"35\" alt=\"금융홈으로\"></a>\\n\\t</p>\\n</div>\\n</body>\\n</html>\\n'"
      ]
     },
     "execution_count": 7,
     "metadata": {},
     "output_type": "execute_result"
    }
   ],
   "source": [
    "response.text"
   ]
  },
  {
   "cell_type": "code",
   "execution_count": 12,
   "metadata": {},
   "outputs": [],
   "source": [
    "headers={\"user-agent\": \"Mozilla/5.0 (Windows NT 10.0; Win64; x64) AppleWebKit/537.36 (KHTML, like Gecko) Chrome/91.0.4472.114 Safari/537.36\"}"
   ]
  },
  {
   "cell_type": "code",
   "execution_count": 15,
   "metadata": {},
   "outputs": [],
   "source": [
    "response=requests.get(url,headers=headers)"
   ]
  },
  {
   "cell_type": "code",
   "execution_count": 16,
   "metadata": {},
   "outputs": [
    {
     "data": {
      "text/plain": [
       "'\\n<html lang=\"ko\">\\n<head>\\n<meta http-equiv=\"Content-Type\" content=\"text/html; charset=euc-kr\">\\n<title>네이버 금융</title>\\n\\n<link rel=\"stylesheet\" type=\"text/css\" href=\"https://ssl.pstatic.net/imgstock/static.pc/20210624194556/css/newstock.css\">\\n<link rel=\"stylesheet\" type=\"text/css\" href=\"https://ssl.pstatic.net/imgstock/static.pc/20210624194556/css/common.css\">\\n<link rel=\"stylesheet\" type=\"text/css\" href=\"https://ssl.pstatic.net/imgstock/static.pc/20210624194556/css/layout.css\">\\n<link rel=\"stylesheet\" type=\"text/css\" href=\"https://ssl.pstatic.net/imgstock/static.pc/20210624194556/css/main.css\">\\n<link rel=\"stylesheet\" type=\"text/css\" href=\"https://ssl.pstatic.net/imgstock/static.pc/20210624194556/css/newstock2.css\">\\n<link rel=\"stylesheet\" type=\"text/css\" href=\"https://ssl.pstatic.net/imgstock/static.pc/20210624194556/css/newstock3.css\">\\n<link rel=\"stylesheet\" type=\"text/css\" href=\"https://ssl.pstatic.net/imgstock/static.pc/20210624194556/css/world.css\">\\n</head>\\n<body>\\n<script language=\"JavaScript\">\\nfunction mouseOver(obj){\\n  obj.style.backgroundColor=\"#f6f4e5\";\\n}\\nfunction mouseOut(obj){\\n  obj.style.backgroundColor=\"#ffffff\";\\n}\\n</script>\\n\\t\\t\\t\\t<h4 class=\"tlline2\"><strong><span class=\"red03\">일별</span>시세</strong></h4>\\t\\t\\t\\n\\t\\t\\t\\t<table cellspacing=\"0\" class=\"type2\">\\n\\t\\t\\t\\t<tr>\\n\\t\\t\\t\\t<th>날짜</th>\\n\\t\\t\\t\\t<th>종가</th>\\n\\t\\t\\t\\t<th>전일비</th>\\n\\t\\t\\t\\t<th>시가</th>\\n\\t\\t\\t\\t<th>고가</th>\\n\\t\\t\\t\\t<th>저가</th>\\n\\t\\t\\t\\t<th>거래량</th>\\n\\t\\t\\t\\t</tr>\\n\\t\\t\\t\\t<tr>\\n\\t\\t\\t\\t<td colspan=\"7\" height=\"8\"></td>\\n\\t\\t\\t\\t</tr>\\n\\n\\n\\t\\n\\t\\n\\t\\n\\t\\t\\n\\t\\t\\t\\n\\t\\t\\t\\t\\n\\t\\t\\t\\t\\t<tr onMouseOver=\"mouseOver(this)\" onMouseOut=\"mouseOut(this)\">\\n\\t\\t\\t\\t\\t<td align=\"center\"><span class=\"tah p10 gray03\">2021.05.27</span></td>\\n\\t\\t\\t\\t\\t<td class=\"num\"><span class=\"tah p11\">253,000</span></td>\\n\\t\\t\\t\\t\\t<td class=\"num\">\\n\\t\\t\\t\\t<img src=\"https://ssl.pstatic.net/imgstock/images/images4/ico_down.gif\" width=\"7\" height=\"6\" style=\"margin-right:4px;\" alt=\"하락\"><span class=\"tah p11 nv01\">\\n\\t\\t\\t\\t6,000\\n\\t\\t\\t\\t</span>\\n\\t\\t\\t</td>\\n\\t\\t\\t\\t\\t<td class=\"num\"><span class=\"tah p11\">259,500</span></td>\\n\\t\\t\\t\\t\\t<td class=\"num\"><span class=\"tah p11\">260,000</span></td>\\n\\t\\t\\t\\t\\t<td class=\"num\"><span class=\"tah p11\">252,000</span></td>\\n\\t\\t\\t\\t\\t<td class=\"num\"><span class=\"tah p11\">1,175,231</span></td>\\n\\t\\t\\t\\t\\t</tr>\\n\\t\\t\\t\\t\\n\\t\\t\\t\\t\\n\\t\\t\\t\\n\\t\\t\\t\\n\\t\\t\\t\\n\\t\\t\\t\\n\\t\\t\\t\\n\\t\\n\\t\\t\\n\\t\\t\\t\\n\\t\\t\\t\\t\\n\\t\\t\\t\\t\\t<tr onMouseOver=\"mouseOver(this)\" onMouseOut=\"mouseOut(this)\">\\n\\t\\t\\t\\t\\t<td align=\"center\"><span class=\"tah p10 gray03\">2021.05.26</span></td>\\n\\t\\t\\t\\t\\t<td class=\"num\"><span class=\"tah p11\">259,000</span></td>\\n\\t\\t\\t\\t\\t<td class=\"num\">\\n\\t\\t\\t\\t<img src=\"https://ssl.pstatic.net/imgstock/images/images4/ico_down.gif\" width=\"7\" height=\"6\" style=\"margin-right:4px;\" alt=\"하락\"><span class=\"tah p11 nv01\">\\n\\t\\t\\t\\t1,500\\n\\t\\t\\t\\t</span>\\n\\t\\t\\t</td>\\n\\t\\t\\t\\t\\t<td class=\"num\"><span class=\"tah p11\">261,500</span></td>\\n\\t\\t\\t\\t\\t<td class=\"num\"><span class=\"tah p11\">264,000</span></td>\\n\\t\\t\\t\\t\\t<td class=\"num\"><span class=\"tah p11\">256,500</span></td>\\n\\t\\t\\t\\t\\t<td class=\"num\"><span class=\"tah p11\">257,975</span></td>\\n\\t\\t\\t\\t\\t</tr>\\n\\t\\t\\t\\t\\n\\t\\t\\t\\t\\n\\t\\t\\t\\n\\t\\t\\t\\n\\t\\t\\t\\n\\t\\t\\t\\n\\t\\t\\t\\n\\t\\n\\t\\t\\n\\t\\t\\t\\n\\t\\t\\t\\t\\n\\t\\t\\t\\t\\t<tr onMouseOver=\"mouseOver(this)\" onMouseOut=\"mouseOut(this)\">\\n\\t\\t\\t\\t\\t<td align=\"center\"><span class=\"tah p10 gray03\">2021.05.25</span></td>\\n\\t\\t\\t\\t\\t<td class=\"num\"><span class=\"tah p11\">260,500</span></td>\\n\\t\\t\\t\\t\\t<td class=\"num\">\\n\\t\\t\\t\\t<img src=\"https://ssl.pstatic.net/imgstock/images/images4/ico_down.gif\" width=\"7\" height=\"6\" style=\"margin-right:4px;\" alt=\"하락\"><span class=\"tah p11 nv01\">\\n\\t\\t\\t\\t3,000\\n\\t\\t\\t\\t</span>\\n\\t\\t\\t</td>\\n\\t\\t\\t\\t\\t<td class=\"num\"><span class=\"tah p11\">265,000</span></td>\\n\\t\\t\\t\\t\\t<td class=\"num\"><span class=\"tah p11\">266,000</span></td>\\n\\t\\t\\t\\t\\t<td class=\"num\"><span class=\"tah p11\">255,000</span></td>\\n\\t\\t\\t\\t\\t<td class=\"num\"><span class=\"tah p11\">307,669</span></td>\\n\\t\\t\\t\\t\\t</tr>\\n\\t\\t\\t\\t\\n\\t\\t\\t\\t\\n\\t\\t\\t\\n\\t\\t\\t\\n\\t\\t\\t\\n\\t\\t\\t\\n\\t\\t\\t\\n\\t\\n\\t\\t\\n\\t\\t\\t\\n\\t\\t\\t\\t\\n\\t\\t\\t\\t\\t<tr onMouseOver=\"mouseOver(this)\" onMouseOut=\"mouseOut(this)\">\\n\\t\\t\\t\\t\\t<td align=\"center\"><span class=\"tah p10 gray03\">2021.05.24</span></td>\\n\\t\\t\\t\\t\\t<td class=\"num\"><span class=\"tah p11\">263,500</span></td>\\n\\t\\t\\t\\t\\t<td class=\"num\">\\n\\t\\t\\t\\t<img src=\"https://ssl.pstatic.net/imgstock/images/images4/ico_up.gif\" width=\"7\" height=\"6\" style=\"margin-right:4px;\" alt=\"상승\"><span class=\"tah p11 red02\">\\n\\t\\t\\t\\t2,000\\n\\t\\t\\t\\t</span>\\n\\t\\t\\t</td>\\n\\t\\t\\t\\t\\t<td class=\"num\"><span class=\"tah p11\">263,000</span></td>\\n\\t\\t\\t\\t\\t<td class=\"num\"><span class=\"tah p11\">272,000</span></td>\\n\\t\\t\\t\\t\\t<td class=\"num\"><span class=\"tah p11\">261,000</span></td>\\n\\t\\t\\t\\t\\t<td class=\"num\"><span class=\"tah p11\">543,930</span></td>\\n\\t\\t\\t\\t\\t</tr>\\n\\t\\t\\t\\t\\n\\t\\t\\t\\t\\n\\t\\t\\t\\n\\t\\t\\t\\n\\t\\t\\t\\n\\t\\t\\t\\n\\t\\t\\t\\n\\t\\n\\t\\t\\n\\t\\t\\t\\n\\t\\t\\t\\t\\n\\t\\t\\t\\t\\t<tr onMouseOver=\"mouseOver(this)\" onMouseOut=\"mouseOut(this)\">\\n\\t\\t\\t\\t\\t<td align=\"center\"><span class=\"tah p10 gray03\">2021.05.21</span></td>\\n\\t\\t\\t\\t\\t<td class=\"num\"><span class=\"tah p11\">261,500</span></td>\\n\\t\\t\\t\\t\\t<td class=\"num\">\\n\\t\\t\\t\\t<img src=\"https://ssl.pstatic.net/imgstock/images/images4/ico_down.gif\" width=\"7\" height=\"6\" style=\"margin-right:4px;\" alt=\"하락\"><span class=\"tah p11 nv01\">\\n\\t\\t\\t\\t4,500\\n\\t\\t\\t\\t</span>\\n\\t\\t\\t</td>\\n\\t\\t\\t\\t\\t<td class=\"num\"><span class=\"tah p11\">268,000</span></td>\\n\\t\\t\\t\\t\\t<td class=\"num\"><span class=\"tah p11\">272,000</span></td>\\n\\t\\t\\t\\t\\t<td class=\"num\"><span class=\"tah p11\">257,500</span></td>\\n\\t\\t\\t\\t\\t<td class=\"num\"><span class=\"tah p11\">357,864</span></td>\\n\\t\\t\\t\\t\\t</tr>\\n\\t\\t\\t\\t\\n\\t\\t\\t\\t\\n\\t\\t\\t\\n\\t\\t\\t\\n\\t\\t\\t\\n\\t\\t\\t\\n\\t\\t\\t\\t<tr>\\n\\t\\t\\t\\t<td colspan=\"7\" height=\"8\"></td>\\n\\t\\t\\t\\t</tr>\\n\\t\\t\\t\\t<tr>\\n\\t\\t\\t\\t<td colspan=\"7\" height=\"1\" bgcolor=\"#e1e1e1\"></td>\\n\\t\\t\\t\\t</tr>\\n\\t\\t\\t\\t<tr>\\n\\t\\t\\t\\t<td colspan=\"7\" height=\"8\"></td>\\n\\t\\t\\t\\t</tr>\\n\\t\\t\\t\\n\\t\\t\\t\\n\\t\\n\\t\\t\\n\\t\\t\\t\\n\\t\\t\\t\\t\\n\\t\\t\\t\\t\\t<tr onMouseOver=\"mouseOver(this)\" onMouseOut=\"mouseOut(this)\">\\n\\t\\t\\t\\t\\t<td align=\"center\"><span class=\"tah p10 gray03\">2021.05.20</span></td>\\n\\t\\t\\t\\t\\t<td class=\"num\"><span class=\"tah p11\">266,000</span></td>\\n\\t\\t\\t\\t\\t<td class=\"num\">\\n\\t\\t\\t\\t<img src=\"https://ssl.pstatic.net/imgstock/images/images4/ico_up.gif\" width=\"7\" height=\"6\" style=\"margin-right:4px;\" alt=\"상승\"><span class=\"tah p11 red02\">\\n\\t\\t\\t\\t5,500\\n\\t\\t\\t\\t</span>\\n\\t\\t\\t</td>\\n\\t\\t\\t\\t\\t<td class=\"num\"><span class=\"tah p11\">261,000</span></td>\\n\\t\\t\\t\\t\\t<td class=\"num\"><span class=\"tah p11\">266,000</span></td>\\n\\t\\t\\t\\t\\t<td class=\"num\"><span class=\"tah p11\">255,000</span></td>\\n\\t\\t\\t\\t\\t<td class=\"num\"><span class=\"tah p11\">342,100</span></td>\\n\\t\\t\\t\\t\\t</tr>\\n\\t\\t\\t\\t\\n\\t\\t\\t\\t\\n\\t\\t\\t\\n\\t\\t\\t\\n\\t\\t\\t\\n\\t\\t\\t\\n\\t\\t\\t\\n\\t\\n\\t\\t\\n\\t\\t\\t\\n\\t\\t\\t\\t\\n\\t\\t\\t\\t\\t<tr onMouseOver=\"mouseOver(this)\" onMouseOut=\"mouseOut(this)\">\\n\\t\\t\\t\\t\\t<td align=\"center\"><span class=\"tah p10 gray03\">2021.05.18</span></td>\\n\\t\\t\\t\\t\\t<td class=\"num\"><span class=\"tah p11\">260,500</span></td>\\n\\t\\t\\t\\t\\t<td class=\"num\">\\n\\t\\t\\t\\t<img src=\"https://ssl.pstatic.net/imgstock/images/images4/ico_up.gif\" width=\"7\" height=\"6\" style=\"margin-right:4px;\" alt=\"상승\"><span class=\"tah p11 red02\">\\n\\t\\t\\t\\t12,000\\n\\t\\t\\t\\t</span>\\n\\t\\t\\t</td>\\n\\t\\t\\t\\t\\t<td class=\"num\"><span class=\"tah p11\">250,000</span></td>\\n\\t\\t\\t\\t\\t<td class=\"num\"><span class=\"tah p11\">260,500</span></td>\\n\\t\\t\\t\\t\\t<td class=\"num\"><span class=\"tah p11\">249,000</span></td>\\n\\t\\t\\t\\t\\t<td class=\"num\"><span class=\"tah p11\">395,521</span></td>\\n\\t\\t\\t\\t\\t</tr>\\n\\t\\t\\t\\t\\n\\t\\t\\t\\t\\n\\t\\t\\t\\n\\t\\t\\t\\n\\t\\t\\t\\n\\t\\t\\t\\n\\t\\t\\t\\n\\t\\n\\t\\t\\n\\t\\t\\t\\n\\t\\t\\t\\t\\n\\t\\t\\t\\t\\t<tr onMouseOver=\"mouseOver(this)\" onMouseOut=\"mouseOut(this)\">\\n\\t\\t\\t\\t\\t<td align=\"center\"><span class=\"tah p10 gray03\">2021.05.17</span></td>\\n\\t\\t\\t\\t\\t<td class=\"num\"><span class=\"tah p11\">248,500</span></td>\\n\\t\\t\\t\\t\\t<td class=\"num\">\\n\\t\\t\\t\\t<img src=\"https://ssl.pstatic.net/imgstock/images/images4/ico_up.gif\" width=\"7\" height=\"6\" style=\"margin-right:4px;\" alt=\"상승\"><span class=\"tah p11 red02\">\\n\\t\\t\\t\\t6,000\\n\\t\\t\\t\\t</span>\\n\\t\\t\\t</td>\\n\\t\\t\\t\\t\\t<td class=\"num\"><span class=\"tah p11\">242,500</span></td>\\n\\t\\t\\t\\t\\t<td class=\"num\"><span class=\"tah p11\">248,500</span></td>\\n\\t\\t\\t\\t\\t<td class=\"num\"><span class=\"tah p11\">242,500</span></td>\\n\\t\\t\\t\\t\\t<td class=\"num\"><span class=\"tah p11\">143,607</span></td>\\n\\t\\t\\t\\t\\t</tr>\\n\\t\\t\\t\\t\\n\\t\\t\\t\\t\\n\\t\\t\\t\\n\\t\\t\\t\\n\\t\\t\\t\\n\\t\\t\\t\\n\\t\\t\\t\\n\\t\\n\\t\\t\\n\\t\\t\\t\\n\\t\\t\\t\\t\\n\\t\\t\\t\\t\\t<tr onMouseOver=\"mouseOver(this)\" onMouseOut=\"mouseOut(this)\">\\n\\t\\t\\t\\t\\t<td align=\"center\"><span class=\"tah p10 gray03\">2021.05.14</span></td>\\n\\t\\t\\t\\t\\t<td class=\"num\"><span class=\"tah p11\">242,500</span></td>\\n\\t\\t\\t\\t\\t<td class=\"num\">\\n\\t\\t\\t\\t<img src=\"https://ssl.pstatic.net/imgstock/images/images4/ico_up.gif\" width=\"7\" height=\"6\" style=\"margin-right:4px;\" alt=\"상승\"><span class=\"tah p11 red02\">\\n\\t\\t\\t\\t2,000\\n\\t\\t\\t\\t</span>\\n\\t\\t\\t</td>\\n\\t\\t\\t\\t\\t<td class=\"num\"><span class=\"tah p11\">245,000</span></td>\\n\\t\\t\\t\\t\\t<td class=\"num\"><span class=\"tah p11\">245,000</span></td>\\n\\t\\t\\t\\t\\t<td class=\"num\"><span class=\"tah p11\">241,000</span></td>\\n\\t\\t\\t\\t\\t<td class=\"num\"><span class=\"tah p11\">149,565</span></td>\\n\\t\\t\\t\\t\\t</tr>\\n\\t\\t\\t\\t\\n\\t\\t\\t\\t\\n\\t\\t\\t\\n\\t\\t\\t\\n\\t\\t\\t\\n\\t\\t\\t\\n\\t\\t\\t\\n\\t\\n\\t\\t\\n\\t\\t\\t\\n\\t\\t\\t\\t\\n\\t\\t\\t\\t\\t<tr onMouseOver=\"mouseOver(this)\" onMouseOut=\"mouseOut(this)\">\\n\\t\\t\\t\\t\\t<td align=\"center\"><span class=\"tah p10 gray03\">2021.05.13</span></td>\\n\\t\\t\\t\\t\\t<td class=\"num\"><span class=\"tah p11\">240,500</span></td>\\n\\t\\t\\t\\t\\t<td class=\"num\">\\n\\t\\t\\t\\t<img src=\"https://ssl.pstatic.net/imgstock/images/images4/ico_down.gif\" width=\"7\" height=\"6\" style=\"margin-right:4px;\" alt=\"하락\"><span class=\"tah p11 nv01\">\\n\\t\\t\\t\\t5,500\\n\\t\\t\\t\\t</span>\\n\\t\\t\\t</td>\\n\\t\\t\\t\\t\\t<td class=\"num\"><span class=\"tah p11\">242,000</span></td>\\n\\t\\t\\t\\t\\t<td class=\"num\"><span class=\"tah p11\">246,000</span></td>\\n\\t\\t\\t\\t\\t<td class=\"num\"><span class=\"tah p11\">238,000</span></td>\\n\\t\\t\\t\\t\\t<td class=\"num\"><span class=\"tah p11\">248,997</span></td>\\n\\t\\t\\t\\t\\t</tr>\\n\\t\\t\\t\\t\\n\\t\\t\\t\\t\\n\\t\\t\\t\\n\\t\\t\\t\\n\\t\\t\\t\\n\\t\\t\\t\\n\\t\\t\\t\\n\\t\\n\\t\\t\\n\\t\\n\\n\\t\\t\\t\\t<tr>\\n\\t\\t\\t\\t<td colspan=\"7\" height=\"8\"></td>\\n\\t\\t\\t\\t</tr>\\n\\t\\t\\t\\t</table>\\n\\t\\t\\t\\t<!--- 페이지 네비게이션 시작--->\\n\\t\\t\\t\\t<table summary=\"페이지 네비게이션 리스트\" class=\"Nnavi\" align=\"center\">\\n\\t\\t\\t\\t<caption>페이지 네비게이션</caption>\\n\\t\\t\\t\\t<tr>\\t\\t\\n\\t\\t\\t\\n\\t\\t\\t\\t<td class=\"pgLL\">\\n\\t\\t\\t\\t<a href=\"/item/sise_day.nhn?code=352820&amp;page=1\"  >\\n\\t\\t\\t\\t<img src=\"https://ssl.pstatic.net/static/n/cmn/bu_pgarLL.gif\" width=\"7\" height=\"5\" alt=\"\">맨앞\\n\\t\\t\\t\\t</a>\\n\\t\\t\\t\\t</td>\\n\\n                \\n                <td>\\n\\t\\t\\t\\t<a href=\"/item/sise_day.nhn?code=352820&amp;page=1\"  >1</a>\\n\\t\\t\\t\\t</td>\\n<td>\\n\\t\\t\\t\\t<a href=\"/item/sise_day.nhn?code=352820&amp;page=2\"  >2</a>\\n\\t\\t\\t\\t</td>\\n<td class=\"on\">\\n\\t\\t\\t\\t<a href=\"/item/sise_day.nhn?code=352820&amp;page=3\"  >3</a>\\n\\t\\t\\t\\t</td>\\n<td>\\n\\t\\t\\t\\t<a href=\"/item/sise_day.nhn?code=352820&amp;page=4\"  >4</a>\\n\\t\\t\\t\\t</td>\\n<td>\\n\\t\\t\\t\\t<a href=\"/item/sise_day.nhn?code=352820&amp;page=5\"  >5</a>\\n\\t\\t\\t\\t</td>\\n<td>\\n\\t\\t\\t\\t<a href=\"/item/sise_day.nhn?code=352820&amp;page=6\"  >6</a>\\n\\t\\t\\t\\t</td>\\n<td>\\n\\t\\t\\t\\t<a href=\"/item/sise_day.nhn?code=352820&amp;page=7\"  >7</a>\\n\\t\\t\\t\\t</td>\\n<td>\\n\\t\\t\\t\\t<a href=\"/item/sise_day.nhn?code=352820&amp;page=8\"  >8</a>\\n\\t\\t\\t\\t</td>\\n<td>\\n\\t\\t\\t\\t<a href=\"/item/sise_day.nhn?code=352820&amp;page=9\"  >9</a>\\n\\t\\t\\t\\t</td>\\n<td>\\n\\t\\t\\t\\t<a href=\"/item/sise_day.nhn?code=352820&amp;page=10\"  >10</a>\\n\\t\\t\\t\\t</td>\\n\\n                <td class=\"pgR\">\\n\\t\\t\\t\\t<a href=\"/item/sise_day.nhn?code=352820&amp;page=11\"  >\\n\\t\\t\\t\\t다음<img src=\"https://ssl.pstatic.net/static/n/cmn/bu_pgarR.gif\" width=\"3\" height=\"5\" alt=\"\" border=\"0\">\\n\\t\\t\\t\\t</a>\\n\\t\\t\\t\\t</td>\\n\\n                <td class=\"pgRR\">\\n\\t\\t\\t\\t<a href=\"/item/sise_day.nhn?code=352820&amp;page=18\"  >맨뒤\\n\\t\\t\\t\\t<img src=\"https://ssl.pstatic.net/static/n/cmn/bu_pgarRR.gif\" width=\"8\" height=\"5\" alt=\"\" border=\"0\">\\n\\t\\t\\t\\t</a>\\n\\t\\t\\t\\t</td>\\n\\n            \\n\\t\\t\\t\\t</tr>\\n\\t\\t\\t\\t</table>\\n\\t\\t\\t\\t<!--- 페이지 네비게이션 끝--->\\n\\n\\n\\t<script type=\"text/javascript\" src=\"https://ssl.pstatic.net/imgstock/static.pc/20210624194556/js/jindo.min.ns.1.5.3.euckr.js\"></script>\\n\\t<script type=\"text/javascript\" src=\"https://ssl.pstatic.net/imgstock/static.pc/20210624194556/js/lcslog.js\"></script>\\n\\t<script type=\"text/javascript\">\\n        ;(function(){\\n            var eventType = \"onpageshow\" in window ? \"pageshow\" : \"load\";\\n            jindo.$Fn(function(){\\n                lcs_do();\\n            }).attach(window, eventType);\\n        })();\\n\\t</script>\\n\\n</body>'"
      ]
     },
     "execution_count": 16,
     "metadata": {},
     "output_type": "execute_result"
    }
   ],
   "source": [
    "response.text"
   ]
  },
  {
   "cell_type": "markdown",
   "metadata": {
    "id": "IGxRB1hgpzJ-"
   },
   "source": [
    "## BeautifulSoup 을 통한 table 태그 찾기"
   ]
  },
  {
   "cell_type": "code",
   "execution_count": 17,
   "metadata": {
    "id": "e8xvhBcKpzJ-"
   },
   "outputs": [],
   "source": [
    "from bs4 import BeautifulSoup as bs"
   ]
  },
  {
   "cell_type": "code",
   "execution_count": 18,
   "metadata": {
    "id": "AvLHkpkOpzJ_"
   },
   "outputs": [],
   "source": [
    "html=bs(response.text,\"lxml\")"
   ]
  },
  {
   "cell_type": "code",
   "execution_count": 19,
   "metadata": {},
   "outputs": [],
   "source": [
    "temp=html.select(\"table\")"
   ]
  },
  {
   "cell_type": "code",
   "execution_count": 23,
   "metadata": {
    "scrolled": false
   },
   "outputs": [
    {
     "data": {
      "text/plain": [
       "[<table cellspacing=\"0\" class=\"type2\">\n",
       " <tr>\n",
       " <th>날짜</th>\n",
       " <th>종가</th>\n",
       " <th>전일비</th>\n",
       " <th>시가</th>\n",
       " <th>고가</th>\n",
       " <th>저가</th>\n",
       " <th>거래량</th>\n",
       " </tr>\n",
       " <tr>\n",
       " <td colspan=\"7\" height=\"8\"></td>\n",
       " </tr>\n",
       " <tr onmouseout=\"mouseOut(this)\" onmouseover=\"mouseOver(this)\">\n",
       " <td align=\"center\"><span class=\"tah p10 gray03\">2021.05.27</span></td>\n",
       " <td class=\"num\"><span class=\"tah p11\">253,000</span></td>\n",
       " <td class=\"num\">\n",
       " <img alt=\"하락\" height=\"6\" src=\"https://ssl.pstatic.net/imgstock/images/images4/ico_down.gif\" style=\"margin-right:4px;\" width=\"7\"/><span class=\"tah p11 nv01\">\n",
       " \t\t\t\t6,000\n",
       " \t\t\t\t</span>\n",
       " </td>\n",
       " <td class=\"num\"><span class=\"tah p11\">259,500</span></td>\n",
       " <td class=\"num\"><span class=\"tah p11\">260,000</span></td>\n",
       " <td class=\"num\"><span class=\"tah p11\">252,000</span></td>\n",
       " <td class=\"num\"><span class=\"tah p11\">1,175,231</span></td>\n",
       " </tr>\n",
       " <tr onmouseout=\"mouseOut(this)\" onmouseover=\"mouseOver(this)\">\n",
       " <td align=\"center\"><span class=\"tah p10 gray03\">2021.05.26</span></td>\n",
       " <td class=\"num\"><span class=\"tah p11\">259,000</span></td>\n",
       " <td class=\"num\">\n",
       " <img alt=\"하락\" height=\"6\" src=\"https://ssl.pstatic.net/imgstock/images/images4/ico_down.gif\" style=\"margin-right:4px;\" width=\"7\"/><span class=\"tah p11 nv01\">\n",
       " \t\t\t\t1,500\n",
       " \t\t\t\t</span>\n",
       " </td>\n",
       " <td class=\"num\"><span class=\"tah p11\">261,500</span></td>\n",
       " <td class=\"num\"><span class=\"tah p11\">264,000</span></td>\n",
       " <td class=\"num\"><span class=\"tah p11\">256,500</span></td>\n",
       " <td class=\"num\"><span class=\"tah p11\">257,975</span></td>\n",
       " </tr>\n",
       " <tr onmouseout=\"mouseOut(this)\" onmouseover=\"mouseOver(this)\">\n",
       " <td align=\"center\"><span class=\"tah p10 gray03\">2021.05.25</span></td>\n",
       " <td class=\"num\"><span class=\"tah p11\">260,500</span></td>\n",
       " <td class=\"num\">\n",
       " <img alt=\"하락\" height=\"6\" src=\"https://ssl.pstatic.net/imgstock/images/images4/ico_down.gif\" style=\"margin-right:4px;\" width=\"7\"/><span class=\"tah p11 nv01\">\n",
       " \t\t\t\t3,000\n",
       " \t\t\t\t</span>\n",
       " </td>\n",
       " <td class=\"num\"><span class=\"tah p11\">265,000</span></td>\n",
       " <td class=\"num\"><span class=\"tah p11\">266,000</span></td>\n",
       " <td class=\"num\"><span class=\"tah p11\">255,000</span></td>\n",
       " <td class=\"num\"><span class=\"tah p11\">307,669</span></td>\n",
       " </tr>\n",
       " <tr onmouseout=\"mouseOut(this)\" onmouseover=\"mouseOver(this)\">\n",
       " <td align=\"center\"><span class=\"tah p10 gray03\">2021.05.24</span></td>\n",
       " <td class=\"num\"><span class=\"tah p11\">263,500</span></td>\n",
       " <td class=\"num\">\n",
       " <img alt=\"상승\" height=\"6\" src=\"https://ssl.pstatic.net/imgstock/images/images4/ico_up.gif\" style=\"margin-right:4px;\" width=\"7\"/><span class=\"tah p11 red02\">\n",
       " \t\t\t\t2,000\n",
       " \t\t\t\t</span>\n",
       " </td>\n",
       " <td class=\"num\"><span class=\"tah p11\">263,000</span></td>\n",
       " <td class=\"num\"><span class=\"tah p11\">272,000</span></td>\n",
       " <td class=\"num\"><span class=\"tah p11\">261,000</span></td>\n",
       " <td class=\"num\"><span class=\"tah p11\">543,930</span></td>\n",
       " </tr>\n",
       " <tr onmouseout=\"mouseOut(this)\" onmouseover=\"mouseOver(this)\">\n",
       " <td align=\"center\"><span class=\"tah p10 gray03\">2021.05.21</span></td>\n",
       " <td class=\"num\"><span class=\"tah p11\">261,500</span></td>\n",
       " <td class=\"num\">\n",
       " <img alt=\"하락\" height=\"6\" src=\"https://ssl.pstatic.net/imgstock/images/images4/ico_down.gif\" style=\"margin-right:4px;\" width=\"7\"/><span class=\"tah p11 nv01\">\n",
       " \t\t\t\t4,500\n",
       " \t\t\t\t</span>\n",
       " </td>\n",
       " <td class=\"num\"><span class=\"tah p11\">268,000</span></td>\n",
       " <td class=\"num\"><span class=\"tah p11\">272,000</span></td>\n",
       " <td class=\"num\"><span class=\"tah p11\">257,500</span></td>\n",
       " <td class=\"num\"><span class=\"tah p11\">357,864</span></td>\n",
       " </tr>\n",
       " <tr>\n",
       " <td colspan=\"7\" height=\"8\"></td>\n",
       " </tr>\n",
       " <tr>\n",
       " <td bgcolor=\"#e1e1e1\" colspan=\"7\" height=\"1\"></td>\n",
       " </tr>\n",
       " <tr>\n",
       " <td colspan=\"7\" height=\"8\"></td>\n",
       " </tr>\n",
       " <tr onmouseout=\"mouseOut(this)\" onmouseover=\"mouseOver(this)\">\n",
       " <td align=\"center\"><span class=\"tah p10 gray03\">2021.05.20</span></td>\n",
       " <td class=\"num\"><span class=\"tah p11\">266,000</span></td>\n",
       " <td class=\"num\">\n",
       " <img alt=\"상승\" height=\"6\" src=\"https://ssl.pstatic.net/imgstock/images/images4/ico_up.gif\" style=\"margin-right:4px;\" width=\"7\"/><span class=\"tah p11 red02\">\n",
       " \t\t\t\t5,500\n",
       " \t\t\t\t</span>\n",
       " </td>\n",
       " <td class=\"num\"><span class=\"tah p11\">261,000</span></td>\n",
       " <td class=\"num\"><span class=\"tah p11\">266,000</span></td>\n",
       " <td class=\"num\"><span class=\"tah p11\">255,000</span></td>\n",
       " <td class=\"num\"><span class=\"tah p11\">342,100</span></td>\n",
       " </tr>\n",
       " <tr onmouseout=\"mouseOut(this)\" onmouseover=\"mouseOver(this)\">\n",
       " <td align=\"center\"><span class=\"tah p10 gray03\">2021.05.18</span></td>\n",
       " <td class=\"num\"><span class=\"tah p11\">260,500</span></td>\n",
       " <td class=\"num\">\n",
       " <img alt=\"상승\" height=\"6\" src=\"https://ssl.pstatic.net/imgstock/images/images4/ico_up.gif\" style=\"margin-right:4px;\" width=\"7\"/><span class=\"tah p11 red02\">\n",
       " \t\t\t\t12,000\n",
       " \t\t\t\t</span>\n",
       " </td>\n",
       " <td class=\"num\"><span class=\"tah p11\">250,000</span></td>\n",
       " <td class=\"num\"><span class=\"tah p11\">260,500</span></td>\n",
       " <td class=\"num\"><span class=\"tah p11\">249,000</span></td>\n",
       " <td class=\"num\"><span class=\"tah p11\">395,521</span></td>\n",
       " </tr>\n",
       " <tr onmouseout=\"mouseOut(this)\" onmouseover=\"mouseOver(this)\">\n",
       " <td align=\"center\"><span class=\"tah p10 gray03\">2021.05.17</span></td>\n",
       " <td class=\"num\"><span class=\"tah p11\">248,500</span></td>\n",
       " <td class=\"num\">\n",
       " <img alt=\"상승\" height=\"6\" src=\"https://ssl.pstatic.net/imgstock/images/images4/ico_up.gif\" style=\"margin-right:4px;\" width=\"7\"/><span class=\"tah p11 red02\">\n",
       " \t\t\t\t6,000\n",
       " \t\t\t\t</span>\n",
       " </td>\n",
       " <td class=\"num\"><span class=\"tah p11\">242,500</span></td>\n",
       " <td class=\"num\"><span class=\"tah p11\">248,500</span></td>\n",
       " <td class=\"num\"><span class=\"tah p11\">242,500</span></td>\n",
       " <td class=\"num\"><span class=\"tah p11\">143,607</span></td>\n",
       " </tr>\n",
       " <tr onmouseout=\"mouseOut(this)\" onmouseover=\"mouseOver(this)\">\n",
       " <td align=\"center\"><span class=\"tah p10 gray03\">2021.05.14</span></td>\n",
       " <td class=\"num\"><span class=\"tah p11\">242,500</span></td>\n",
       " <td class=\"num\">\n",
       " <img alt=\"상승\" height=\"6\" src=\"https://ssl.pstatic.net/imgstock/images/images4/ico_up.gif\" style=\"margin-right:4px;\" width=\"7\"/><span class=\"tah p11 red02\">\n",
       " \t\t\t\t2,000\n",
       " \t\t\t\t</span>\n",
       " </td>\n",
       " <td class=\"num\"><span class=\"tah p11\">245,000</span></td>\n",
       " <td class=\"num\"><span class=\"tah p11\">245,000</span></td>\n",
       " <td class=\"num\"><span class=\"tah p11\">241,000</span></td>\n",
       " <td class=\"num\"><span class=\"tah p11\">149,565</span></td>\n",
       " </tr>\n",
       " <tr onmouseout=\"mouseOut(this)\" onmouseover=\"mouseOver(this)\">\n",
       " <td align=\"center\"><span class=\"tah p10 gray03\">2021.05.13</span></td>\n",
       " <td class=\"num\"><span class=\"tah p11\">240,500</span></td>\n",
       " <td class=\"num\">\n",
       " <img alt=\"하락\" height=\"6\" src=\"https://ssl.pstatic.net/imgstock/images/images4/ico_down.gif\" style=\"margin-right:4px;\" width=\"7\"/><span class=\"tah p11 nv01\">\n",
       " \t\t\t\t5,500\n",
       " \t\t\t\t</span>\n",
       " </td>\n",
       " <td class=\"num\"><span class=\"tah p11\">242,000</span></td>\n",
       " <td class=\"num\"><span class=\"tah p11\">246,000</span></td>\n",
       " <td class=\"num\"><span class=\"tah p11\">238,000</span></td>\n",
       " <td class=\"num\"><span class=\"tah p11\">248,997</span></td>\n",
       " </tr>\n",
       " <tr>\n",
       " <td colspan=\"7\" height=\"8\"></td>\n",
       " </tr>\n",
       " </table>,\n",
       " <table align=\"center\" class=\"Nnavi\" summary=\"페이지 네비게이션 리스트\">\n",
       " <caption>페이지 네비게이션</caption>\n",
       " <tr>\n",
       " <td class=\"pgLL\">\n",
       " <a href=\"/item/sise_day.nhn?code=352820&amp;page=1\">\n",
       " <img alt=\"\" height=\"5\" src=\"https://ssl.pstatic.net/static/n/cmn/bu_pgarLL.gif\" width=\"7\"/>맨앞\n",
       " \t\t\t\t</a>\n",
       " </td>\n",
       " <td>\n",
       " <a href=\"/item/sise_day.nhn?code=352820&amp;page=1\">1</a>\n",
       " </td>\n",
       " <td>\n",
       " <a href=\"/item/sise_day.nhn?code=352820&amp;page=2\">2</a>\n",
       " </td>\n",
       " <td class=\"on\">\n",
       " <a href=\"/item/sise_day.nhn?code=352820&amp;page=3\">3</a>\n",
       " </td>\n",
       " <td>\n",
       " <a href=\"/item/sise_day.nhn?code=352820&amp;page=4\">4</a>\n",
       " </td>\n",
       " <td>\n",
       " <a href=\"/item/sise_day.nhn?code=352820&amp;page=5\">5</a>\n",
       " </td>\n",
       " <td>\n",
       " <a href=\"/item/sise_day.nhn?code=352820&amp;page=6\">6</a>\n",
       " </td>\n",
       " <td>\n",
       " <a href=\"/item/sise_day.nhn?code=352820&amp;page=7\">7</a>\n",
       " </td>\n",
       " <td>\n",
       " <a href=\"/item/sise_day.nhn?code=352820&amp;page=8\">8</a>\n",
       " </td>\n",
       " <td>\n",
       " <a href=\"/item/sise_day.nhn?code=352820&amp;page=9\">9</a>\n",
       " </td>\n",
       " <td>\n",
       " <a href=\"/item/sise_day.nhn?code=352820&amp;page=10\">10</a>\n",
       " </td>\n",
       " <td class=\"pgR\">\n",
       " <a href=\"/item/sise_day.nhn?code=352820&amp;page=11\">\n",
       " \t\t\t\t다음<img alt=\"\" border=\"0\" height=\"5\" src=\"https://ssl.pstatic.net/static/n/cmn/bu_pgarR.gif\" width=\"3\"/>\n",
       " </a>\n",
       " </td>\n",
       " <td class=\"pgRR\">\n",
       " <a href=\"/item/sise_day.nhn?code=352820&amp;page=18\">맨뒤\n",
       " \t\t\t\t<img alt=\"\" border=\"0\" height=\"5\" src=\"https://ssl.pstatic.net/static/n/cmn/bu_pgarRR.gif\" width=\"8\"/>\n",
       " </a>\n",
       " </td>\n",
       " </tr>\n",
       " </table>]"
      ]
     },
     "execution_count": 23,
     "metadata": {},
     "output_type": "execute_result"
    }
   ],
   "source": [
    "temp"
   ]
  },
  {
   "cell_type": "code",
   "execution_count": 24,
   "metadata": {},
   "outputs": [
    {
     "data": {
      "text/plain": [
       "'[<table cellspacing=\"0\" class=\"type2\">\\n<tr>\\n<th>날짜</th>\\n<th>종가</th>\\n<th>전일비</th>\\n<th>시가</th>\\n<th>고가</th>\\n<th>저가</th>\\n<th>거래량</th>\\n</tr>\\n<tr>\\n<td colspan=\"7\" height=\"8\"></td>\\n</tr>\\n<tr onmouseout=\"mouseOut(this)\" onmouseover=\"mouseOver(this)\">\\n<td align=\"center\"><span class=\"tah p10 gray03\">2021.05.27</span></td>\\n<td class=\"num\"><span class=\"tah p11\">253,000</span></td>\\n<td class=\"num\">\\n<img alt=\"하락\" height=\"6\" src=\"https://ssl.pstatic.net/imgstock/images/images4/ico_down.gif\" style=\"margin-right:4px;\" width=\"7\"/><span class=\"tah p11 nv01\">\\n\\t\\t\\t\\t6,000\\n\\t\\t\\t\\t</span>\\n</td>\\n<td class=\"num\"><span class=\"tah p11\">259,500</span></td>\\n<td class=\"num\"><span class=\"tah p11\">260,000</span></td>\\n<td class=\"num\"><span class=\"tah p11\">252,000</span></td>\\n<td class=\"num\"><span class=\"tah p11\">1,175,231</span></td>\\n</tr>\\n<tr onmouseout=\"mouseOut(this)\" onmouseover=\"mouseOver(this)\">\\n<td align=\"center\"><span class=\"tah p10 gray03\">2021.05.26</span></td>\\n<td class=\"num\"><span class=\"tah p11\">259,000</span></td>\\n<td class=\"num\">\\n<img alt=\"하락\" height=\"6\" src=\"https://ssl.pstatic.net/imgstock/images/images4/ico_down.gif\" style=\"margin-right:4px;\" width=\"7\"/><span class=\"tah p11 nv01\">\\n\\t\\t\\t\\t1,500\\n\\t\\t\\t\\t</span>\\n</td>\\n<td class=\"num\"><span class=\"tah p11\">261,500</span></td>\\n<td class=\"num\"><span class=\"tah p11\">264,000</span></td>\\n<td class=\"num\"><span class=\"tah p11\">256,500</span></td>\\n<td class=\"num\"><span class=\"tah p11\">257,975</span></td>\\n</tr>\\n<tr onmouseout=\"mouseOut(this)\" onmouseover=\"mouseOver(this)\">\\n<td align=\"center\"><span class=\"tah p10 gray03\">2021.05.25</span></td>\\n<td class=\"num\"><span class=\"tah p11\">260,500</span></td>\\n<td class=\"num\">\\n<img alt=\"하락\" height=\"6\" src=\"https://ssl.pstatic.net/imgstock/images/images4/ico_down.gif\" style=\"margin-right:4px;\" width=\"7\"/><span class=\"tah p11 nv01\">\\n\\t\\t\\t\\t3,000\\n\\t\\t\\t\\t</span>\\n</td>\\n<td class=\"num\"><span class=\"tah p11\">265,000</span></td>\\n<td class=\"num\"><span class=\"tah p11\">266,000</span></td>\\n<td class=\"num\"><span class=\"tah p11\">255,000</span></td>\\n<td class=\"num\"><span class=\"tah p11\">307,669</span></td>\\n</tr>\\n<tr onmouseout=\"mouseOut(this)\" onmouseover=\"mouseOver(this)\">\\n<td align=\"center\"><span class=\"tah p10 gray03\">2021.05.24</span></td>\\n<td class=\"num\"><span class=\"tah p11\">263,500</span></td>\\n<td class=\"num\">\\n<img alt=\"상승\" height=\"6\" src=\"https://ssl.pstatic.net/imgstock/images/images4/ico_up.gif\" style=\"margin-right:4px;\" width=\"7\"/><span class=\"tah p11 red02\">\\n\\t\\t\\t\\t2,000\\n\\t\\t\\t\\t</span>\\n</td>\\n<td class=\"num\"><span class=\"tah p11\">263,000</span></td>\\n<td class=\"num\"><span class=\"tah p11\">272,000</span></td>\\n<td class=\"num\"><span class=\"tah p11\">261,000</span></td>\\n<td class=\"num\"><span class=\"tah p11\">543,930</span></td>\\n</tr>\\n<tr onmouseout=\"mouseOut(this)\" onmouseover=\"mouseOver(this)\">\\n<td align=\"center\"><span class=\"tah p10 gray03\">2021.05.21</span></td>\\n<td class=\"num\"><span class=\"tah p11\">261,500</span></td>\\n<td class=\"num\">\\n<img alt=\"하락\" height=\"6\" src=\"https://ssl.pstatic.net/imgstock/images/images4/ico_down.gif\" style=\"margin-right:4px;\" width=\"7\"/><span class=\"tah p11 nv01\">\\n\\t\\t\\t\\t4,500\\n\\t\\t\\t\\t</span>\\n</td>\\n<td class=\"num\"><span class=\"tah p11\">268,000</span></td>\\n<td class=\"num\"><span class=\"tah p11\">272,000</span></td>\\n<td class=\"num\"><span class=\"tah p11\">257,500</span></td>\\n<td class=\"num\"><span class=\"tah p11\">357,864</span></td>\\n</tr>\\n<tr>\\n<td colspan=\"7\" height=\"8\"></td>\\n</tr>\\n<tr>\\n<td bgcolor=\"#e1e1e1\" colspan=\"7\" height=\"1\"></td>\\n</tr>\\n<tr>\\n<td colspan=\"7\" height=\"8\"></td>\\n</tr>\\n<tr onmouseout=\"mouseOut(this)\" onmouseover=\"mouseOver(this)\">\\n<td align=\"center\"><span class=\"tah p10 gray03\">2021.05.20</span></td>\\n<td class=\"num\"><span class=\"tah p11\">266,000</span></td>\\n<td class=\"num\">\\n<img alt=\"상승\" height=\"6\" src=\"https://ssl.pstatic.net/imgstock/images/images4/ico_up.gif\" style=\"margin-right:4px;\" width=\"7\"/><span class=\"tah p11 red02\">\\n\\t\\t\\t\\t5,500\\n\\t\\t\\t\\t</span>\\n</td>\\n<td class=\"num\"><span class=\"tah p11\">261,000</span></td>\\n<td class=\"num\"><span class=\"tah p11\">266,000</span></td>\\n<td class=\"num\"><span class=\"tah p11\">255,000</span></td>\\n<td class=\"num\"><span class=\"tah p11\">342,100</span></td>\\n</tr>\\n<tr onmouseout=\"mouseOut(this)\" onmouseover=\"mouseOver(this)\">\\n<td align=\"center\"><span class=\"tah p10 gray03\">2021.05.18</span></td>\\n<td class=\"num\"><span class=\"tah p11\">260,500</span></td>\\n<td class=\"num\">\\n<img alt=\"상승\" height=\"6\" src=\"https://ssl.pstatic.net/imgstock/images/images4/ico_up.gif\" style=\"margin-right:4px;\" width=\"7\"/><span class=\"tah p11 red02\">\\n\\t\\t\\t\\t12,000\\n\\t\\t\\t\\t</span>\\n</td>\\n<td class=\"num\"><span class=\"tah p11\">250,000</span></td>\\n<td class=\"num\"><span class=\"tah p11\">260,500</span></td>\\n<td class=\"num\"><span class=\"tah p11\">249,000</span></td>\\n<td class=\"num\"><span class=\"tah p11\">395,521</span></td>\\n</tr>\\n<tr onmouseout=\"mouseOut(this)\" onmouseover=\"mouseOver(this)\">\\n<td align=\"center\"><span class=\"tah p10 gray03\">2021.05.17</span></td>\\n<td class=\"num\"><span class=\"tah p11\">248,500</span></td>\\n<td class=\"num\">\\n<img alt=\"상승\" height=\"6\" src=\"https://ssl.pstatic.net/imgstock/images/images4/ico_up.gif\" style=\"margin-right:4px;\" width=\"7\"/><span class=\"tah p11 red02\">\\n\\t\\t\\t\\t6,000\\n\\t\\t\\t\\t</span>\\n</td>\\n<td class=\"num\"><span class=\"tah p11\">242,500</span></td>\\n<td class=\"num\"><span class=\"tah p11\">248,500</span></td>\\n<td class=\"num\"><span class=\"tah p11\">242,500</span></td>\\n<td class=\"num\"><span class=\"tah p11\">143,607</span></td>\\n</tr>\\n<tr onmouseout=\"mouseOut(this)\" onmouseover=\"mouseOver(this)\">\\n<td align=\"center\"><span class=\"tah p10 gray03\">2021.05.14</span></td>\\n<td class=\"num\"><span class=\"tah p11\">242,500</span></td>\\n<td class=\"num\">\\n<img alt=\"상승\" height=\"6\" src=\"https://ssl.pstatic.net/imgstock/images/images4/ico_up.gif\" style=\"margin-right:4px;\" width=\"7\"/><span class=\"tah p11 red02\">\\n\\t\\t\\t\\t2,000\\n\\t\\t\\t\\t</span>\\n</td>\\n<td class=\"num\"><span class=\"tah p11\">245,000</span></td>\\n<td class=\"num\"><span class=\"tah p11\">245,000</span></td>\\n<td class=\"num\"><span class=\"tah p11\">241,000</span></td>\\n<td class=\"num\"><span class=\"tah p11\">149,565</span></td>\\n</tr>\\n<tr onmouseout=\"mouseOut(this)\" onmouseover=\"mouseOver(this)\">\\n<td align=\"center\"><span class=\"tah p10 gray03\">2021.05.13</span></td>\\n<td class=\"num\"><span class=\"tah p11\">240,500</span></td>\\n<td class=\"num\">\\n<img alt=\"하락\" height=\"6\" src=\"https://ssl.pstatic.net/imgstock/images/images4/ico_down.gif\" style=\"margin-right:4px;\" width=\"7\"/><span class=\"tah p11 nv01\">\\n\\t\\t\\t\\t5,500\\n\\t\\t\\t\\t</span>\\n</td>\\n<td class=\"num\"><span class=\"tah p11\">242,000</span></td>\\n<td class=\"num\"><span class=\"tah p11\">246,000</span></td>\\n<td class=\"num\"><span class=\"tah p11\">238,000</span></td>\\n<td class=\"num\"><span class=\"tah p11\">248,997</span></td>\\n</tr>\\n<tr>\\n<td colspan=\"7\" height=\"8\"></td>\\n</tr>\\n</table>, <table align=\"center\" class=\"Nnavi\" summary=\"페이지 네비게이션 리스트\">\\n<caption>페이지 네비게이션</caption>\\n<tr>\\n<td class=\"pgLL\">\\n<a href=\"/item/sise_day.nhn?code=352820&amp;page=1\">\\n<img alt=\"\" height=\"5\" src=\"https://ssl.pstatic.net/static/n/cmn/bu_pgarLL.gif\" width=\"7\"/>맨앞\\n\\t\\t\\t\\t</a>\\n</td>\\n<td>\\n<a href=\"/item/sise_day.nhn?code=352820&amp;page=1\">1</a>\\n</td>\\n<td>\\n<a href=\"/item/sise_day.nhn?code=352820&amp;page=2\">2</a>\\n</td>\\n<td class=\"on\">\\n<a href=\"/item/sise_day.nhn?code=352820&amp;page=3\">3</a>\\n</td>\\n<td>\\n<a href=\"/item/sise_day.nhn?code=352820&amp;page=4\">4</a>\\n</td>\\n<td>\\n<a href=\"/item/sise_day.nhn?code=352820&amp;page=5\">5</a>\\n</td>\\n<td>\\n<a href=\"/item/sise_day.nhn?code=352820&amp;page=6\">6</a>\\n</td>\\n<td>\\n<a href=\"/item/sise_day.nhn?code=352820&amp;page=7\">7</a>\\n</td>\\n<td>\\n<a href=\"/item/sise_day.nhn?code=352820&amp;page=8\">8</a>\\n</td>\\n<td>\\n<a href=\"/item/sise_day.nhn?code=352820&amp;page=9\">9</a>\\n</td>\\n<td>\\n<a href=\"/item/sise_day.nhn?code=352820&amp;page=10\">10</a>\\n</td>\\n<td class=\"pgR\">\\n<a href=\"/item/sise_day.nhn?code=352820&amp;page=11\">\\n\\t\\t\\t\\t다음<img alt=\"\" border=\"0\" height=\"5\" src=\"https://ssl.pstatic.net/static/n/cmn/bu_pgarR.gif\" width=\"3\"/>\\n</a>\\n</td>\\n<td class=\"pgRR\">\\n<a href=\"/item/sise_day.nhn?code=352820&amp;page=18\">맨뒤\\n\\t\\t\\t\\t<img alt=\"\" border=\"0\" height=\"5\" src=\"https://ssl.pstatic.net/static/n/cmn/bu_pgarRR.gif\" width=\"8\"/>\\n</a>\\n</td>\\n</tr>\\n</table>]'"
      ]
     },
     "execution_count": 24,
     "metadata": {},
     "output_type": "execute_result"
    }
   ],
   "source": [
    "str(temp)"
   ]
  },
  {
   "cell_type": "markdown",
   "metadata": {
    "id": "wUczQAoFpzJ_"
   },
   "source": [
    "## pandas 코드 한 줄로 데이터 수집하기"
   ]
  },
  {
   "cell_type": "code",
   "execution_count": 26,
   "metadata": {
    "id": "T3e0Jt0mTMkA"
   },
   "outputs": [
    {
     "data": {
      "text/plain": [
       "[            날짜        종가      전일비        시가        고가        저가        거래량\n",
       " 0          NaN       NaN      NaN       NaN       NaN       NaN        NaN\n",
       " 1   2021.05.27  253000.0   6000.0  259500.0  260000.0  252000.0  1175231.0\n",
       " 2   2021.05.26  259000.0   1500.0  261500.0  264000.0  256500.0   257975.0\n",
       " 3   2021.05.25  260500.0   3000.0  265000.0  266000.0  255000.0   307669.0\n",
       " 4   2021.05.24  263500.0   2000.0  263000.0  272000.0  261000.0   543930.0\n",
       " 5   2021.05.21  261500.0   4500.0  268000.0  272000.0  257500.0   357864.0\n",
       " 6          NaN       NaN      NaN       NaN       NaN       NaN        NaN\n",
       " 7          NaN       NaN      NaN       NaN       NaN       NaN        NaN\n",
       " 8          NaN       NaN      NaN       NaN       NaN       NaN        NaN\n",
       " 9   2021.05.20  266000.0   5500.0  261000.0  266000.0  255000.0   342100.0\n",
       " 10  2021.05.18  260500.0  12000.0  250000.0  260500.0  249000.0   395521.0\n",
       " 11  2021.05.17  248500.0   6000.0  242500.0  248500.0  242500.0   143607.0\n",
       " 12  2021.05.14  242500.0   2000.0  245000.0  245000.0  241000.0   149565.0\n",
       " 13  2021.05.13  240500.0   5500.0  242000.0  246000.0  238000.0   248997.0\n",
       " 14         NaN       NaN      NaN       NaN       NaN       NaN        NaN,\n",
       "    0   1   2   3   4   5   6   7   8   9   10  11  12\n",
       " 0  맨앞   1   2   3   4   5   6   7   8   9  10  다음  맨뒤]"
      ]
     },
     "execution_count": 26,
     "metadata": {},
     "output_type": "execute_result"
    }
   ],
   "source": [
    "# read_html을 이용하여 url의 page내의 값을 DataFrame으로 받아옵니다.\n",
    "# cp949는 한글 인코딩을 위해 사용합니다. 기본 인코딩 설정은 utf-8 이며, \n",
    "# 네이버의 일별 시세는 cp949 인코딩으로 불러올 수 있습니다.\n",
    "# 데이터를 로드 했을 때 한글 인코딩이 깨진다면 대부분 cp949 로 불러올 수 있습니다.\n",
    "table=pd.read_html(str(temp))\n",
    "table"
   ]
  },
  {
   "cell_type": "code",
   "execution_count": 27,
   "metadata": {
    "id": "GQ_LCYp0TMkA"
   },
   "outputs": [
    {
     "data": {
      "text/html": [
       "<div>\n",
       "<style scoped>\n",
       "    .dataframe tbody tr th:only-of-type {\n",
       "        vertical-align: middle;\n",
       "    }\n",
       "\n",
       "    .dataframe tbody tr th {\n",
       "        vertical-align: top;\n",
       "    }\n",
       "\n",
       "    .dataframe thead th {\n",
       "        text-align: right;\n",
       "    }\n",
       "</style>\n",
       "<table border=\"1\" class=\"dataframe\">\n",
       "  <thead>\n",
       "    <tr style=\"text-align: right;\">\n",
       "      <th></th>\n",
       "      <th>날짜</th>\n",
       "      <th>종가</th>\n",
       "      <th>전일비</th>\n",
       "      <th>시가</th>\n",
       "      <th>고가</th>\n",
       "      <th>저가</th>\n",
       "      <th>거래량</th>\n",
       "    </tr>\n",
       "  </thead>\n",
       "  <tbody>\n",
       "    <tr>\n",
       "      <th>0</th>\n",
       "      <td>NaN</td>\n",
       "      <td>NaN</td>\n",
       "      <td>NaN</td>\n",
       "      <td>NaN</td>\n",
       "      <td>NaN</td>\n",
       "      <td>NaN</td>\n",
       "      <td>NaN</td>\n",
       "    </tr>\n",
       "    <tr>\n",
       "      <th>1</th>\n",
       "      <td>2021.05.27</td>\n",
       "      <td>253000.0</td>\n",
       "      <td>6000.0</td>\n",
       "      <td>259500.0</td>\n",
       "      <td>260000.0</td>\n",
       "      <td>252000.0</td>\n",
       "      <td>1175231.0</td>\n",
       "    </tr>\n",
       "    <tr>\n",
       "      <th>2</th>\n",
       "      <td>2021.05.26</td>\n",
       "      <td>259000.0</td>\n",
       "      <td>1500.0</td>\n",
       "      <td>261500.0</td>\n",
       "      <td>264000.0</td>\n",
       "      <td>256500.0</td>\n",
       "      <td>257975.0</td>\n",
       "    </tr>\n",
       "    <tr>\n",
       "      <th>3</th>\n",
       "      <td>2021.05.25</td>\n",
       "      <td>260500.0</td>\n",
       "      <td>3000.0</td>\n",
       "      <td>265000.0</td>\n",
       "      <td>266000.0</td>\n",
       "      <td>255000.0</td>\n",
       "      <td>307669.0</td>\n",
       "    </tr>\n",
       "    <tr>\n",
       "      <th>4</th>\n",
       "      <td>2021.05.24</td>\n",
       "      <td>263500.0</td>\n",
       "      <td>2000.0</td>\n",
       "      <td>263000.0</td>\n",
       "      <td>272000.0</td>\n",
       "      <td>261000.0</td>\n",
       "      <td>543930.0</td>\n",
       "    </tr>\n",
       "    <tr>\n",
       "      <th>5</th>\n",
       "      <td>2021.05.21</td>\n",
       "      <td>261500.0</td>\n",
       "      <td>4500.0</td>\n",
       "      <td>268000.0</td>\n",
       "      <td>272000.0</td>\n",
       "      <td>257500.0</td>\n",
       "      <td>357864.0</td>\n",
       "    </tr>\n",
       "    <tr>\n",
       "      <th>6</th>\n",
       "      <td>NaN</td>\n",
       "      <td>NaN</td>\n",
       "      <td>NaN</td>\n",
       "      <td>NaN</td>\n",
       "      <td>NaN</td>\n",
       "      <td>NaN</td>\n",
       "      <td>NaN</td>\n",
       "    </tr>\n",
       "    <tr>\n",
       "      <th>7</th>\n",
       "      <td>NaN</td>\n",
       "      <td>NaN</td>\n",
       "      <td>NaN</td>\n",
       "      <td>NaN</td>\n",
       "      <td>NaN</td>\n",
       "      <td>NaN</td>\n",
       "      <td>NaN</td>\n",
       "    </tr>\n",
       "    <tr>\n",
       "      <th>8</th>\n",
       "      <td>NaN</td>\n",
       "      <td>NaN</td>\n",
       "      <td>NaN</td>\n",
       "      <td>NaN</td>\n",
       "      <td>NaN</td>\n",
       "      <td>NaN</td>\n",
       "      <td>NaN</td>\n",
       "    </tr>\n",
       "    <tr>\n",
       "      <th>9</th>\n",
       "      <td>2021.05.20</td>\n",
       "      <td>266000.0</td>\n",
       "      <td>5500.0</td>\n",
       "      <td>261000.0</td>\n",
       "      <td>266000.0</td>\n",
       "      <td>255000.0</td>\n",
       "      <td>342100.0</td>\n",
       "    </tr>\n",
       "    <tr>\n",
       "      <th>10</th>\n",
       "      <td>2021.05.18</td>\n",
       "      <td>260500.0</td>\n",
       "      <td>12000.0</td>\n",
       "      <td>250000.0</td>\n",
       "      <td>260500.0</td>\n",
       "      <td>249000.0</td>\n",
       "      <td>395521.0</td>\n",
       "    </tr>\n",
       "    <tr>\n",
       "      <th>11</th>\n",
       "      <td>2021.05.17</td>\n",
       "      <td>248500.0</td>\n",
       "      <td>6000.0</td>\n",
       "      <td>242500.0</td>\n",
       "      <td>248500.0</td>\n",
       "      <td>242500.0</td>\n",
       "      <td>143607.0</td>\n",
       "    </tr>\n",
       "    <tr>\n",
       "      <th>12</th>\n",
       "      <td>2021.05.14</td>\n",
       "      <td>242500.0</td>\n",
       "      <td>2000.0</td>\n",
       "      <td>245000.0</td>\n",
       "      <td>245000.0</td>\n",
       "      <td>241000.0</td>\n",
       "      <td>149565.0</td>\n",
       "    </tr>\n",
       "    <tr>\n",
       "      <th>13</th>\n",
       "      <td>2021.05.13</td>\n",
       "      <td>240500.0</td>\n",
       "      <td>5500.0</td>\n",
       "      <td>242000.0</td>\n",
       "      <td>246000.0</td>\n",
       "      <td>238000.0</td>\n",
       "      <td>248997.0</td>\n",
       "    </tr>\n",
       "    <tr>\n",
       "      <th>14</th>\n",
       "      <td>NaN</td>\n",
       "      <td>NaN</td>\n",
       "      <td>NaN</td>\n",
       "      <td>NaN</td>\n",
       "      <td>NaN</td>\n",
       "      <td>NaN</td>\n",
       "      <td>NaN</td>\n",
       "    </tr>\n",
       "  </tbody>\n",
       "</table>\n",
       "</div>"
      ],
      "text/plain": [
       "            날짜        종가      전일비        시가        고가        저가        거래량\n",
       "0          NaN       NaN      NaN       NaN       NaN       NaN        NaN\n",
       "1   2021.05.27  253000.0   6000.0  259500.0  260000.0  252000.0  1175231.0\n",
       "2   2021.05.26  259000.0   1500.0  261500.0  264000.0  256500.0   257975.0\n",
       "3   2021.05.25  260500.0   3000.0  265000.0  266000.0  255000.0   307669.0\n",
       "4   2021.05.24  263500.0   2000.0  263000.0  272000.0  261000.0   543930.0\n",
       "5   2021.05.21  261500.0   4500.0  268000.0  272000.0  257500.0   357864.0\n",
       "6          NaN       NaN      NaN       NaN       NaN       NaN        NaN\n",
       "7          NaN       NaN      NaN       NaN       NaN       NaN        NaN\n",
       "8          NaN       NaN      NaN       NaN       NaN       NaN        NaN\n",
       "9   2021.05.20  266000.0   5500.0  261000.0  266000.0  255000.0   342100.0\n",
       "10  2021.05.18  260500.0  12000.0  250000.0  260500.0  249000.0   395521.0\n",
       "11  2021.05.17  248500.0   6000.0  242500.0  248500.0  242500.0   143607.0\n",
       "12  2021.05.14  242500.0   2000.0  245000.0  245000.0  241000.0   149565.0\n",
       "13  2021.05.13  240500.0   5500.0  242000.0  246000.0  238000.0   248997.0\n",
       "14         NaN       NaN      NaN       NaN       NaN       NaN        NaN"
      ]
     },
     "execution_count": 27,
     "metadata": {},
     "output_type": "execute_result"
    }
   ],
   "source": [
    "# table[0]와 table[1]을 확인하여 보면 table[0]에 필요한 데이터들이 있습니다.\n",
    "table[0]"
   ]
  },
  {
   "cell_type": "code",
   "execution_count": 29,
   "metadata": {
    "id": "0gI1rNUbTMkA"
   },
   "outputs": [
    {
     "data": {
      "text/html": [
       "<div>\n",
       "<style scoped>\n",
       "    .dataframe tbody tr th:only-of-type {\n",
       "        vertical-align: middle;\n",
       "    }\n",
       "\n",
       "    .dataframe tbody tr th {\n",
       "        vertical-align: top;\n",
       "    }\n",
       "\n",
       "    .dataframe thead th {\n",
       "        text-align: right;\n",
       "    }\n",
       "</style>\n",
       "<table border=\"1\" class=\"dataframe\">\n",
       "  <thead>\n",
       "    <tr style=\"text-align: right;\">\n",
       "      <th></th>\n",
       "      <th>날짜</th>\n",
       "      <th>종가</th>\n",
       "      <th>전일비</th>\n",
       "      <th>시가</th>\n",
       "      <th>고가</th>\n",
       "      <th>저가</th>\n",
       "      <th>거래량</th>\n",
       "    </tr>\n",
       "  </thead>\n",
       "  <tbody>\n",
       "    <tr>\n",
       "      <th>1</th>\n",
       "      <td>2021.05.27</td>\n",
       "      <td>253000.0</td>\n",
       "      <td>6000.0</td>\n",
       "      <td>259500.0</td>\n",
       "      <td>260000.0</td>\n",
       "      <td>252000.0</td>\n",
       "      <td>1175231.0</td>\n",
       "    </tr>\n",
       "    <tr>\n",
       "      <th>2</th>\n",
       "      <td>2021.05.26</td>\n",
       "      <td>259000.0</td>\n",
       "      <td>1500.0</td>\n",
       "      <td>261500.0</td>\n",
       "      <td>264000.0</td>\n",
       "      <td>256500.0</td>\n",
       "      <td>257975.0</td>\n",
       "    </tr>\n",
       "    <tr>\n",
       "      <th>3</th>\n",
       "      <td>2021.05.25</td>\n",
       "      <td>260500.0</td>\n",
       "      <td>3000.0</td>\n",
       "      <td>265000.0</td>\n",
       "      <td>266000.0</td>\n",
       "      <td>255000.0</td>\n",
       "      <td>307669.0</td>\n",
       "    </tr>\n",
       "    <tr>\n",
       "      <th>4</th>\n",
       "      <td>2021.05.24</td>\n",
       "      <td>263500.0</td>\n",
       "      <td>2000.0</td>\n",
       "      <td>263000.0</td>\n",
       "      <td>272000.0</td>\n",
       "      <td>261000.0</td>\n",
       "      <td>543930.0</td>\n",
       "    </tr>\n",
       "    <tr>\n",
       "      <th>5</th>\n",
       "      <td>2021.05.21</td>\n",
       "      <td>261500.0</td>\n",
       "      <td>4500.0</td>\n",
       "      <td>268000.0</td>\n",
       "      <td>272000.0</td>\n",
       "      <td>257500.0</td>\n",
       "      <td>357864.0</td>\n",
       "    </tr>\n",
       "    <tr>\n",
       "      <th>9</th>\n",
       "      <td>2021.05.20</td>\n",
       "      <td>266000.0</td>\n",
       "      <td>5500.0</td>\n",
       "      <td>261000.0</td>\n",
       "      <td>266000.0</td>\n",
       "      <td>255000.0</td>\n",
       "      <td>342100.0</td>\n",
       "    </tr>\n",
       "    <tr>\n",
       "      <th>10</th>\n",
       "      <td>2021.05.18</td>\n",
       "      <td>260500.0</td>\n",
       "      <td>12000.0</td>\n",
       "      <td>250000.0</td>\n",
       "      <td>260500.0</td>\n",
       "      <td>249000.0</td>\n",
       "      <td>395521.0</td>\n",
       "    </tr>\n",
       "    <tr>\n",
       "      <th>11</th>\n",
       "      <td>2021.05.17</td>\n",
       "      <td>248500.0</td>\n",
       "      <td>6000.0</td>\n",
       "      <td>242500.0</td>\n",
       "      <td>248500.0</td>\n",
       "      <td>242500.0</td>\n",
       "      <td>143607.0</td>\n",
       "    </tr>\n",
       "    <tr>\n",
       "      <th>12</th>\n",
       "      <td>2021.05.14</td>\n",
       "      <td>242500.0</td>\n",
       "      <td>2000.0</td>\n",
       "      <td>245000.0</td>\n",
       "      <td>245000.0</td>\n",
       "      <td>241000.0</td>\n",
       "      <td>149565.0</td>\n",
       "    </tr>\n",
       "    <tr>\n",
       "      <th>13</th>\n",
       "      <td>2021.05.13</td>\n",
       "      <td>240500.0</td>\n",
       "      <td>5500.0</td>\n",
       "      <td>242000.0</td>\n",
       "      <td>246000.0</td>\n",
       "      <td>238000.0</td>\n",
       "      <td>248997.0</td>\n",
       "    </tr>\n",
       "  </tbody>\n",
       "</table>\n",
       "</div>"
      ],
      "text/plain": [
       "            날짜        종가      전일비        시가        고가        저가        거래량\n",
       "1   2021.05.27  253000.0   6000.0  259500.0  260000.0  252000.0  1175231.0\n",
       "2   2021.05.26  259000.0   1500.0  261500.0  264000.0  256500.0   257975.0\n",
       "3   2021.05.25  260500.0   3000.0  265000.0  266000.0  255000.0   307669.0\n",
       "4   2021.05.24  263500.0   2000.0  263000.0  272000.0  261000.0   543930.0\n",
       "5   2021.05.21  261500.0   4500.0  268000.0  272000.0  257500.0   357864.0\n",
       "9   2021.05.20  266000.0   5500.0  261000.0  266000.0  255000.0   342100.0\n",
       "10  2021.05.18  260500.0  12000.0  250000.0  260500.0  249000.0   395521.0\n",
       "11  2021.05.17  248500.0   6000.0  242500.0  248500.0  242500.0   143607.0\n",
       "12  2021.05.14  242500.0   2000.0  245000.0  245000.0  241000.0   149565.0\n",
       "13  2021.05.13  240500.0   5500.0  242000.0  246000.0  238000.0   248997.0"
      ]
     },
     "execution_count": 29,
     "metadata": {},
     "output_type": "execute_result"
    }
   ],
   "source": [
    "# dropna를 통해 결측치가 들어있는 row를 제거합니다.\n",
    "temp=table[0].dropna()\n",
    "temp"
   ]
  },
  {
   "cell_type": "markdown",
   "metadata": {
    "id": "CKhsb94wTMkA"
   },
   "source": [
    "## 페이지별 데이터 수집 함수 만들기"
   ]
  },
  {
   "cell_type": "code",
   "execution_count": 54,
   "metadata": {
    "id": "gJugcyoiTMkA"
   },
   "outputs": [],
   "source": [
    "def get_day_list(item_code,page_no):\n",
    "    url=f\"https://finance.naver.com/item/sise_day.nhn?code={item_code}&page={page_no}\"\n",
    "    headers={\"user-agent\": \"Mozilla/5.0 (Windows NT 10.0; Win64; x64) AppleWebKit/537.36 (KHTML, like Gecko) Chrome/91.0.4472.114 Safari/537.36\"}\n",
    "    response=requests.get(url,headers=headers)\n",
    "    html=bs(response.text,\"lxml\")\n",
    "    temp=html.select(\"table\")\n",
    "    table=pd.read_html(str(temp))\n",
    "    table=table[0].dropna()\n",
    "    return table"
   ]
  },
  {
   "cell_type": "code",
   "execution_count": 55,
   "metadata": {
    "id": "evjinapgTMkA"
   },
   "outputs": [
    {
     "data": {
      "text/html": [
       "<div>\n",
       "<style scoped>\n",
       "    .dataframe tbody tr th:only-of-type {\n",
       "        vertical-align: middle;\n",
       "    }\n",
       "\n",
       "    .dataframe tbody tr th {\n",
       "        vertical-align: top;\n",
       "    }\n",
       "\n",
       "    .dataframe thead th {\n",
       "        text-align: right;\n",
       "    }\n",
       "</style>\n",
       "<table border=\"1\" class=\"dataframe\">\n",
       "  <thead>\n",
       "    <tr style=\"text-align: right;\">\n",
       "      <th></th>\n",
       "      <th>날짜</th>\n",
       "      <th>종가</th>\n",
       "      <th>전일비</th>\n",
       "      <th>시가</th>\n",
       "      <th>고가</th>\n",
       "      <th>저가</th>\n",
       "      <th>거래량</th>\n",
       "    </tr>\n",
       "  </thead>\n",
       "  <tbody>\n",
       "    <tr>\n",
       "      <th>1</th>\n",
       "      <td>2021.06.10</td>\n",
       "      <td>272500.0</td>\n",
       "      <td>10500.0</td>\n",
       "      <td>262000.0</td>\n",
       "      <td>279000.0</td>\n",
       "      <td>261500.0</td>\n",
       "      <td>946188.0</td>\n",
       "    </tr>\n",
       "    <tr>\n",
       "      <th>2</th>\n",
       "      <td>2021.06.09</td>\n",
       "      <td>262000.0</td>\n",
       "      <td>3000.0</td>\n",
       "      <td>265000.0</td>\n",
       "      <td>265000.0</td>\n",
       "      <td>261000.0</td>\n",
       "      <td>166528.0</td>\n",
       "    </tr>\n",
       "    <tr>\n",
       "      <th>3</th>\n",
       "      <td>2021.06.08</td>\n",
       "      <td>265000.0</td>\n",
       "      <td>500.0</td>\n",
       "      <td>265000.0</td>\n",
       "      <td>267000.0</td>\n",
       "      <td>263500.0</td>\n",
       "      <td>153360.0</td>\n",
       "    </tr>\n",
       "    <tr>\n",
       "      <th>4</th>\n",
       "      <td>2021.06.07</td>\n",
       "      <td>265500.0</td>\n",
       "      <td>500.0</td>\n",
       "      <td>267000.0</td>\n",
       "      <td>268000.0</td>\n",
       "      <td>261000.0</td>\n",
       "      <td>153686.0</td>\n",
       "    </tr>\n",
       "    <tr>\n",
       "      <th>5</th>\n",
       "      <td>2021.06.04</td>\n",
       "      <td>266000.0</td>\n",
       "      <td>3500.0</td>\n",
       "      <td>268500.0</td>\n",
       "      <td>269000.0</td>\n",
       "      <td>260000.0</td>\n",
       "      <td>284503.0</td>\n",
       "    </tr>\n",
       "    <tr>\n",
       "      <th>9</th>\n",
       "      <td>2021.06.03</td>\n",
       "      <td>269500.0</td>\n",
       "      <td>6000.0</td>\n",
       "      <td>264000.0</td>\n",
       "      <td>274000.0</td>\n",
       "      <td>262500.0</td>\n",
       "      <td>410640.0</td>\n",
       "    </tr>\n",
       "    <tr>\n",
       "      <th>10</th>\n",
       "      <td>2021.06.02</td>\n",
       "      <td>263500.0</td>\n",
       "      <td>2500.0</td>\n",
       "      <td>263000.0</td>\n",
       "      <td>266500.0</td>\n",
       "      <td>261500.0</td>\n",
       "      <td>204841.0</td>\n",
       "    </tr>\n",
       "    <tr>\n",
       "      <th>11</th>\n",
       "      <td>2021.06.01</td>\n",
       "      <td>261000.0</td>\n",
       "      <td>4000.0</td>\n",
       "      <td>266000.0</td>\n",
       "      <td>266500.0</td>\n",
       "      <td>258000.0</td>\n",
       "      <td>183347.0</td>\n",
       "    </tr>\n",
       "    <tr>\n",
       "      <th>12</th>\n",
       "      <td>2021.05.31</td>\n",
       "      <td>265000.0</td>\n",
       "      <td>4000.0</td>\n",
       "      <td>263500.0</td>\n",
       "      <td>267000.0</td>\n",
       "      <td>261500.0</td>\n",
       "      <td>225074.0</td>\n",
       "    </tr>\n",
       "    <tr>\n",
       "      <th>13</th>\n",
       "      <td>2021.05.28</td>\n",
       "      <td>261000.0</td>\n",
       "      <td>8000.0</td>\n",
       "      <td>255000.0</td>\n",
       "      <td>263000.0</td>\n",
       "      <td>254500.0</td>\n",
       "      <td>285689.0</td>\n",
       "    </tr>\n",
       "  </tbody>\n",
       "</table>\n",
       "</div>"
      ],
      "text/plain": [
       "            날짜        종가      전일비        시가        고가        저가       거래량\n",
       "1   2021.06.10  272500.0  10500.0  262000.0  279000.0  261500.0  946188.0\n",
       "2   2021.06.09  262000.0   3000.0  265000.0  265000.0  261000.0  166528.0\n",
       "3   2021.06.08  265000.0    500.0  265000.0  267000.0  263500.0  153360.0\n",
       "4   2021.06.07  265500.0    500.0  267000.0  268000.0  261000.0  153686.0\n",
       "5   2021.06.04  266000.0   3500.0  268500.0  269000.0  260000.0  284503.0\n",
       "9   2021.06.03  269500.0   6000.0  264000.0  274000.0  262500.0  410640.0\n",
       "10  2021.06.02  263500.0   2500.0  263000.0  266500.0  261500.0  204841.0\n",
       "11  2021.06.01  261000.0   4000.0  266000.0  266500.0  258000.0  183347.0\n",
       "12  2021.05.31  265000.0   4000.0  263500.0  267000.0  261500.0  225074.0\n",
       "13  2021.05.28  261000.0   8000.0  255000.0  263000.0  254500.0  285689.0"
      ]
     },
     "execution_count": 55,
     "metadata": {},
     "output_type": "execute_result"
    }
   ],
   "source": [
    "# 함수가 잘 만들어졌는지 확인\n",
    "get_day_list(\"352820\",2)"
   ]
  },
  {
   "cell_type": "markdown",
   "metadata": {
    "id": "uuaac8XTTMkA"
   },
   "source": [
    "## 반복문을 통한 전체 일자 데이터 수집하기\n",
    "* (주의) 기간이 긴 데이터를 수집할때는 서버에 부담을 주지 않기 위해 time.sleep()값을 주세요."
   ]
  },
  {
   "cell_type": "code",
   "execution_count": 56,
   "metadata": {},
   "outputs": [],
   "source": [
    "import numpy as np"
   ]
  },
  {
   "cell_type": "code",
   "execution_count": 67,
   "metadata": {
    "id": "EQs1C6C_TMkA"
   },
   "outputs": [],
   "source": [
    "import time\n",
    "\n",
    "page_no = 1\n",
    "\n",
    "item_list = []\n",
    "start=1\n",
    "end=10\n",
    "\n",
    "for i in range(start,end+1):\n",
    "    a=get_day_list(item_code,i)\n",
    "    item_list.append(a)"
   ]
  },
  {
   "cell_type": "code",
   "execution_count": 68,
   "metadata": {
    "id": "CyMHyxTcpzKB"
   },
   "outputs": [
    {
     "data": {
      "text/plain": [
       "10"
      ]
     },
     "execution_count": 68,
     "metadata": {},
     "output_type": "execute_result"
    }
   ],
   "source": [
    "len(item_list)"
   ]
  },
  {
   "cell_type": "markdown",
   "metadata": {
    "id": "iEFBJv5XTMkA"
   },
   "source": [
    "## 수집한 데이터 하나의 데이터프레임으로 합치기\n",
    "\n",
    "<img src=\"https://pandas.pydata.org/docs/_images/merging_concat_basic.png\">\n",
    "\n",
    "* [Merge, join, concatenate and compare documentation](https://pandas.pydata.org/docs/user_guide/merging.html#merge-join-concatenate-and-compare)"
   ]
  },
  {
   "cell_type": "code",
   "execution_count": 72,
   "metadata": {
    "id": "mUcxeTMFTMkA"
   },
   "outputs": [
    {
     "data": {
      "text/html": [
       "<div>\n",
       "<style scoped>\n",
       "    .dataframe tbody tr th:only-of-type {\n",
       "        vertical-align: middle;\n",
       "    }\n",
       "\n",
       "    .dataframe tbody tr th {\n",
       "        vertical-align: top;\n",
       "    }\n",
       "\n",
       "    .dataframe thead th {\n",
       "        text-align: right;\n",
       "    }\n",
       "</style>\n",
       "<table border=\"1\" class=\"dataframe\">\n",
       "  <thead>\n",
       "    <tr style=\"text-align: right;\">\n",
       "      <th></th>\n",
       "      <th>날짜</th>\n",
       "      <th>종가</th>\n",
       "      <th>전일비</th>\n",
       "      <th>시가</th>\n",
       "      <th>고가</th>\n",
       "      <th>저가</th>\n",
       "      <th>거래량</th>\n",
       "    </tr>\n",
       "  </thead>\n",
       "  <tbody>\n",
       "    <tr>\n",
       "      <th>1</th>\n",
       "      <td>2021.06.24</td>\n",
       "      <td>322000.0</td>\n",
       "      <td>500.0</td>\n",
       "      <td>326000.0</td>\n",
       "      <td>329500.0</td>\n",
       "      <td>317500.0</td>\n",
       "      <td>373105.0</td>\n",
       "    </tr>\n",
       "    <tr>\n",
       "      <th>2</th>\n",
       "      <td>2021.06.23</td>\n",
       "      <td>321500.0</td>\n",
       "      <td>3000.0</td>\n",
       "      <td>334500.0</td>\n",
       "      <td>337000.0</td>\n",
       "      <td>318500.0</td>\n",
       "      <td>687701.0</td>\n",
       "    </tr>\n",
       "    <tr>\n",
       "      <th>3</th>\n",
       "      <td>2021.06.22</td>\n",
       "      <td>324500.0</td>\n",
       "      <td>16500.0</td>\n",
       "      <td>311000.0</td>\n",
       "      <td>324500.0</td>\n",
       "      <td>311000.0</td>\n",
       "      <td>607966.0</td>\n",
       "    </tr>\n",
       "    <tr>\n",
       "      <th>4</th>\n",
       "      <td>2021.06.21</td>\n",
       "      <td>308000.0</td>\n",
       "      <td>5000.0</td>\n",
       "      <td>313000.0</td>\n",
       "      <td>321000.0</td>\n",
       "      <td>299500.0</td>\n",
       "      <td>556480.0</td>\n",
       "    </tr>\n",
       "    <tr>\n",
       "      <th>5</th>\n",
       "      <td>2021.06.18</td>\n",
       "      <td>313000.0</td>\n",
       "      <td>16000.0</td>\n",
       "      <td>298500.0</td>\n",
       "      <td>326500.0</td>\n",
       "      <td>297500.0</td>\n",
       "      <td>1630734.0</td>\n",
       "    </tr>\n",
       "    <tr>\n",
       "      <th>9</th>\n",
       "      <td>2021.06.17</td>\n",
       "      <td>297000.0</td>\n",
       "      <td>5000.0</td>\n",
       "      <td>292000.0</td>\n",
       "      <td>301000.0</td>\n",
       "      <td>289000.0</td>\n",
       "      <td>567305.0</td>\n",
       "    </tr>\n",
       "    <tr>\n",
       "      <th>10</th>\n",
       "      <td>2021.06.16</td>\n",
       "      <td>292000.0</td>\n",
       "      <td>3000.0</td>\n",
       "      <td>290500.0</td>\n",
       "      <td>298000.0</td>\n",
       "      <td>287000.0</td>\n",
       "      <td>478261.0</td>\n",
       "    </tr>\n",
       "    <tr>\n",
       "      <th>11</th>\n",
       "      <td>2021.06.15</td>\n",
       "      <td>289000.0</td>\n",
       "      <td>7000.0</td>\n",
       "      <td>285000.0</td>\n",
       "      <td>293000.0</td>\n",
       "      <td>279500.0</td>\n",
       "      <td>461455.0</td>\n",
       "    </tr>\n",
       "    <tr>\n",
       "      <th>12</th>\n",
       "      <td>2021.06.14</td>\n",
       "      <td>282000.0</td>\n",
       "      <td>6500.0</td>\n",
       "      <td>277000.0</td>\n",
       "      <td>286000.0</td>\n",
       "      <td>276500.0</td>\n",
       "      <td>502504.0</td>\n",
       "    </tr>\n",
       "    <tr>\n",
       "      <th>13</th>\n",
       "      <td>2021.06.11</td>\n",
       "      <td>275500.0</td>\n",
       "      <td>3000.0</td>\n",
       "      <td>272500.0</td>\n",
       "      <td>277500.0</td>\n",
       "      <td>271500.0</td>\n",
       "      <td>324529.0</td>\n",
       "    </tr>\n",
       "  </tbody>\n",
       "</table>\n",
       "</div>"
      ],
      "text/plain": [
       "            날짜        종가      전일비        시가        고가        저가        거래량\n",
       "1   2021.06.24  322000.0    500.0  326000.0  329500.0  317500.0   373105.0\n",
       "2   2021.06.23  321500.0   3000.0  334500.0  337000.0  318500.0   687701.0\n",
       "3   2021.06.22  324500.0  16500.0  311000.0  324500.0  311000.0   607966.0\n",
       "4   2021.06.21  308000.0   5000.0  313000.0  321000.0  299500.0   556480.0\n",
       "5   2021.06.18  313000.0  16000.0  298500.0  326500.0  297500.0  1630734.0\n",
       "9   2021.06.17  297000.0   5000.0  292000.0  301000.0  289000.0   567305.0\n",
       "10  2021.06.16  292000.0   3000.0  290500.0  298000.0  287000.0   478261.0\n",
       "11  2021.06.15  289000.0   7000.0  285000.0  293000.0  279500.0   461455.0\n",
       "12  2021.06.14  282000.0   6500.0  277000.0  286000.0  276500.0   502504.0\n",
       "13  2021.06.11  275500.0   3000.0  272500.0  277500.0  271500.0   324529.0"
      ]
     },
     "execution_count": 72,
     "metadata": {},
     "output_type": "execute_result"
    }
   ],
   "source": [
    "item_list[0]"
   ]
  },
  {
   "cell_type": "code",
   "execution_count": 73,
   "metadata": {},
   "outputs": [
    {
     "data": {
      "text/plain": [
       "(100, 7)"
      ]
     },
     "execution_count": 73,
     "metadata": {},
     "output_type": "execute_result"
    }
   ],
   "source": [
    "df=pd.concat(item_list)\n",
    "df.shape"
   ]
  },
  {
   "cell_type": "markdown",
   "metadata": {
    "id": "xbV1ou_cpzKB"
   },
   "source": [
    "<img src=\"https://pandas.pydata.org/docs/_images/02_io_readwrite.svg\">"
   ]
  },
  {
   "cell_type": "code",
   "execution_count": 74,
   "metadata": {
    "id": "Ep3NWfM-TMkA"
   },
   "outputs": [
    {
     "data": {
      "text/html": [
       "<div>\n",
       "<style scoped>\n",
       "    .dataframe tbody tr th:only-of-type {\n",
       "        vertical-align: middle;\n",
       "    }\n",
       "\n",
       "    .dataframe tbody tr th {\n",
       "        vertical-align: top;\n",
       "    }\n",
       "\n",
       "    .dataframe thead th {\n",
       "        text-align: right;\n",
       "    }\n",
       "</style>\n",
       "<table border=\"1\" class=\"dataframe\">\n",
       "  <thead>\n",
       "    <tr style=\"text-align: right;\">\n",
       "      <th></th>\n",
       "      <th>날짜</th>\n",
       "      <th>종가</th>\n",
       "      <th>전일비</th>\n",
       "      <th>시가</th>\n",
       "      <th>고가</th>\n",
       "      <th>저가</th>\n",
       "      <th>거래량</th>\n",
       "    </tr>\n",
       "  </thead>\n",
       "  <tbody>\n",
       "    <tr>\n",
       "      <th>1</th>\n",
       "      <td>2021.06.24</td>\n",
       "      <td>322000.0</td>\n",
       "      <td>500.0</td>\n",
       "      <td>326000.0</td>\n",
       "      <td>329500.0</td>\n",
       "      <td>317500.0</td>\n",
       "      <td>373105.0</td>\n",
       "    </tr>\n",
       "    <tr>\n",
       "      <th>2</th>\n",
       "      <td>2021.06.23</td>\n",
       "      <td>321500.0</td>\n",
       "      <td>3000.0</td>\n",
       "      <td>334500.0</td>\n",
       "      <td>337000.0</td>\n",
       "      <td>318500.0</td>\n",
       "      <td>687701.0</td>\n",
       "    </tr>\n",
       "    <tr>\n",
       "      <th>3</th>\n",
       "      <td>2021.06.22</td>\n",
       "      <td>324500.0</td>\n",
       "      <td>16500.0</td>\n",
       "      <td>311000.0</td>\n",
       "      <td>324500.0</td>\n",
       "      <td>311000.0</td>\n",
       "      <td>607966.0</td>\n",
       "    </tr>\n",
       "    <tr>\n",
       "      <th>4</th>\n",
       "      <td>2021.06.21</td>\n",
       "      <td>308000.0</td>\n",
       "      <td>5000.0</td>\n",
       "      <td>313000.0</td>\n",
       "      <td>321000.0</td>\n",
       "      <td>299500.0</td>\n",
       "      <td>556480.0</td>\n",
       "    </tr>\n",
       "    <tr>\n",
       "      <th>5</th>\n",
       "      <td>2021.06.18</td>\n",
       "      <td>313000.0</td>\n",
       "      <td>16000.0</td>\n",
       "      <td>298500.0</td>\n",
       "      <td>326500.0</td>\n",
       "      <td>297500.0</td>\n",
       "      <td>1630734.0</td>\n",
       "    </tr>\n",
       "  </tbody>\n",
       "</table>\n",
       "</div>"
      ],
      "text/plain": [
       "           날짜        종가      전일비        시가        고가        저가        거래량\n",
       "1  2021.06.24  322000.0    500.0  326000.0  329500.0  317500.0   373105.0\n",
       "2  2021.06.23  321500.0   3000.0  334500.0  337000.0  318500.0   687701.0\n",
       "3  2021.06.22  324500.0  16500.0  311000.0  324500.0  311000.0   607966.0\n",
       "4  2021.06.21  308000.0   5000.0  313000.0  321000.0  299500.0   556480.0\n",
       "5  2021.06.18  313000.0  16000.0  298500.0  326500.0  297500.0  1630734.0"
      ]
     },
     "execution_count": 74,
     "metadata": {},
     "output_type": "execute_result"
    }
   ],
   "source": [
    "df.head()"
   ]
  },
  {
   "cell_type": "code",
   "execution_count": 75,
   "metadata": {
    "id": "hHcKUo8iTMkA"
   },
   "outputs": [
    {
     "data": {
      "text/html": [
       "<div>\n",
       "<style scoped>\n",
       "    .dataframe tbody tr th:only-of-type {\n",
       "        vertical-align: middle;\n",
       "    }\n",
       "\n",
       "    .dataframe tbody tr th {\n",
       "        vertical-align: top;\n",
       "    }\n",
       "\n",
       "    .dataframe thead th {\n",
       "        text-align: right;\n",
       "    }\n",
       "</style>\n",
       "<table border=\"1\" class=\"dataframe\">\n",
       "  <thead>\n",
       "    <tr style=\"text-align: right;\">\n",
       "      <th></th>\n",
       "      <th>날짜</th>\n",
       "      <th>종가</th>\n",
       "      <th>전일비</th>\n",
       "      <th>시가</th>\n",
       "      <th>고가</th>\n",
       "      <th>저가</th>\n",
       "      <th>거래량</th>\n",
       "    </tr>\n",
       "  </thead>\n",
       "  <tbody>\n",
       "    <tr>\n",
       "      <th>9</th>\n",
       "      <td>2021.02.04</td>\n",
       "      <td>241500.0</td>\n",
       "      <td>9000.0</td>\n",
       "      <td>234000.0</td>\n",
       "      <td>247000.0</td>\n",
       "      <td>228500.0</td>\n",
       "      <td>861501.0</td>\n",
       "    </tr>\n",
       "    <tr>\n",
       "      <th>10</th>\n",
       "      <td>2021.02.03</td>\n",
       "      <td>232500.0</td>\n",
       "      <td>0.0</td>\n",
       "      <td>231500.0</td>\n",
       "      <td>241000.0</td>\n",
       "      <td>225500.0</td>\n",
       "      <td>545274.0</td>\n",
       "    </tr>\n",
       "    <tr>\n",
       "      <th>11</th>\n",
       "      <td>2021.02.02</td>\n",
       "      <td>232500.0</td>\n",
       "      <td>15000.0</td>\n",
       "      <td>219000.0</td>\n",
       "      <td>242500.0</td>\n",
       "      <td>213500.0</td>\n",
       "      <td>1363038.0</td>\n",
       "    </tr>\n",
       "    <tr>\n",
       "      <th>12</th>\n",
       "      <td>2021.02.01</td>\n",
       "      <td>217500.0</td>\n",
       "      <td>13000.0</td>\n",
       "      <td>204500.0</td>\n",
       "      <td>217500.0</td>\n",
       "      <td>199000.0</td>\n",
       "      <td>608089.0</td>\n",
       "    </tr>\n",
       "    <tr>\n",
       "      <th>13</th>\n",
       "      <td>2021.01.29</td>\n",
       "      <td>204500.0</td>\n",
       "      <td>15500.0</td>\n",
       "      <td>222000.0</td>\n",
       "      <td>222000.0</td>\n",
       "      <td>200500.0</td>\n",
       "      <td>773127.0</td>\n",
       "    </tr>\n",
       "  </tbody>\n",
       "</table>\n",
       "</div>"
      ],
      "text/plain": [
       "            날짜        종가      전일비        시가        고가        저가        거래량\n",
       "9   2021.02.04  241500.0   9000.0  234000.0  247000.0  228500.0   861501.0\n",
       "10  2021.02.03  232500.0      0.0  231500.0  241000.0  225500.0   545274.0\n",
       "11  2021.02.02  232500.0  15000.0  219000.0  242500.0  213500.0  1363038.0\n",
       "12  2021.02.01  217500.0  13000.0  204500.0  217500.0  199000.0   608089.0\n",
       "13  2021.01.29  204500.0  15500.0  222000.0  222000.0  200500.0   773127.0"
      ]
     },
     "execution_count": 75,
     "metadata": {},
     "output_type": "execute_result"
    }
   ],
   "source": [
    "df.tail()"
   ]
  }
 ],
 "metadata": {
  "colab": {
   "collapsed_sections": [],
   "name": "0603-naver-finance-daily-price-web-scraping-input.ipynb",
   "provenance": [],
   "toc_visible": true
  },
  "kernelspec": {
   "display_name": "Python 3",
   "language": "python",
   "name": "python3"
  },
  "language_info": {
   "codemirror_mode": {
    "name": "ipython",
    "version": 3
   },
   "file_extension": ".py",
   "mimetype": "text/x-python",
   "name": "python",
   "nbconvert_exporter": "python",
   "pygments_lexer": "ipython3",
   "version": "3.8.5"
  },
  "toc": {
   "base_numbering": 1,
   "nav_menu": {},
   "number_sections": true,
   "sideBar": true,
   "skip_h1_title": false,
   "title_cell": "Table of Contents",
   "title_sidebar": "Contents",
   "toc_cell": false,
   "toc_position": {
    "height": "calc(100% - 180px)",
    "left": "10px",
    "top": "150px",
    "width": "204.8px"
   },
   "toc_section_display": true,
   "toc_window_display": false
  },
  "varInspector": {
   "cols": {
    "lenName": 16,
    "lenType": 16,
    "lenVar": 40
   },
   "kernels_config": {
    "python": {
     "delete_cmd_postfix": "",
     "delete_cmd_prefix": "del ",
     "library": "var_list.py",
     "varRefreshCmd": "print(var_dic_list())"
    },
    "r": {
     "delete_cmd_postfix": ") ",
     "delete_cmd_prefix": "rm(",
     "library": "var_list.r",
     "varRefreshCmd": "cat(var_dic_list()) "
    }
   },
   "types_to_exclude": [
    "module",
    "function",
    "builtin_function_or_method",
    "instance",
    "_Feature"
   ],
   "window_display": false
  }
 },
 "nbformat": 4,
 "nbformat_minor": 1
}

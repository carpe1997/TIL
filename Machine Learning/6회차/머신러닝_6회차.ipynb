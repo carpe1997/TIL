{
 "cells": [
  {
   "cell_type": "markdown",
   "metadata": {
    "id": "qvzkQSt9owYe"
   },
   "source": [
    "# Cross Validation"
   ]
  },
  {
   "cell_type": "code",
   "execution_count": 1,
   "metadata": {
    "executionInfo": {
     "elapsed": 378,
     "status": "ok",
     "timestamp": 1632907285326,
     "user": {
      "displayName": "lover coffee",
      "photoUrl": "https://lh3.googleusercontent.com/a/default-user=s64",
      "userId": "02387638799294991184"
     },
     "user_tz": -540
    },
    "id": "B7UetWtacQVg"
   },
   "outputs": [],
   "source": [
    "import numpy as np\n",
    "from sklearn.model_selection import train_test_split\n",
    "from sklearn import datasets\n",
    "from sklearn import svm"
   ]
  },
  {
   "cell_type": "code",
   "execution_count": 2,
   "metadata": {
    "colab": {
     "base_uri": "https://localhost:8080/"
    },
    "executionInfo": {
     "elapsed": 544,
     "status": "ok",
     "timestamp": 1632907286286,
     "user": {
      "displayName": "lover coffee",
      "photoUrl": "https://lh3.googleusercontent.com/a/default-user=s64",
      "userId": "02387638799294991184"
     },
     "user_tz": -540
    },
    "id": "jDBphtkkovqh",
    "outputId": "90de32fe-2503-4e1e-e01b-72663911cb7a"
   },
   "outputs": [
    {
     "data": {
      "text/plain": [
       "((150, 4), (150,))"
      ]
     },
     "execution_count": 2,
     "metadata": {},
     "output_type": "execute_result"
    }
   ],
   "source": [
    "X, y = datasets.load_iris(return_X_y=True)\n",
    "X.shape, y.shape"
   ]
  },
  {
   "cell_type": "code",
   "execution_count": 11,
   "metadata": {
    "colab": {
     "base_uri": "https://localhost:8080/"
    },
    "executionInfo": {
     "elapsed": 55,
     "status": "ok",
     "timestamp": 1632907286286,
     "user": {
      "displayName": "lover coffee",
      "photoUrl": "https://lh3.googleusercontent.com/a/default-user=s64",
      "userId": "02387638799294991184"
     },
     "user_tz": -540
    },
    "id": "L4PhkNzxosCz",
    "outputId": "0ef61537-58ec-4259-e1ce-18f13a4f99b2"
   },
   "outputs": [
    {
     "name": "stdout",
     "output_type": "stream",
     "text": [
      "(90, 4) (90,)\n",
      "(60, 4) (60,)\n"
     ]
    }
   ],
   "source": [
    "X_train, X_test, y_train, y_test = train_test_split(\n",
    "    X, y, test_size=0.4, random_state=0)\n",
    "\n",
    "print( X_train.shape, y_train.shape )\n",
    "print( X_test.shape, y_test.shape )"
   ]
  },
  {
   "cell_type": "code",
   "execution_count": 12,
   "metadata": {
    "colab": {
     "base_uri": "https://localhost:8080/"
    },
    "executionInfo": {
     "elapsed": 52,
     "status": "ok",
     "timestamp": 1632907286286,
     "user": {
      "displayName": "lover coffee",
      "photoUrl": "https://lh3.googleusercontent.com/a/default-user=s64",
      "userId": "02387638799294991184"
     },
     "user_tz": -540
    },
    "id": "Cx8bzHIfo6Aa",
    "outputId": "458e4c89-896d-46b9-c2eb-a43858de1c1d"
   },
   "outputs": [
    {
     "data": {
      "text/plain": [
       "0.9666666666666667"
      ]
     },
     "execution_count": 12,
     "metadata": {},
     "output_type": "execute_result"
    }
   ],
   "source": [
    "clf = svm.SVC(kernel='linear', C=1).fit(X_train, y_train)\n",
    "clf.score(X_test, y_test) # 직접 train_set과 test_set을 나누어 평가, holdout 방식"
   ]
  },
  {
   "cell_type": "code",
   "execution_count": 13,
   "metadata": {
    "colab": {
     "base_uri": "https://localhost:8080/"
    },
    "executionInfo": {
     "elapsed": 49,
     "status": "ok",
     "timestamp": 1632907286287,
     "user": {
      "displayName": "lover coffee",
      "photoUrl": "https://lh3.googleusercontent.com/a/default-user=s64",
      "userId": "02387638799294991184"
     },
     "user_tz": -540
    },
    "id": "LE9SoCxNo8Bq",
    "outputId": "d6d92c14-5ce7-4463-8b31-605b23a71a09"
   },
   "outputs": [
    {
     "data": {
      "text/plain": [
       "array([0.96666667, 1.        , 0.96666667, 0.96666667, 1.        ])"
      ]
     },
     "execution_count": 13,
     "metadata": {},
     "output_type": "execute_result"
    }
   ],
   "source": [
    "from sklearn.model_selection import cross_val_score\n",
    "clf = svm.SVC(kernel='linear', C=1, random_state=42)\n",
    "scores = cross_val_score(clf, X, y, cv=5) #cv를 추가하여 scoring!\n",
    "scores"
   ]
  },
  {
   "cell_type": "code",
   "execution_count": 14,
   "metadata": {
    "colab": {
     "base_uri": "https://localhost:8080/"
    },
    "executionInfo": {
     "elapsed": 46,
     "status": "ok",
     "timestamp": 1632907286288,
     "user": {
      "displayName": "lover coffee",
      "photoUrl": "https://lh3.googleusercontent.com/a/default-user=s64",
      "userId": "02387638799294991184"
     },
     "user_tz": -540
    },
    "id": "Vhkg7jINpCiS",
    "outputId": "0b13dd17-0d72-4b9a-bf2b-8a13fdde6e77"
   },
   "outputs": [
    {
     "name": "stdout",
     "output_type": "stream",
     "text": [
      "0.98 accuracy with a standard deviation of 0.02\n"
     ]
    }
   ],
   "source": [
    "print(\"%0.2f accuracy with a standard deviation of %0.2f\" % (scores.mean(), scores.std()))"
   ]
  },
  {
   "cell_type": "code",
   "execution_count": 16,
   "metadata": {
    "colab": {
     "base_uri": "https://localhost:8080/"
    },
    "executionInfo": {
     "elapsed": 42,
     "status": "ok",
     "timestamp": 1632907286288,
     "user": {
      "displayName": "lover coffee",
      "photoUrl": "https://lh3.googleusercontent.com/a/default-user=s64",
      "userId": "02387638799294991184"
     },
     "user_tz": -540
    },
    "id": "V7SipSFnpoos",
    "outputId": "687e6076-9127-4446-dfd3-981598dc7e73"
   },
   "outputs": [
    {
     "name": "stdout",
     "output_type": "stream",
     "text": [
      "0.99 accuracy with a standard deviation of 0.03\n"
     ]
    }
   ],
   "source": [
    "from sklearn.model_selection import ShuffleSplit\n",
    "n_samples = X.shape[0]\n",
    "cv = ShuffleSplit(n_splits=5, test_size=0.1, random_state=0) #split을 직접하도록 입력\n",
    "scores = cross_val_score(clf, X, y, cv=cv)\n",
    "print(\"%0.2f accuracy with a standard deviation of %0.2f\" % (scores.mean(), scores.std()))"
   ]
  },
  {
   "cell_type": "code",
   "execution_count": 17,
   "metadata": {
    "colab": {
     "base_uri": "https://localhost:8080/"
    },
    "executionInfo": {
     "elapsed": 39,
     "status": "ok",
     "timestamp": 1632907286289,
     "user": {
      "displayName": "lover coffee",
      "photoUrl": "https://lh3.googleusercontent.com/a/default-user=s64",
      "userId": "02387638799294991184"
     },
     "user_tz": -540
    },
    "id": "ykK-iZWupFqa",
    "outputId": "ae6fb6cc-0b26-4c02-9636-861ca748bf7f"
   },
   "outputs": [
    {
     "name": "stdout",
     "output_type": "stream",
     "text": [
      "0.86 accuracy with a standard deviation of 0.11\n"
     ]
    }
   ],
   "source": [
    "from sklearn.model_selection import ShuffleSplit\n",
    "n_samples = X.shape[0]\n",
    "cv = ShuffleSplit(n_splits=5, test_size=0.95, random_state=0) # test_size를 극단적으로 키워봄\n",
    "scores = cross_val_score(clf, X, y, cv=cv)\n",
    "print(\"%0.2f accuracy with a standard deviation of %0.2f\" % (scores.mean(), scores.std()))"
   ]
  },
  {
   "cell_type": "code",
   "execution_count": null,
   "metadata": {
    "executionInfo": {
     "elapsed": 35,
     "status": "ok",
     "timestamp": 1632907286289,
     "user": {
      "displayName": "lover coffee",
      "photoUrl": "https://lh3.googleusercontent.com/a/default-user=s64",
      "userId": "02387638799294991184"
     },
     "user_tz": -540
    },
    "id": "sDnBtQZXpLIN"
   },
   "outputs": [],
   "source": []
  },
  {
   "cell_type": "code",
   "execution_count": 18,
   "metadata": {
    "colab": {
     "base_uri": "https://localhost:8080/"
    },
    "executionInfo": {
     "elapsed": 35,
     "status": "ok",
     "timestamp": 1632907286289,
     "user": {
      "displayName": "lover coffee",
      "photoUrl": "https://lh3.googleusercontent.com/a/default-user=s64",
      "userId": "02387638799294991184"
     },
     "user_tz": -540
    },
    "id": "-spwj6jypzi6",
    "outputId": "59881101-c52a-4b80-a02c-f0d3657d5fbd"
   },
   "outputs": [
    {
     "name": "stdout",
     "output_type": "stream",
     "text": [
      "0.67 accuracy with a standard deviation of 0.05\n"
     ]
    }
   ],
   "source": [
    "from sklearn import preprocessing\n",
    "from sklearn.pipeline import make_pipeline\n",
    "clf = make_pipeline(preprocessing.StandardScaler(), svm.SVC(C=1)) #pipeline도 활용할 수 있음\n",
    "scores = cross_val_score(clf, X, y, cv=cv)\n",
    "print(\"%0.2f accuracy with a standard deviation of %0.2f\" % (scores.mean(), scores.std()))"
   ]
  },
  {
   "cell_type": "code",
   "execution_count": null,
   "metadata": {
    "executionInfo": {
     "elapsed": 31,
     "status": "ok",
     "timestamp": 1632907286289,
     "user": {
      "displayName": "lover coffee",
      "photoUrl": "https://lh3.googleusercontent.com/a/default-user=s64",
      "userId": "02387638799294991184"
     },
     "user_tz": -540
    },
    "id": "3t6CXztbp1Hy"
   },
   "outputs": [],
   "source": []
  },
  {
   "cell_type": "code",
   "execution_count": 19,
   "metadata": {
    "colab": {
     "base_uri": "https://localhost:8080/"
    },
    "executionInfo": {
     "elapsed": 32,
     "status": "ok",
     "timestamp": 1632907286290,
     "user": {
      "displayName": "lover coffee",
      "photoUrl": "https://lh3.googleusercontent.com/a/default-user=s64",
      "userId": "02387638799294991184"
     },
     "user_tz": -540
    },
    "id": "_LzftJakrenf",
    "outputId": "b27e6198-325e-4801-c6b1-5a4fa78a0d7d"
   },
   "outputs": [
    {
     "data": {
      "text/plain": [
       "{'fit_time': array([0.00099659, 0.00198078, 0.0009973 , 0.        , 0.00099659]),\n",
       " 'score_time': array([0.00300837, 0.00099802, 0.00099683, 0.00199509, 0.00099659]),\n",
       " 'test_precision_macro': array([0.96969697, 1.        , 0.96969697, 0.96969697, 1.        ]),\n",
       " 'test_recall_macro': array([0.96666667, 1.        , 0.96666667, 0.96666667, 1.        ])}"
      ]
     },
     "execution_count": 19,
     "metadata": {},
     "output_type": "execute_result"
    }
   ],
   "source": [
    "from sklearn.model_selection import cross_validate\n",
    "from sklearn.metrics import recall_score\n",
    "scoring = ['precision_macro', 'recall_macro'] # 여러가지 scoring 방식을 사용\n",
    "clf = svm.SVC(kernel='linear', C=1, random_state=0)\n",
    "scores = cross_validate(clf, X, y, scoring=scoring) #scoring 방식을 입력. 기존에 입력을 안해주었는데, 그렇다면? estimator(SCV)의 default scoring 방식(Mean accuracy)을 사용\n",
    "scores"
   ]
  },
  {
   "cell_type": "code",
   "execution_count": 20,
   "metadata": {
    "colab": {
     "base_uri": "https://localhost:8080/"
    },
    "executionInfo": {
     "elapsed": 28,
     "status": "ok",
     "timestamp": 1632907286290,
     "user": {
      "displayName": "lover coffee",
      "photoUrl": "https://lh3.googleusercontent.com/a/default-user=s64",
      "userId": "02387638799294991184"
     },
     "user_tz": -540
    },
    "id": "0W7Aj6RwroYh",
    "outputId": "33d192ae-53bb-4d63-a0d1-70654adfb2fe"
   },
   "outputs": [
    {
     "data": {
      "text/plain": [
       "array([0.96666667, 1.        , 0.96666667, 0.96666667, 1.        ])"
      ]
     },
     "execution_count": 20,
     "metadata": {},
     "output_type": "execute_result"
    }
   ],
   "source": [
    "scores['test_recall_macro']"
   ]
  },
  {
   "cell_type": "code",
   "execution_count": null,
   "metadata": {
    "executionInfo": {
     "elapsed": 25,
     "status": "ok",
     "timestamp": 1632907286290,
     "user": {
      "displayName": "lover coffee",
      "photoUrl": "https://lh3.googleusercontent.com/a/default-user=s64",
      "userId": "02387638799294991184"
     },
     "user_tz": -540
    },
    "id": "Vm61IkE_rpo4"
   },
   "outputs": [],
   "source": []
  },
  {
   "cell_type": "code",
   "execution_count": 21,
   "metadata": {
    "colab": {
     "base_uri": "https://localhost:8080/"
    },
    "executionInfo": {
     "elapsed": 25,
     "status": "ok",
     "timestamp": 1632907286291,
     "user": {
      "displayName": "lover coffee",
      "photoUrl": "https://lh3.googleusercontent.com/a/default-user=s64",
      "userId": "02387638799294991184"
     },
     "user_tz": -540
    },
    "id": "GVmaq2gqsWPJ",
    "outputId": "f36094ec-8148-4a38-8835-50696a995137"
   },
   "outputs": [
    {
     "name": "stdout",
     "output_type": "stream",
     "text": [
      "1.0\n",
      "1.0\n",
      "0.8666666666666667\n",
      "1.0\n",
      "0.8666666666666667\n"
     ]
    }
   ],
   "source": [
    "import numpy as np\n",
    "from sklearn.model_selection import KFold\n",
    "\n",
    "rkf = KFold(n_splits=5) #default는 shuffle을 안하는 것. 성능이 낮을 수 있음.\n",
    "for train, test in rkf.split(X, y):\n",
    "    clf = svm.SVC(kernel='linear', C=1).fit(X[train], y[train])\n",
    "    score = clf.score(X[test], y[test])\n",
    "    print(score)"
   ]
  },
  {
   "cell_type": "code",
   "execution_count": 22,
   "metadata": {
    "colab": {
     "base_uri": "https://localhost:8080/"
    },
    "executionInfo": {
     "elapsed": 22,
     "status": "ok",
     "timestamp": 1632907286291,
     "user": {
      "displayName": "lover coffee",
      "photoUrl": "https://lh3.googleusercontent.com/a/default-user=s64",
      "userId": "02387638799294991184"
     },
     "user_tz": -540
    },
    "id": "fFHoFyUktreo",
    "outputId": "95e596f3-4d6d-4349-aa8b-8ec6a79911a6"
   },
   "outputs": [
    {
     "data": {
      "text/plain": [
       "array([  0,   1,   2,   3,   4,   5,   6,   7,   8,   9,  10,  11,  12,\n",
       "        13,  14,  15,  16,  17,  18,  19,  20,  21,  22,  23,  24,  25,\n",
       "        26,  27,  28,  29,  30,  31,  32,  33,  34,  35,  36,  37,  38,\n",
       "        39,  40,  41,  42,  43,  44,  45,  46,  47,  48,  49,  50,  51,\n",
       "        52,  53,  54,  55,  56,  57,  58,  59,  60,  61,  62,  63,  64,\n",
       "        65,  66,  67,  68,  69,  70,  71,  72,  73,  74,  75,  76,  77,\n",
       "        78,  79,  80,  81,  82,  83,  84,  85,  86,  87,  88,  89,  90,\n",
       "        91,  92,  93,  94,  95,  96,  97,  98,  99, 100, 101, 102, 103,\n",
       "       104, 105, 106, 107, 108, 109, 110, 111, 112, 113, 114, 115, 116,\n",
       "       117, 118, 119])"
      ]
     },
     "execution_count": 22,
     "metadata": {},
     "output_type": "execute_result"
    }
   ],
   "source": [
    "train"
   ]
  },
  {
   "cell_type": "code",
   "execution_count": 23,
   "metadata": {
    "colab": {
     "base_uri": "https://localhost:8080/"
    },
    "executionInfo": {
     "elapsed": 18,
     "status": "ok",
     "timestamp": 1632907286291,
     "user": {
      "displayName": "lover coffee",
      "photoUrl": "https://lh3.googleusercontent.com/a/default-user=s64",
      "userId": "02387638799294991184"
     },
     "user_tz": -540
    },
    "id": "V3SnXY8Dttol",
    "outputId": "ae111010-7dfd-42d9-8fe1-2264b37eddd3"
   },
   "outputs": [
    {
     "data": {
      "text/plain": [
       "array([120, 121, 122, 123, 124, 125, 126, 127, 128, 129, 130, 131, 132,\n",
       "       133, 134, 135, 136, 137, 138, 139, 140, 141, 142, 143, 144, 145,\n",
       "       146, 147, 148, 149])"
      ]
     },
     "execution_count": 23,
     "metadata": {},
     "output_type": "execute_result"
    }
   ],
   "source": [
    "test"
   ]
  },
  {
   "cell_type": "code",
   "execution_count": null,
   "metadata": {
    "executionInfo": {
     "elapsed": 16,
     "status": "ok",
     "timestamp": 1632907286292,
     "user": {
      "displayName": "lover coffee",
      "photoUrl": "https://lh3.googleusercontent.com/a/default-user=s64",
      "userId": "02387638799294991184"
     },
     "user_tz": -540
    },
    "id": "3KrRnArOt_Fi"
   },
   "outputs": [],
   "source": []
  },
  {
   "cell_type": "code",
   "execution_count": 24,
   "metadata": {
    "executionInfo": {
     "elapsed": 15,
     "status": "ok",
     "timestamp": 1632907286292,
     "user": {
      "displayName": "lover coffee",
      "photoUrl": "https://lh3.googleusercontent.com/a/default-user=s64",
      "userId": "02387638799294991184"
     },
     "user_tz": -540
    },
    "id": "DuDFU8Bot9Mq"
   },
   "outputs": [],
   "source": [
    "from sklearn.model_selection import StratifiedKFold, KFold\n",
    "\n",
    "X, y = np.ones((50, 1)), np.hstack(([0] * 45, [1] * 5))"
   ]
  },
  {
   "cell_type": "code",
   "execution_count": 25,
   "metadata": {
    "colab": {
     "base_uri": "https://localhost:8080/"
    },
    "executionInfo": {
     "elapsed": 521,
     "status": "ok",
     "timestamp": 1632907286798,
     "user": {
      "displayName": "lover coffee",
      "photoUrl": "https://lh3.googleusercontent.com/a/default-user=s64",
      "userId": "02387638799294991184"
     },
     "user_tz": -540
    },
    "id": "fy4IS1lauaUp",
    "outputId": "8cf29cce-b252-4ea5-9673-4d57a0ab34c1"
   },
   "outputs": [
    {
     "data": {
      "text/plain": [
       "array([0, 0, 0, 0, 0, 0, 0, 0, 0, 0, 0, 0, 0, 0, 0, 0, 0, 0, 0, 0, 0, 0,\n",
       "       0, 0, 0, 0, 0, 0, 0, 0, 0, 0, 0, 0, 0, 0, 0, 0, 0, 0, 0, 0, 0, 0,\n",
       "       0, 1, 1, 1, 1, 1])"
      ]
     },
     "execution_count": 25,
     "metadata": {},
     "output_type": "execute_result"
    }
   ],
   "source": [
    "y"
   ]
  },
  {
   "cell_type": "code",
   "execution_count": 26,
   "metadata": {
    "colab": {
     "base_uri": "https://localhost:8080/"
    },
    "executionInfo": {
     "elapsed": 59,
     "status": "ok",
     "timestamp": 1632907286799,
     "user": {
      "displayName": "lover coffee",
      "photoUrl": "https://lh3.googleusercontent.com/a/default-user=s64",
      "userId": "02387638799294991184"
     },
     "user_tz": -540
    },
    "id": "-Y0IG5UBuKg4",
    "outputId": "861970be-2ee7-4899-e2c9-4094dce8ee83"
   },
   "outputs": [
    {
     "name": "stdout",
     "output_type": "stream",
     "text": [
      "train -  [28  5]   |   test -  [17]\n",
      "train -  [28  5]   |   test -  [17]\n",
      "train -  [34]   |   test -  [11  5]\n"
     ]
    }
   ],
   "source": [
    "kf = KFold(n_splits=3)\n",
    "for train, test in kf.split(X, y):\n",
    "    print('train -  {}   |   test -  {}'.format(\n",
    "        np.bincount(y[train]), np.bincount(y[test]))) # y가 0인 개수, 1인 개수 count. 클래스 1이 쏠려있는 것을 볼 수 있음."
   ]
  },
  {
   "cell_type": "code",
   "execution_count": 27,
   "metadata": {
    "colab": {
     "base_uri": "https://localhost:8080/"
    },
    "executionInfo": {
     "elapsed": 54,
     "status": "ok",
     "timestamp": 1632907286799,
     "user": {
      "displayName": "lover coffee",
      "photoUrl": "https://lh3.googleusercontent.com/a/default-user=s64",
      "userId": "02387638799294991184"
     },
     "user_tz": -540
    },
    "id": "E_RABkFBvgRe",
    "outputId": "92a43a24-b00f-4c68-fd22-ed4539150d7f"
   },
   "outputs": [
    {
     "data": {
      "text/plain": [
       "array([0, 0, 0, 0, 0, 0, 0, 0, 0, 0, 0, 0, 0, 0, 0, 0, 0, 0, 0, 0, 0, 0,\n",
       "       0, 0, 0, 0, 0, 0, 0, 0, 0, 0, 0, 0])"
      ]
     },
     "execution_count": 27,
     "metadata": {},
     "output_type": "execute_result"
    }
   ],
   "source": [
    "y[train]"
   ]
  },
  {
   "cell_type": "code",
   "execution_count": 28,
   "metadata": {
    "colab": {
     "base_uri": "https://localhost:8080/"
    },
    "executionInfo": {
     "elapsed": 51,
     "status": "ok",
     "timestamp": 1632907286800,
     "user": {
      "displayName": "lover coffee",
      "photoUrl": "https://lh3.googleusercontent.com/a/default-user=s64",
      "userId": "02387638799294991184"
     },
     "user_tz": -540
    },
    "id": "UNWKU0lFviVZ",
    "outputId": "c692a527-9090-4cfa-e4af-1bc37fc1248c"
   },
   "outputs": [
    {
     "data": {
      "text/plain": [
       "array([0, 0, 0, 0, 0, 0, 0, 0, 0, 0, 0, 1, 1, 1, 1, 1])"
      ]
     },
     "execution_count": 28,
     "metadata": {},
     "output_type": "execute_result"
    }
   ],
   "source": [
    "y[test]"
   ]
  },
  {
   "cell_type": "code",
   "execution_count": 29,
   "metadata": {
    "colab": {
     "base_uri": "https://localhost:8080/"
    },
    "executionInfo": {
     "elapsed": 44,
     "status": "ok",
     "timestamp": 1632907286800,
     "user": {
      "displayName": "lover coffee",
      "photoUrl": "https://lh3.googleusercontent.com/a/default-user=s64",
      "userId": "02387638799294991184"
     },
     "user_tz": -540
    },
    "id": "H2xq1dlSuPQd",
    "outputId": "0bc3a288-f0ce-44c3-b5b4-c35afa7a2c3b"
   },
   "outputs": [
    {
     "name": "stdout",
     "output_type": "stream",
     "text": [
      "train -  [30  3]   |   test -  [15  2]\n",
      "train -  [30  3]   |   test -  [15  2]\n",
      "train -  [30  4]   |   test -  [15  1]\n"
     ]
    }
   ],
   "source": [
    "skf = StratifiedKFold(n_splits=3)\n",
    "for train, test in skf.split(X, y):\n",
    "    print('train -  {}   |   test -  {}'.format(\n",
    "        np.bincount(y[train]), np.bincount(y[test])))"
   ]
  },
  {
   "cell_type": "code",
   "execution_count": 30,
   "metadata": {
    "colab": {
     "base_uri": "https://localhost:8080/"
    },
    "executionInfo": {
     "elapsed": 41,
     "status": "ok",
     "timestamp": 1632907286800,
     "user": {
      "displayName": "lover coffee",
      "photoUrl": "https://lh3.googleusercontent.com/a/default-user=s64",
      "userId": "02387638799294991184"
     },
     "user_tz": -540
    },
    "id": "Wm0hS9HSu6cY",
    "outputId": "830f73f8-34a1-46d7-b415-ecbd3b19fae2"
   },
   "outputs": [
    {
     "data": {
      "text/plain": [
       "array([0, 0, 0, 0, 0, 0, 0, 0, 0, 0, 0, 0, 0, 0, 0, 0, 0, 0, 0, 0, 0, 0,\n",
       "       0, 0, 0, 0, 0, 0, 0, 0, 1, 1, 1, 1])"
      ]
     },
     "execution_count": 30,
     "metadata": {},
     "output_type": "execute_result"
    }
   ],
   "source": [
    "y[train]"
   ]
  },
  {
   "cell_type": "code",
   "execution_count": 31,
   "metadata": {
    "colab": {
     "base_uri": "https://localhost:8080/"
    },
    "executionInfo": {
     "elapsed": 38,
     "status": "ok",
     "timestamp": 1632907286801,
     "user": {
      "displayName": "lover coffee",
      "photoUrl": "https://lh3.googleusercontent.com/a/default-user=s64",
      "userId": "02387638799294991184"
     },
     "user_tz": -540
    },
    "id": "s-b77dlwvb11",
    "outputId": "6d81641d-25e2-4184-a30d-8b95cb54ef6c"
   },
   "outputs": [
    {
     "data": {
      "text/plain": [
       "array([0, 0, 0, 0, 0, 0, 0, 0, 0, 0, 0, 0, 0, 0, 0, 1])"
      ]
     },
     "execution_count": 31,
     "metadata": {},
     "output_type": "execute_result"
    }
   ],
   "source": [
    "y[test]"
   ]
  },
  {
   "cell_type": "markdown",
   "metadata": {
    "id": "VRf_8dy8v56N"
   },
   "source": [
    "# K를 결정하는 방법"
   ]
  },
  {
   "cell_type": "code",
   "execution_count": 32,
   "metadata": {
    "colab": {
     "base_uri": "https://localhost:8080/"
    },
    "executionInfo": {
     "elapsed": 34,
     "status": "ok",
     "timestamp": 1632907286801,
     "user": {
      "displayName": "lover coffee",
      "photoUrl": "https://lh3.googleusercontent.com/a/default-user=s64",
      "userId": "02387638799294991184"
     },
     "user_tz": -540
    },
    "id": "3wEY6X8U4wLx",
    "outputId": "91161ecf-aeac-4479-a2cc-7ae316b7dec5"
   },
   "outputs": [
    {
     "data": {
      "text/plain": [
       "((0, 1), (50,))"
      ]
     },
     "execution_count": 32,
     "metadata": {},
     "output_type": "execute_result"
    }
   ],
   "source": [
    "X[140:].shape, y[:140].shape"
   ]
  },
  {
   "cell_type": "code",
   "execution_count": 33,
   "metadata": {
    "colab": {
     "base_uri": "https://localhost:8080/"
    },
    "executionInfo": {
     "elapsed": 30,
     "status": "ok",
     "timestamp": 1632907286801,
     "user": {
      "displayName": "lover coffee",
      "photoUrl": "https://lh3.googleusercontent.com/a/default-user=s64",
      "userId": "02387638799294991184"
     },
     "user_tz": -540
    },
    "id": "LrN3Uh_eveE0",
    "outputId": "a3768143-b8a3-4534-b11a-03b865858548"
   },
   "outputs": [
    {
     "name": "stdout",
     "output_type": "stream",
     "text": [
      "when k is 2 : 0.9733333333333334 0.013333333333333364\n",
      "when k is 3 : 0.9533333333333333 0.024944382578492918\n",
      "when k is 4 : 0.9866642958748222 0.013338074706322667\n",
      "when k is 5 : 0.9733333333333334 0.03265986323710904\n"
     ]
    }
   ],
   "source": [
    "from sklearn.model_selection import cross_val_score\n",
    "\n",
    "X, y = datasets.load_iris(return_X_y=True)\n",
    "\n",
    "for k in range(2, 6):\n",
    "  kf = KFold(n_splits=k, shuffle=True)\n",
    "  scores = []\n",
    "  for train, test in kf.split(X, y):\n",
    "    clf = svm.SVC(kernel='linear', C=1).fit(X[train], y[train])\n",
    "    scores.append(clf.score(X[test], y[test]))\n",
    "  print('when k is', k, ':', np.mean(scores), np.std(scores))\n",
    "\n",
    "#print(clf.score(X[140:], y[140:]))"
   ]
  },
  {
   "cell_type": "code",
   "execution_count": 36,
   "metadata": {
    "colab": {
     "base_uri": "https://localhost:8080/"
    },
    "executionInfo": {
     "elapsed": 25,
     "status": "ok",
     "timestamp": 1632907286801,
     "user": {
      "displayName": "lover coffee",
      "photoUrl": "https://lh3.googleusercontent.com/a/default-user=s64",
      "userId": "02387638799294991184"
     },
     "user_tz": -540
    },
    "id": "_7vln0e56ARF",
    "outputId": "8cc3b3a7-b860-48a4-c702-dc193c0d2ac1"
   },
   "outputs": [
    {
     "name": "stdout",
     "output_type": "stream",
     "text": [
      "when k is 2 : 0.9714285714285715 0.01428571428571429\n",
      " test score : 0.9\n",
      "when k is 3 : 0.9929078014184397 0.010029883421085795\n",
      " test score : 0.9\n",
      "when k is 4 : 0.9857142857142858 0.01428571428571429\n",
      " test score : 0.9\n",
      "when k is 5 : 0.9785714285714286 0.028571428571428557\n",
      " test score : 0.9\n"
     ]
    }
   ],
   "source": [
    "from sklearn.model_selection import cross_val_score\n",
    "from sklearn.utils import shuffle\n",
    "\n",
    "X, y = datasets.load_iris(return_X_y=True)\n",
    "X, y = shuffle(X, y, random_state=0) # 데이터가 잘 섞여있지 않아서 shuffle 추가\n",
    "\n",
    "for k in range(2, 6):\n",
    "    kf = KFold(n_splits=k, shuffle=True)\n",
    "    scores = []\n",
    "    for train, test in kf.split(X[:140], y[:140]): # 학습데이터와 시험셋 구분\n",
    "        clf = svm.SVC(kernel='linear', C=1).fit(X[train], y[train])\n",
    "        scores.append(clf.score(X[test], y[test]))\n",
    "    print('when k is', k, ':', np.mean(scores), np.std(scores))\n",
    "    print(' test score :', clf.score(X[140:], y[140:])) # 나머지 10개의 데이터로 시험셋에 활용"
   ]
  },
  {
   "cell_type": "code",
   "execution_count": 38,
   "metadata": {
    "colab": {
     "base_uri": "https://localhost:8080/"
    },
    "executionInfo": {
     "elapsed": 21,
     "status": "ok",
     "timestamp": 1632907286802,
     "user": {
      "displayName": "lover coffee",
      "photoUrl": "https://lh3.googleusercontent.com/a/default-user=s64",
      "userId": "02387638799294991184"
     },
     "user_tz": -540
    },
    "id": "6iKPi8u46APL",
    "outputId": "e5e0fd96-6073-43c1-f4ea-c92c7dafbb63"
   },
   "outputs": [
    {
     "name": "stdout",
     "output_type": "stream",
     "text": [
      "when k is 2 : 0.2785714285714286 0.007142857142857145\n",
      " test score : 0.4\n",
      "when k is 3 : 0.27104532839962997 0.03793912424497664\n",
      " test score : 0.4\n",
      "when k is 4 : 0.2928571428571428 0.06507452556531644\n",
      " test score : 0.4\n",
      "when k is 5 : 0.34285714285714286 0.11866605518454391\n",
      " test score : 0.5\n"
     ]
    }
   ],
   "source": [
    "from sklearn.model_selection import cross_val_score\n",
    "from sklearn.utils import shuffle\n",
    "\n",
    "X, y = datasets.load_iris(return_X_y=True)\n",
    "X, y = shuffle(X, y, random_state=0) \n",
    "\n",
    "for k in range(2, 6):\n",
    "    kf = KFold(n_splits=k, shuffle=True)\n",
    "    scores = []\n",
    "    for train, test in kf.split(X[:140], y[:140]):\n",
    "        clf = svm.SVC(kernel='linear', C=0.001).fit(X[train], y[train]) # 학습이 잘 안되도록 C를 변경\n",
    "        scores.append(clf.score(X[test], y[test]))\n",
    "    print('when k is', k, ':', np.mean(scores), np.std(scores))\n",
    "    print(' test score :', clf.score(X[140:], y[140:]))"
   ]
  },
  {
   "cell_type": "markdown",
   "metadata": {
    "id": "6JXqHqn87SbT"
   },
   "source": [
    "# Optimizaton"
   ]
  },
  {
   "cell_type": "markdown",
   "metadata": {
    "id": "1XaPfJF87YRD"
   },
   "source": [
    "## 1. GridSearch"
   ]
  },
  {
   "cell_type": "code",
   "execution_count": 39,
   "metadata": {
    "executionInfo": {
     "elapsed": 16,
     "status": "ok",
     "timestamp": 1632907286802,
     "user": {
      "displayName": "lover coffee",
      "photoUrl": "https://lh3.googleusercontent.com/a/default-user=s64",
      "userId": "02387638799294991184"
     },
     "user_tz": -540
    },
    "id": "lKksnb-i6AM_"
   },
   "outputs": [],
   "source": [
    "search_grid = { \n",
    "    'C': [0.1, 1, 10, 100], \n",
    "    'gamma': [0.1, 0.01 ,0.001], \n",
    "    'kernel': ['rbf', 'poly', 'linear']\n",
    "    }"
   ]
  },
  {
   "cell_type": "code",
   "execution_count": 40,
   "metadata": {
    "colab": {
     "base_uri": "https://localhost:8080/"
    },
    "executionInfo": {
     "elapsed": 16,
     "status": "ok",
     "timestamp": 1632907286802,
     "user": {
      "displayName": "lover coffee",
      "photoUrl": "https://lh3.googleusercontent.com/a/default-user=s64",
      "userId": "02387638799294991184"
     },
     "user_tz": -540
    },
    "id": "ZBdJUnO86AK2",
    "outputId": "015886ff-085d-4935-999d-945e4002d721"
   },
   "outputs": [
    {
     "data": {
      "text/plain": [
       "{'C': <scipy.stats._distn_infrastructure.rv_frozen at 0x247dffdbbe0>,\n",
       " 'gamma': <scipy.stats._distn_infrastructure.rv_frozen at 0x247dffdb7f0>,\n",
       " 'kernel': ['rbf', 'linear']}"
      ]
     },
     "execution_count": 40,
     "metadata": {},
     "output_type": "execute_result"
    }
   ],
   "source": [
    "from scipy.stats import loguniform\n",
    "\n",
    "{\n",
    "  'C': loguniform(1e-1, 1e3),\n",
    "  'gamma': loguniform(1e-4, 1e-1),\n",
    "  'kernel': ['rbf', 'linear']\n",
    "}"
   ]
  },
  {
   "cell_type": "code",
   "execution_count": 41,
   "metadata": {
    "colab": {
     "base_uri": "https://localhost:8080/"
    },
    "executionInfo": {
     "elapsed": 13,
     "status": "ok",
     "timestamp": 1632907286803,
     "user": {
      "displayName": "lover coffee",
      "photoUrl": "https://lh3.googleusercontent.com/a/default-user=s64",
      "userId": "02387638799294991184"
     },
     "user_tz": -540
    },
    "id": "CxeojmoqGiHX",
    "outputId": "b4661c58-a6a0-49f4-9e77-04521ca1c422"
   },
   "outputs": [
    {
     "name": "stdout",
     "output_type": "stream",
     "text": [
      "Wall time: 6.98 ms\n"
     ]
    },
    {
     "data": {
      "text/plain": [
       "SVC()"
      ]
     },
     "execution_count": 41,
     "metadata": {},
     "output_type": "execute_result"
    }
   ],
   "source": [
    "%%time\n",
    "\n",
    "from sklearn import svm, datasets\n",
    "from sklearn.model_selection import GridSearchCV\n",
    "\n",
    "iris = datasets.load_iris()\n",
    "clf = svm.SVC()\n",
    "clf.fit(iris.data, iris.target)"
   ]
  },
  {
   "cell_type": "code",
   "execution_count": 42,
   "metadata": {
    "colab": {
     "base_uri": "https://localhost:8080/"
    },
    "executionInfo": {
     "elapsed": 266,
     "status": "ok",
     "timestamp": 1632907287060,
     "user": {
      "displayName": "lover coffee",
      "photoUrl": "https://lh3.googleusercontent.com/a/default-user=s64",
      "userId": "02387638799294991184"
     },
     "user_tz": -540
    },
    "id": "oh9ft05Y41He",
    "outputId": "8e2e3fd7-8a78-4cd6-f8e9-4c3f215a605e"
   },
   "outputs": [
    {
     "name": "stdout",
     "output_type": "stream",
     "text": [
      "{'C': 0.1, 'gamma': 0.1, 'kernel': 'poly'}\n",
      "Wall time: 415 ms\n"
     ]
    }
   ],
   "source": [
    "%%time\n",
    "\n",
    "from sklearn import svm, datasets\n",
    "from sklearn.model_selection import GridSearchCV\n",
    "\n",
    "iris = datasets.load_iris()\n",
    "parameters = search_grid\n",
    "svc = svm.SVC()\n",
    "clf = GridSearchCV(svc, parameters)\n",
    "clf.fit(iris.data, iris.target)\n",
    "print(clf.best_params_)"
   ]
  },
  {
   "cell_type": "code",
   "execution_count": 43,
   "metadata": {
    "colab": {
     "base_uri": "https://localhost:8080/"
    },
    "executionInfo": {
     "elapsed": 13,
     "status": "ok",
     "timestamp": 1632907287061,
     "user": {
      "displayName": "lover coffee",
      "photoUrl": "https://lh3.googleusercontent.com/a/default-user=s64",
      "userId": "02387638799294991184"
     },
     "user_tz": -540
    },
    "id": "jiAzggPUIdKC",
    "outputId": "d690c324-b24f-4e37-c3d8-6059feb4114d"
   },
   "outputs": [
    {
     "data": {
      "text/plain": [
       "{'C': 0.1, 'gamma': 0.1, 'kernel': 'poly'}"
      ]
     },
     "execution_count": 43,
     "metadata": {},
     "output_type": "execute_result"
    }
   ],
   "source": [
    "clf.best_params_"
   ]
  },
  {
   "cell_type": "markdown",
   "metadata": {
    "id": "QjTh7Q8PJySf"
   },
   "source": [
    "## 2. Random Search"
   ]
  },
  {
   "cell_type": "code",
   "execution_count": 44,
   "metadata": {
    "colab": {
     "base_uri": "https://localhost:8080/"
    },
    "executionInfo": {
     "elapsed": 7,
     "status": "ok",
     "timestamp": 1632907287061,
     "user": {
      "displayName": "lover coffee",
      "photoUrl": "https://lh3.googleusercontent.com/a/default-user=s64",
      "userId": "02387638799294991184"
     },
     "user_tz": -540
    },
    "id": "Eq7F3ErK4plW",
    "outputId": "bbb0eee1-41b3-4da3-a310-017b4b52a3ae"
   },
   "outputs": [
    {
     "data": {
      "text/plain": [
       "{'C': 2.195254015709299, 'penalty': 'l1'}"
      ]
     },
     "execution_count": 44,
     "metadata": {},
     "output_type": "execute_result"
    }
   ],
   "source": [
    "from sklearn.datasets import load_iris\n",
    "from sklearn.linear_model import LogisticRegression\n",
    "from sklearn.model_selection import RandomizedSearchCV\n",
    "from scipy.stats import uniform\n",
    "iris = load_iris()\n",
    "logistic = LogisticRegression(solver='saga', tol=1e-2, max_iter=200,\n",
    "                               random_state=0)\n",
    "distributions = dict(C=uniform(loc=0, scale=4),\n",
    "                     penalty=['l2', 'l1'])\n",
    "clf = RandomizedSearchCV(logistic, distributions, random_state=0)\n",
    "search = clf.fit(iris.data, iris.target)\n",
    "search.best_params_"
   ]
  },
  {
   "cell_type": "markdown",
   "metadata": {
    "id": "ZAO_FSMYLMPZ"
   },
   "source": [
    "## 3. Bayesian Optimization"
   ]
  },
  {
   "cell_type": "code",
   "execution_count": 45,
   "metadata": {
    "colab": {
     "base_uri": "https://localhost:8080/"
    },
    "executionInfo": {
     "elapsed": 2980,
     "status": "ok",
     "timestamp": 1632907290038,
     "user": {
      "displayName": "lover coffee",
      "photoUrl": "https://lh3.googleusercontent.com/a/default-user=s64",
      "userId": "02387638799294991184"
     },
     "user_tz": -540
    },
    "id": "-4x0GyxQLWiS",
    "outputId": "b8553d15-1309-4b9e-edb2-66818eff9d68"
   },
   "outputs": [
    {
     "name": "stdout",
     "output_type": "stream",
     "text": [
      "Collecting scikit-optimize\n",
      "  Downloading scikit_optimize-0.8.1-py2.py3-none-any.whl (101 kB)\n",
      "Requirement already satisfied: numpy>=1.13.3 in c:\\users\\82109\\anaconda3\\lib\\site-packages (from scikit-optimize) (1.19.5)\n",
      "Requirement already satisfied: scikit-learn>=0.20.0 in c:\\users\\82109\\anaconda3\\lib\\site-packages (from scikit-optimize) (0.23.2)\n",
      "Collecting pyaml>=16.9\n",
      "  Downloading pyaml-21.8.3-py2.py3-none-any.whl (17 kB)\n",
      "Requirement already satisfied: joblib>=0.11 in c:\\users\\82109\\anaconda3\\lib\\site-packages (from scikit-optimize) (0.17.0)\n",
      "Requirement already satisfied: scipy>=0.19.1 in c:\\users\\82109\\anaconda3\\lib\\site-packages (from scikit-optimize) (1.5.2)\n",
      "Requirement already satisfied: PyYAML in c:\\users\\82109\\anaconda3\\lib\\site-packages (from pyaml>=16.9->scikit-optimize) (5.3.1)"
     ]
    },
    {
     "name": "stderr",
     "output_type": "stream",
     "text": [
      "WARNING: You are using pip version 21.1.2; however, version 21.2.4 is available.\n",
      "You should consider upgrading via the 'c:\\users\\82109\\anaconda3\\python.exe -m pip install --upgrade pip' command.\n"
     ]
    },
    {
     "name": "stdout",
     "output_type": "stream",
     "text": [
      "\n",
      "Requirement already satisfied: threadpoolctl>=2.0.0 in c:\\users\\82109\\anaconda3\\lib\\site-packages (from scikit-learn>=0.20.0->scikit-optimize) (2.1.0)\n",
      "Installing collected packages: pyaml, scikit-optimize\n",
      "Successfully installed pyaml-21.8.3 scikit-optimize-0.8.1\n"
     ]
    }
   ],
   "source": [
    "!pip install scikit-optimize"
   ]
  },
  {
   "cell_type": "code",
   "execution_count": 46,
   "metadata": {
    "colab": {
     "base_uri": "https://localhost:8080/"
    },
    "executionInfo": {
     "elapsed": 53672,
     "status": "ok",
     "timestamp": 1632907343708,
     "user": {
      "displayName": "lover coffee",
      "photoUrl": "https://lh3.googleusercontent.com/a/default-user=s64",
      "userId": "02387638799294991184"
     },
     "user_tz": -540
    },
    "id": "gI-6IvW2K7hE",
    "outputId": "142d23c8-8b92-45a5-a1a6-ffe7447f7d9a"
   },
   "outputs": [
    {
     "name": "stdout",
     "output_type": "stream",
     "text": [
      "val. score: 0.9829250185597624\n",
      "test score: 0.9822222222222222\n",
      "Wall time: 1min 1s\n"
     ]
    }
   ],
   "source": [
    "%%time\n",
    "\n",
    "from skopt import BayesSearchCV\n",
    "from sklearn.datasets import load_digits\n",
    "from sklearn.svm import SVC\n",
    "from sklearn.model_selection import train_test_split\n",
    "\n",
    "X, y = load_digits(n_class=10, return_X_y=True)\n",
    "X_train, X_test, y_train, y_test = train_test_split(X, y, train_size=0.75, test_size=.25, random_state=0)\n",
    "\n",
    "# log-uniform: understand as search over p = exp(x) by varying x\n",
    "opt = BayesSearchCV(\n",
    "    SVC(),\n",
    "    {\n",
    "        'C': (1e-6, 1e+6, 'log-uniform'),\n",
    "        'gamma': (1e-6, 1e+1, 'log-uniform'),\n",
    "        'degree': (1, 8),  # integer valued parameter\n",
    "        'kernel': ['linear', 'poly', 'rbf'],  # categorical parameter\n",
    "    },\n",
    "    n_iter=32,\n",
    "    cv=3\n",
    ")\n",
    "\n",
    "opt.fit(X_train, y_train)\n",
    "\n",
    "print(\"val. score: %s\" % opt.best_score_)\n",
    "print(\"test score: %s\" % opt.score(X_test, y_test))"
   ]
  },
  {
   "cell_type": "markdown",
   "metadata": {
    "id": "iqa8kWonNuoT"
   },
   "source": [
    "# 예제"
   ]
  },
  {
   "cell_type": "markdown",
   "metadata": {
    "id": "9abtB-jUON0t"
   },
   "source": [
    "## Pipeline과 Optimization을 사용한 ML Pipeline 만들기\n",
    "\n",
    "- Zillow 데이터셋\n",
    "  - Zillow의 Zestimate 주택 가치 평가는 11년 전에 처음 발표된 이후로 미국 부동산 업계를 뒤흔들었습니다. Zestimate는 소비자에게 주택과 주택 시장에 대한 가능한 한 많은 정보를 제공하기 위해 만들어졌으며, 소비자가 이러한 유형의 주택 가치 정보에 무료로 액세스할 수 있었던 최초의 사례입니다. 각 부동산에 대한 수백 개의 데이터 포인트를 분석하는 750만 개의 통계 및 기계 학습 모델을 기반으로 추정되는 주택 가치입니다. 그리고 중앙값 오차 범위를 지속적으로 개선함으로써(초기 14%에서 오늘날 5%로) Zillow는 이후 미국에서 가장 크고 가장 신뢰할 수 있는 부동산 정보 시장 중 하나로 자리 잡았으며 기계학습의 영향력을 볼 수 있는 대표적인 사례가 되었습니다.\n",
    "  - 백만 달러의 대상이 있는 대회인 Zillow Prize는 Zestimate의 정확성을 더욱 높일 수 있도록 데이터 과학 커뮤니티에 도전하고 있습니다. 우승 알고리즘은 미국 전역의 1억 1천만 가구의 주택 가치에 영향을 미칠 것입니다.\n",
    "\n",
    "![](https://storage.googleapis.com/kaggle-competitions/kaggle/6649/media/_zillow_image_2.jpg)\n",
    "\n",
    "- 학습/테스트 분할\n",
    "  - 2016년 3개 카운티 데이터의 전체 부동산 목록이 제공됩니다.\n",
    "    - train data에는 2016년 10월 15일 이전의 모든 거래와 2016년 10월 15일 이후의 일부 거래가 있습니다.\n",
    "    - 공개 리더보드의 test data에는 2016년 10월 15일에서 12월 31일 사이의 나머지 거래가 있습니다.\n",
    "    - 비공개 순위표 계산에 사용되는 rest of test data는 2017년 10월 15일부터 2017년 12월 15일까지의 모든 속성입니다. 이 기간을 \"판매 추적 기간\"이라고 하며 이 기간 동안에는 모든 제출을 허용하지 않습니다.\n",
    "    - 모든 속성에 대해 6개의 시점을 예측해야 합니다.\n",
    "      - 모든 부동산이 각 기간에 판매되는 것은 아닙니다. 특정 기간 동안 부동산이 판매되지 않은 경우 점수를 계산할 때 해당 특정 행은 무시됩니다.\n",
    "      - 부동산이 31일 이내에 여러 번 판매되는 경우 첫 번째 합리적인 가치를 사실로 간주합니다. \"합리적\"이라는 말은 데이터가 잘못된 것 같으면 더 합리적인 값을 가진 거래를 취한다는 의미입니다.\n",
    "\n",
    "- 파일 설명\n",
    "- properties_2016.csv - 2016년에 대한 집의 특징이 있는 모든 속성. \n",
    "- properties_2017.csv - 2017년에 대한 집의 특징이 있는 모든 속성\n",
    "- train_2016.csv - 2016년 1월 1일부터 2016년 12월 31일까지의 트랜잭션이 있는 학습셋\n",
    "- train_2017.csv - 2017년 1월 1일부터 2017년 9월 15일까지의 트랜잭션이 있는 학습셋\n",
    "- sample_submission.csv - 올바른 형식의 제출 파일 샘플"
   ]
  },
  {
   "cell_type": "code",
   "execution_count": 47,
   "metadata": {
    "executionInfo": {
     "elapsed": 4,
     "status": "ok",
     "timestamp": 1632907343708,
     "user": {
      "displayName": "lover coffee",
      "photoUrl": "https://lh3.googleusercontent.com/a/default-user=s64",
      "userId": "02387638799294991184"
     },
     "user_tz": -540
    },
    "id": "43E7uYHBNrze"
   },
   "outputs": [],
   "source": [
    "import numpy as np\n",
    "import pandas as pd\n",
    "import lightgbm as lgb\n",
    "from lightgbm import LGBMRegressor\n",
    "from sklearn.model_selection import GridSearchCV\n",
    "from sklearn.feature_selection import SelectKBest, VarianceThreshold\n",
    "from sklearn.pipeline import Pipeline, FeatureUnion\n",
    "from sklearn.preprocessing import PolynomialFeatures, StandardScaler, OneHotEncoder, MinMaxScaler\n",
    "from sklearn.impute import SimpleImputer\n",
    "from sklearn.decomposition import PCA\n",
    "from sklearn.ensemble import RandomForestRegressor\n",
    "from sklearn.metrics import mean_absolute_error\n",
    "import os\n",
    "import time\n",
    "\n",
    "import warnings\n",
    "warnings.filterwarnings(\"ignore\")"
   ]
  },
  {
   "cell_type": "code",
   "execution_count": 48,
   "metadata": {
    "executionInfo": {
     "elapsed": 16187,
     "status": "ok",
     "timestamp": 1632907359892,
     "user": {
      "displayName": "lover coffee",
      "photoUrl": "https://lh3.googleusercontent.com/a/default-user=s64",
      "userId": "02387638799294991184"
     },
     "user_tz": -540
    },
    "id": "l9Q1glleZnPu"
   },
   "outputs": [
    {
     "ename": "FileNotFoundError",
     "evalue": "[Errno 2] No such file or directory: '/content/drive/MyDrive/21_ls/data/zillow_train_2016_v2.csv'",
     "output_type": "error",
     "traceback": [
      "\u001b[1;31m---------------------------------------------------------------------------\u001b[0m",
      "\u001b[1;31mFileNotFoundError\u001b[0m                         Traceback (most recent call last)",
      "\u001b[1;32m<ipython-input-48-4faca8f607b2>\u001b[0m in \u001b[0;36m<module>\u001b[1;34m\u001b[0m\n\u001b[1;32m----> 1\u001b[1;33m \u001b[0mtrain\u001b[0m \u001b[1;33m=\u001b[0m \u001b[0mpd\u001b[0m\u001b[1;33m.\u001b[0m\u001b[0mread_csv\u001b[0m\u001b[1;33m(\u001b[0m\u001b[1;34m\"/content/drive/MyDrive/21_ls/data/zillow_train_2016_v2.csv\"\u001b[0m\u001b[1;33m)\u001b[0m\u001b[1;33m\u001b[0m\u001b[1;33m\u001b[0m\u001b[0m\n\u001b[0m\u001b[0;32m      2\u001b[0m \u001b[0mproperties\u001b[0m \u001b[1;33m=\u001b[0m \u001b[0mpd\u001b[0m\u001b[1;33m.\u001b[0m\u001b[0mread_csv\u001b[0m\u001b[1;33m(\u001b[0m\u001b[1;34m'/content/drive/MyDrive/21_ls/data/zillow_properties_2016.csv'\u001b[0m\u001b[1;33m)\u001b[0m\u001b[1;33m\u001b[0m\u001b[1;33m\u001b[0m\u001b[0m\n",
      "\u001b[1;32m~\\anaconda3\\lib\\site-packages\\pandas\\io\\parsers.py\u001b[0m in \u001b[0;36mread_csv\u001b[1;34m(filepath_or_buffer, sep, delimiter, header, names, index_col, usecols, squeeze, prefix, mangle_dupe_cols, dtype, engine, converters, true_values, false_values, skipinitialspace, skiprows, skipfooter, nrows, na_values, keep_default_na, na_filter, verbose, skip_blank_lines, parse_dates, infer_datetime_format, keep_date_col, date_parser, dayfirst, cache_dates, iterator, chunksize, compression, thousands, decimal, lineterminator, quotechar, quoting, doublequote, escapechar, comment, encoding, dialect, error_bad_lines, warn_bad_lines, delim_whitespace, low_memory, memory_map, float_precision, storage_options)\u001b[0m\n\u001b[0;32m    608\u001b[0m     \u001b[0mkwds\u001b[0m\u001b[1;33m.\u001b[0m\u001b[0mupdate\u001b[0m\u001b[1;33m(\u001b[0m\u001b[0mkwds_defaults\u001b[0m\u001b[1;33m)\u001b[0m\u001b[1;33m\u001b[0m\u001b[1;33m\u001b[0m\u001b[0m\n\u001b[0;32m    609\u001b[0m \u001b[1;33m\u001b[0m\u001b[0m\n\u001b[1;32m--> 610\u001b[1;33m     \u001b[1;32mreturn\u001b[0m \u001b[0m_read\u001b[0m\u001b[1;33m(\u001b[0m\u001b[0mfilepath_or_buffer\u001b[0m\u001b[1;33m,\u001b[0m \u001b[0mkwds\u001b[0m\u001b[1;33m)\u001b[0m\u001b[1;33m\u001b[0m\u001b[1;33m\u001b[0m\u001b[0m\n\u001b[0m\u001b[0;32m    611\u001b[0m \u001b[1;33m\u001b[0m\u001b[0m\n\u001b[0;32m    612\u001b[0m \u001b[1;33m\u001b[0m\u001b[0m\n",
      "\u001b[1;32m~\\anaconda3\\lib\\site-packages\\pandas\\io\\parsers.py\u001b[0m in \u001b[0;36m_read\u001b[1;34m(filepath_or_buffer, kwds)\u001b[0m\n\u001b[0;32m    460\u001b[0m \u001b[1;33m\u001b[0m\u001b[0m\n\u001b[0;32m    461\u001b[0m     \u001b[1;31m# Create the parser.\u001b[0m\u001b[1;33m\u001b[0m\u001b[1;33m\u001b[0m\u001b[1;33m\u001b[0m\u001b[0m\n\u001b[1;32m--> 462\u001b[1;33m     \u001b[0mparser\u001b[0m \u001b[1;33m=\u001b[0m \u001b[0mTextFileReader\u001b[0m\u001b[1;33m(\u001b[0m\u001b[0mfilepath_or_buffer\u001b[0m\u001b[1;33m,\u001b[0m \u001b[1;33m**\u001b[0m\u001b[0mkwds\u001b[0m\u001b[1;33m)\u001b[0m\u001b[1;33m\u001b[0m\u001b[1;33m\u001b[0m\u001b[0m\n\u001b[0m\u001b[0;32m    463\u001b[0m \u001b[1;33m\u001b[0m\u001b[0m\n\u001b[0;32m    464\u001b[0m     \u001b[1;32mif\u001b[0m \u001b[0mchunksize\u001b[0m \u001b[1;32mor\u001b[0m \u001b[0miterator\u001b[0m\u001b[1;33m:\u001b[0m\u001b[1;33m\u001b[0m\u001b[1;33m\u001b[0m\u001b[0m\n",
      "\u001b[1;32m~\\anaconda3\\lib\\site-packages\\pandas\\io\\parsers.py\u001b[0m in \u001b[0;36m__init__\u001b[1;34m(self, f, engine, **kwds)\u001b[0m\n\u001b[0;32m    817\u001b[0m             \u001b[0mself\u001b[0m\u001b[1;33m.\u001b[0m\u001b[0moptions\u001b[0m\u001b[1;33m[\u001b[0m\u001b[1;34m\"has_index_names\"\u001b[0m\u001b[1;33m]\u001b[0m \u001b[1;33m=\u001b[0m \u001b[0mkwds\u001b[0m\u001b[1;33m[\u001b[0m\u001b[1;34m\"has_index_names\"\u001b[0m\u001b[1;33m]\u001b[0m\u001b[1;33m\u001b[0m\u001b[1;33m\u001b[0m\u001b[0m\n\u001b[0;32m    818\u001b[0m \u001b[1;33m\u001b[0m\u001b[0m\n\u001b[1;32m--> 819\u001b[1;33m         \u001b[0mself\u001b[0m\u001b[1;33m.\u001b[0m\u001b[0m_engine\u001b[0m \u001b[1;33m=\u001b[0m \u001b[0mself\u001b[0m\u001b[1;33m.\u001b[0m\u001b[0m_make_engine\u001b[0m\u001b[1;33m(\u001b[0m\u001b[0mself\u001b[0m\u001b[1;33m.\u001b[0m\u001b[0mengine\u001b[0m\u001b[1;33m)\u001b[0m\u001b[1;33m\u001b[0m\u001b[1;33m\u001b[0m\u001b[0m\n\u001b[0m\u001b[0;32m    820\u001b[0m \u001b[1;33m\u001b[0m\u001b[0m\n\u001b[0;32m    821\u001b[0m     \u001b[1;32mdef\u001b[0m \u001b[0mclose\u001b[0m\u001b[1;33m(\u001b[0m\u001b[0mself\u001b[0m\u001b[1;33m)\u001b[0m\u001b[1;33m:\u001b[0m\u001b[1;33m\u001b[0m\u001b[1;33m\u001b[0m\u001b[0m\n",
      "\u001b[1;32m~\\anaconda3\\lib\\site-packages\\pandas\\io\\parsers.py\u001b[0m in \u001b[0;36m_make_engine\u001b[1;34m(self, engine)\u001b[0m\n\u001b[0;32m   1048\u001b[0m             )\n\u001b[0;32m   1049\u001b[0m         \u001b[1;31m# error: Too many arguments for \"ParserBase\"\u001b[0m\u001b[1;33m\u001b[0m\u001b[1;33m\u001b[0m\u001b[1;33m\u001b[0m\u001b[0m\n\u001b[1;32m-> 1050\u001b[1;33m         \u001b[1;32mreturn\u001b[0m \u001b[0mmapping\u001b[0m\u001b[1;33m[\u001b[0m\u001b[0mengine\u001b[0m\u001b[1;33m]\u001b[0m\u001b[1;33m(\u001b[0m\u001b[0mself\u001b[0m\u001b[1;33m.\u001b[0m\u001b[0mf\u001b[0m\u001b[1;33m,\u001b[0m \u001b[1;33m**\u001b[0m\u001b[0mself\u001b[0m\u001b[1;33m.\u001b[0m\u001b[0moptions\u001b[0m\u001b[1;33m)\u001b[0m  \u001b[1;31m# type: ignore[call-arg]\u001b[0m\u001b[1;33m\u001b[0m\u001b[1;33m\u001b[0m\u001b[0m\n\u001b[0m\u001b[0;32m   1051\u001b[0m \u001b[1;33m\u001b[0m\u001b[0m\n\u001b[0;32m   1052\u001b[0m     \u001b[1;32mdef\u001b[0m \u001b[0m_failover_to_python\u001b[0m\u001b[1;33m(\u001b[0m\u001b[0mself\u001b[0m\u001b[1;33m)\u001b[0m\u001b[1;33m:\u001b[0m\u001b[1;33m\u001b[0m\u001b[1;33m\u001b[0m\u001b[0m\n",
      "\u001b[1;32m~\\anaconda3\\lib\\site-packages\\pandas\\io\\parsers.py\u001b[0m in \u001b[0;36m__init__\u001b[1;34m(self, src, **kwds)\u001b[0m\n\u001b[0;32m   1865\u001b[0m \u001b[1;33m\u001b[0m\u001b[0m\n\u001b[0;32m   1866\u001b[0m         \u001b[1;31m# open handles\u001b[0m\u001b[1;33m\u001b[0m\u001b[1;33m\u001b[0m\u001b[1;33m\u001b[0m\u001b[0m\n\u001b[1;32m-> 1867\u001b[1;33m         \u001b[0mself\u001b[0m\u001b[1;33m.\u001b[0m\u001b[0m_open_handles\u001b[0m\u001b[1;33m(\u001b[0m\u001b[0msrc\u001b[0m\u001b[1;33m,\u001b[0m \u001b[0mkwds\u001b[0m\u001b[1;33m)\u001b[0m\u001b[1;33m\u001b[0m\u001b[1;33m\u001b[0m\u001b[0m\n\u001b[0m\u001b[0;32m   1868\u001b[0m         \u001b[1;32massert\u001b[0m \u001b[0mself\u001b[0m\u001b[1;33m.\u001b[0m\u001b[0mhandles\u001b[0m \u001b[1;32mis\u001b[0m \u001b[1;32mnot\u001b[0m \u001b[1;32mNone\u001b[0m\u001b[1;33m\u001b[0m\u001b[1;33m\u001b[0m\u001b[0m\n\u001b[0;32m   1869\u001b[0m         \u001b[1;32mfor\u001b[0m \u001b[0mkey\u001b[0m \u001b[1;32min\u001b[0m \u001b[1;33m(\u001b[0m\u001b[1;34m\"storage_options\"\u001b[0m\u001b[1;33m,\u001b[0m \u001b[1;34m\"encoding\"\u001b[0m\u001b[1;33m,\u001b[0m \u001b[1;34m\"memory_map\"\u001b[0m\u001b[1;33m,\u001b[0m \u001b[1;34m\"compression\"\u001b[0m\u001b[1;33m)\u001b[0m\u001b[1;33m:\u001b[0m\u001b[1;33m\u001b[0m\u001b[1;33m\u001b[0m\u001b[0m\n",
      "\u001b[1;32m~\\anaconda3\\lib\\site-packages\\pandas\\io\\parsers.py\u001b[0m in \u001b[0;36m_open_handles\u001b[1;34m(self, src, kwds)\u001b[0m\n\u001b[0;32m   1360\u001b[0m         \u001b[0mLet\u001b[0m \u001b[0mthe\u001b[0m \u001b[0mreaders\u001b[0m \u001b[0mopen\u001b[0m \u001b[0mIOHanldes\u001b[0m \u001b[0mafter\u001b[0m \u001b[0mthey\u001b[0m \u001b[0mare\u001b[0m \u001b[0mdone\u001b[0m \u001b[1;32mwith\u001b[0m \u001b[0mtheir\u001b[0m \u001b[0mpotential\u001b[0m \u001b[0mraises\u001b[0m\u001b[1;33m.\u001b[0m\u001b[1;33m\u001b[0m\u001b[1;33m\u001b[0m\u001b[0m\n\u001b[0;32m   1361\u001b[0m         \"\"\"\n\u001b[1;32m-> 1362\u001b[1;33m         self.handles = get_handle(\n\u001b[0m\u001b[0;32m   1363\u001b[0m             \u001b[0msrc\u001b[0m\u001b[1;33m,\u001b[0m\u001b[1;33m\u001b[0m\u001b[1;33m\u001b[0m\u001b[0m\n\u001b[0;32m   1364\u001b[0m             \u001b[1;34m\"r\"\u001b[0m\u001b[1;33m,\u001b[0m\u001b[1;33m\u001b[0m\u001b[1;33m\u001b[0m\u001b[0m\n",
      "\u001b[1;32m~\\anaconda3\\lib\\site-packages\\pandas\\io\\common.py\u001b[0m in \u001b[0;36mget_handle\u001b[1;34m(path_or_buf, mode, encoding, compression, memory_map, is_text, errors, storage_options)\u001b[0m\n\u001b[0;32m    640\u001b[0m                 \u001b[0merrors\u001b[0m \u001b[1;33m=\u001b[0m \u001b[1;34m\"replace\"\u001b[0m\u001b[1;33m\u001b[0m\u001b[1;33m\u001b[0m\u001b[0m\n\u001b[0;32m    641\u001b[0m             \u001b[1;31m# Encoding\u001b[0m\u001b[1;33m\u001b[0m\u001b[1;33m\u001b[0m\u001b[1;33m\u001b[0m\u001b[0m\n\u001b[1;32m--> 642\u001b[1;33m             handle = open(\n\u001b[0m\u001b[0;32m    643\u001b[0m                 \u001b[0mhandle\u001b[0m\u001b[1;33m,\u001b[0m\u001b[1;33m\u001b[0m\u001b[1;33m\u001b[0m\u001b[0m\n\u001b[0;32m    644\u001b[0m                 \u001b[0mioargs\u001b[0m\u001b[1;33m.\u001b[0m\u001b[0mmode\u001b[0m\u001b[1;33m,\u001b[0m\u001b[1;33m\u001b[0m\u001b[1;33m\u001b[0m\u001b[0m\n",
      "\u001b[1;31mFileNotFoundError\u001b[0m: [Errno 2] No such file or directory: '/content/drive/MyDrive/21_ls/data/zillow_train_2016_v2.csv'"
     ]
    }
   ],
   "source": [
    "train = pd.read_csv(\"/content/drive/MyDrive/21_ls/data/zillow_train_2016_v2.csv\")\n",
    "properties = pd.read_csv('/content/drive/MyDrive/21_ls/data/zillow_properties_2016.csv')"
   ]
  },
  {
   "cell_type": "code",
   "execution_count": null,
   "metadata": {
    "colab": {
     "base_uri": "https://localhost:8080/",
     "height": 419
    },
    "executionInfo": {
     "elapsed": 16,
     "status": "ok",
     "timestamp": 1632907359898,
     "user": {
      "displayName": "lover coffee",
      "photoUrl": "https://lh3.googleusercontent.com/a/default-user=s64",
      "userId": "02387638799294991184"
     },
     "user_tz": -540
    },
    "id": "D8y5um2JZ5mF",
    "outputId": "fa4a9d03-b452-4546-e571-3367d6d42751"
   },
   "outputs": [],
   "source": [
    "train"
   ]
  },
  {
   "cell_type": "code",
   "execution_count": null,
   "metadata": {
    "colab": {
     "base_uri": "https://localhost:8080/",
     "height": 439
    },
    "executionInfo": {
     "elapsed": 15,
     "status": "ok",
     "timestamp": 1632907359899,
     "user": {
      "displayName": "lover coffee",
      "photoUrl": "https://lh3.googleusercontent.com/a/default-user=s64",
      "userId": "02387638799294991184"
     },
     "user_tz": -540
    },
    "id": "373paO6AZ60X",
    "outputId": "b3c9dce8-425e-4c4e-b21f-5a1f934cd154"
   },
   "outputs": [],
   "source": [
    "properties"
   ]
  },
  {
   "cell_type": "code",
   "execution_count": null,
   "metadata": {
    "colab": {
     "base_uri": "https://localhost:8080/",
     "height": 419
    },
    "executionInfo": {
     "elapsed": 401,
     "status": "ok",
     "timestamp": 1632907360285,
     "user": {
      "displayName": "lover coffee",
      "photoUrl": "https://lh3.googleusercontent.com/a/default-user=s64",
      "userId": "02387638799294991184"
     },
     "user_tz": -540
    },
    "id": "7xF9lKGIaZzL",
    "outputId": "9dee3c65-22a9-457a-ac8b-880e8d7720f5"
   },
   "outputs": [],
   "source": [
    "properties[['propertyzoningdesc', 'propertycountylandusecode', 'fireplacecnt', 'fireplaceflag']]\n",
    "# 앞의 둘은 지역에 대한 정보인데, 그것은 다른 feature로도 주소에 대한 설명이 충분하고, 이 둘이 처리하기 힘든 형태이므로 제거\n",
    "# fire에 관한건데, 결측치도 많고 집값에 영향이 적을 것이라 생각하여 제거"
   ]
  },
  {
   "cell_type": "code",
   "execution_count": null,
   "metadata": {
    "executionInfo": {
     "elapsed": 8035,
     "status": "ok",
     "timestamp": 1632907368316,
     "user": {
      "displayName": "lover coffee",
      "photoUrl": "https://lh3.googleusercontent.com/a/default-user=s64",
      "userId": "02387638799294991184"
     },
     "user_tz": -540
    },
    "id": "Ui_tkt1fW_BD"
   },
   "outputs": [],
   "source": [
    "for c, dtype in zip(properties.columns, properties.dtypes):\t\n",
    "    if dtype == np.float64:\n",
    "        properties[c] = properties[c].astype(np.float32) # lightGBM에 친화적인 포맷으로 변경"
   ]
  },
  {
   "cell_type": "code",
   "execution_count": null,
   "metadata": {
    "executionInfo": {
     "elapsed": 1940,
     "status": "ok",
     "timestamp": 1632907370247,
     "user": {
      "displayName": "lover coffee",
      "photoUrl": "https://lh3.googleusercontent.com/a/default-user=s64",
      "userId": "02387638799294991184"
     },
     "user_tz": -540
    },
    "id": "hIZLi7yGaMkF"
   },
   "outputs": [],
   "source": [
    "df_train = (train.merge(properties, how='left', on='parcelid')\n",
    "            .drop(['parcelid', 'transactiondate', 'propertyzoningdesc', \n",
    "                         'propertycountylandusecode', 'fireplacecnt', 'fireplaceflag'], axis=1))\n",
    "\n",
    "train_columns = df_train.columns # df_train의 column들을 학습에 사용할 column들로 지정해주기 위해서 따로 변수에 담음"
   ]
  },
  {
   "cell_type": "code",
   "execution_count": null,
   "metadata": {
    "colab": {
     "base_uri": "https://localhost:8080/",
     "height": 439
    },
    "executionInfo": {
     "elapsed": 19,
     "status": "ok",
     "timestamp": 1632907370248,
     "user": {
      "displayName": "lover coffee",
      "photoUrl": "https://lh3.googleusercontent.com/a/default-user=s64",
      "userId": "02387638799294991184"
     },
     "user_tz": -540
    },
    "id": "wwBHXXu4cFfH",
    "outputId": "5eb0218d-048b-407c-ea39-186332af7153"
   },
   "outputs": [],
   "source": [
    "df_train"
   ]
  },
  {
   "cell_type": "code",
   "execution_count": null,
   "metadata": {
    "executionInfo": {
     "elapsed": 17,
     "status": "ok",
     "timestamp": 1632907370249,
     "user": {
      "displayName": "lover coffee",
      "photoUrl": "https://lh3.googleusercontent.com/a/default-user=s64",
      "userId": "02387638799294991184"
     },
     "user_tz": -540
    },
    "id": "Wkf8QGZ8b_l0"
   },
   "outputs": [],
   "source": [
    "valid = df_train.iloc[1:20000, :] #우리가 예측해야하는 것이 10월 15일-12월 15일의 데이터이기 때문에, 이 기간의 정보를 학습하기 위해서 valid를 뒤쪽이 아닌 앞쪽을 다름\n",
    "train = df_train.iloc[20001:90275, :] # 시간으로 정렬되어있기 때문에, 순차적으로 데이터를 나누어줌. \n",
    "\n",
    "y_train = train['logerror'].values # 우리가 예측하고자 하는 값`\n",
    "y_valid = valid['logerror'].values\n",
    "\n",
    "x_train = train.drop('logerror', axis = 1)\n",
    "x_valid = valid.drop('logerror', axis = 1)\n",
    "\n",
    "idVars = [i for e in ['id',  'flag', 'has'] for i in list(train_columns) if e in i] + ['fips', 'hashottuborspa'] # categorical\n",
    "countVars = [i for e in ['cnt',  'year', 'nbr', 'number'] for i in list(train_columns) if e in i] # discrete \n",
    "taxVars = [col for col in train_columns if 'tax' in col and 'flag' not in col] # tax \n",
    "          \n",
    "ttlVars = idVars + countVars + taxVars\n",
    "dropVars = [i for e in ['census',  'tude', 'error'] for i in list(train_columns) if e in i] # 인구조사 자료, 위도/경도, logerror 값 제외\n",
    "contVars = [col for col in train_columns if col not in ttlVars + dropVars] # continus feature (tax를 제외한)\n",
    "\n",
    "for c in x_train.dtypes[x_train.dtypes == object].index.values: # array(['hashottuborspa', 'taxdelinquencyflag'], dtype=object) / True와 NaN으로 구성되어있는 데이터 / dtype('O') -> dtype('bool')\n",
    "    x_train[c] = (x_train[c] == True)\n",
    "    \n",
    "for c in x_valid.dtypes[x_valid.dtypes == object].index.values:\n",
    "    x_valid[c] = (x_valid[c] == True)   \n"
   ]
  },
  {
   "cell_type": "code",
   "execution_count": null,
   "metadata": {
    "colab": {
     "base_uri": "https://localhost:8080/",
     "height": 439
    },
    "executionInfo": {
     "elapsed": 18,
     "status": "ok",
     "timestamp": 1632907370250,
     "user": {
      "displayName": "lover coffee",
      "photoUrl": "https://lh3.googleusercontent.com/a/default-user=s64",
      "userId": "02387638799294991184"
     },
     "user_tz": -540
    },
    "id": "ASL2D6pZec0l",
    "outputId": "24092ce5-3861-40b4-848f-63743f4e41c7"
   },
   "outputs": [],
   "source": [
    "df_train[idVars] #float32 이기에 소수점으로 표현된 것"
   ]
  },
  {
   "cell_type": "code",
   "execution_count": null,
   "metadata": {
    "colab": {
     "base_uri": "https://localhost:8080/",
     "height": 439
    },
    "executionInfo": {
     "elapsed": 18,
     "status": "ok",
     "timestamp": 1632907370251,
     "user": {
      "displayName": "lover coffee",
      "photoUrl": "https://lh3.googleusercontent.com/a/default-user=s64",
      "userId": "02387638799294991184"
     },
     "user_tz": -540
    },
    "id": "LTbmkyfGegiY",
    "outputId": "48371c98-0e3a-47a5-8a5f-aa2f4e7f6273"
   },
   "outputs": [],
   "source": [
    "df_train[countVars]"
   ]
  },
  {
   "cell_type": "code",
   "execution_count": null,
   "metadata": {
    "executionInfo": {
     "elapsed": 17,
     "status": "ok",
     "timestamp": 1632907370251,
     "user": {
      "displayName": "lover coffee",
      "photoUrl": "https://lh3.googleusercontent.com/a/default-user=s64",
      "userId": "02387638799294991184"
     },
     "user_tz": -540
    },
    "id": "a8pfk6KFUeQP"
   },
   "outputs": [],
   "source": []
  },
  {
   "cell_type": "code",
   "execution_count": null,
   "metadata": {
    "colab": {
     "base_uri": "https://localhost:8080/"
    },
    "executionInfo": {
     "elapsed": 393,
     "status": "ok",
     "timestamp": 1632907370627,
     "user": {
      "displayName": "lover coffee",
      "photoUrl": "https://lh3.googleusercontent.com/a/default-user=s64",
      "userId": "02387638799294991184"
     },
     "user_tz": -540
    },
    "id": "4gV_IkX0TTA3",
    "outputId": "8de679eb-05c9-4177-bd1a-f11f79b30b54"
   },
   "outputs": [],
   "source": [
    "print(contVars)\n",
    "\n",
    "x_train_cont = x_train[contVars]\n",
    "x_valid_cont = x_valid[contVars]"
   ]
  },
  {
   "cell_type": "code",
   "execution_count": null,
   "metadata": {
    "colab": {
     "base_uri": "https://localhost:8080/"
    },
    "executionInfo": {
     "elapsed": 985,
     "status": "ok",
     "timestamp": 1632907371609,
     "user": {
      "displayName": "lover coffee",
      "photoUrl": "https://lh3.googleusercontent.com/a/default-user=s64",
      "userId": "02387638799294991184"
     },
     "user_tz": -540
    },
    "id": "oWjrooMBgY2r",
    "outputId": "dc35a8dc-f798-4a48-faed-dd0fc62836e6"
   },
   "outputs": [],
   "source": [
    "%%time\n",
    "\n",
    "pipeline = Pipeline(\n",
    "    [('imp', SimpleImputer(strategy = 'median')),\n",
    "     ('feat_select', SelectKBest(k = 5)), # k개의 best feature를 선택하는 것, default score_func: f_classif / ANOVA(=Analysis of variance, 분산 분석)\n",
    "     ('lgbm', LGBMRegressor())                \n",
    "])\n",
    "\n",
    "pipeline.fit(x_train_cont, y_train)\n",
    "\n",
    "y_pred = pipeline.predict(x_valid_cont)\n",
    "print('MAE on validation set: %s' % (round(mean_absolute_error(y_valid, y_pred), 5))) #MAE"
   ]
  },
  {
   "cell_type": "code",
   "execution_count": null,
   "metadata": {
    "executionInfo": {
     "elapsed": 6,
     "status": "ok",
     "timestamp": 1632907371610,
     "user": {
      "displayName": "lover coffee",
      "photoUrl": "https://lh3.googleusercontent.com/a/default-user=s64",
      "userId": "02387638799294991184"
     },
     "user_tz": -540
    },
    "id": "9KZb62-mUbRV"
   },
   "outputs": [],
   "source": []
  },
  {
   "cell_type": "code",
   "execution_count": null,
   "metadata": {
    "colab": {
     "base_uri": "https://localhost:8080/"
    },
    "executionInfo": {
     "elapsed": 27329,
     "status": "ok",
     "timestamp": 1632907398933,
     "user": {
      "displayName": "lover coffee",
      "photoUrl": "https://lh3.googleusercontent.com/a/default-user=s64",
      "userId": "02387638799294991184"
     },
     "user_tz": -540
    },
    "id": "q7V_bT6EUbOn",
    "outputId": "ca05d7d0-29ef-49da-c61f-1e6c4e116b78"
   },
   "outputs": [],
   "source": [
    "%%time\n",
    "\n",
    "pipeline = Pipeline(\n",
    "    [('imp', SimpleImputer()),\n",
    "      ('feat_select', SelectKBest()),\n",
    "      ('lgbm', LGBMRegressor())\n",
    "                     \n",
    "])\n",
    "\n",
    "parameters = {\n",
    "    'imp__strategy': ['mean', 'median', 'most_frequent'],\n",
    "    'feat_select__k' : [5, 10]\n",
    "} \n",
    "\n",
    "gridsearch = GridSearchCV(pipeline, parameters, scoring = 'neg_mean_absolute_error', n_jobs= 1)\n",
    "gridsearch.fit(x_train_cont, y_train)   \n",
    "\n",
    "print('Best parameter combination is ')\n",
    "print(gridsearch.best_params_)    \n",
    "\n",
    "y_pred = gridsearch.predict(x_valid_cont)\n",
    "print('MAE on validation set: %s' % (round(mean_absolute_error(y_valid, y_pred), 5)))"
   ]
  },
  {
   "cell_type": "code",
   "execution_count": null,
   "metadata": {
    "executionInfo": {
     "elapsed": 19,
     "status": "ok",
     "timestamp": 1632907398934,
     "user": {
      "displayName": "lover coffee",
      "photoUrl": "https://lh3.googleusercontent.com/a/default-user=s64",
      "userId": "02387638799294991184"
     },
     "user_tz": -540
    },
    "id": "CESGrJf_XzaS"
   },
   "outputs": [],
   "source": []
  },
  {
   "cell_type": "code",
   "execution_count": null,
   "metadata": {
    "colab": {
     "base_uri": "https://localhost:8080/"
    },
    "executionInfo": {
     "elapsed": 19,
     "status": "ok",
     "timestamp": 1632907398935,
     "user": {
      "displayName": "lover coffee",
      "photoUrl": "https://lh3.googleusercontent.com/a/default-user=s64",
      "userId": "02387638799294991184"
     },
     "user_tz": -540
    },
    "id": "nuBNq6oyX3sV",
    "outputId": "bac88462-9a3c-4769-e1cf-3d24563f8739"
   },
   "outputs": [],
   "source": [
    "print(taxVars)\n",
    "\n",
    "x_train_tax = x_train[taxVars]\n",
    "x_valid_tax = x_valid[taxVars]"
   ]
  },
  {
   "cell_type": "code",
   "execution_count": null,
   "metadata": {
    "colab": {
     "base_uri": "https://localhost:8080/"
    },
    "executionInfo": {
     "elapsed": 12197,
     "status": "ok",
     "timestamp": 1632907411119,
     "user": {
      "displayName": "lover coffee",
      "photoUrl": "https://lh3.googleusercontent.com/a/default-user=s64",
      "userId": "02387638799294991184"
     },
     "user_tz": -540
    },
    "id": "S2mlkVQ0XzXM",
    "outputId": "e0f56426-f2af-4da7-eb27-668372577d18"
   },
   "outputs": [],
   "source": [
    "%%time\n",
    "\n",
    "pipeline = Pipeline(\n",
    "    [('imp', SimpleImputer()),\n",
    "      ('feat_select', SelectKBest()),\n",
    "      ('lgbm', LGBMRegressor())\n",
    "                     \n",
    "])\n",
    "\n",
    "parameters = {\n",
    "    'imp__strategy': ['mean', 'median', 'most_frequent'],\n",
    "    'feat_select__k' : [5, 10]\n",
    "} \n",
    "\n",
    "gridsearch = GridSearchCV(pipeline, parameters, scoring = 'neg_mean_absolute_error', n_jobs= 1)\n",
    "gridsearch.fit(x_train_tax, y_train)   \n",
    "\n",
    "print('Best parameter combination is ')\n",
    "print(gridsearch.best_params_)    \n",
    "\n",
    "y_pred = gridsearch.predict(x_valid_tax)\n",
    "print('MAE on validation set: %s' % (round(mean_absolute_error(y_valid, y_pred), 5)))"
   ]
  },
  {
   "cell_type": "code",
   "execution_count": null,
   "metadata": {
    "executionInfo": {
     "elapsed": 18,
     "status": "ok",
     "timestamp": 1632907411120,
     "user": {
      "displayName": "lover coffee",
      "photoUrl": "https://lh3.googleusercontent.com/a/default-user=s64",
      "userId": "02387638799294991184"
     },
     "user_tz": -540
    },
    "id": "_6QlsCHHYfy3"
   },
   "outputs": [],
   "source": []
  },
  {
   "cell_type": "code",
   "execution_count": null,
   "metadata": {
    "colab": {
     "base_uri": "https://localhost:8080/"
    },
    "executionInfo": {
     "elapsed": 17,
     "status": "ok",
     "timestamp": 1632907411120,
     "user": {
      "displayName": "lover coffee",
      "photoUrl": "https://lh3.googleusercontent.com/a/default-user=s64",
      "userId": "02387638799294991184"
     },
     "user_tz": -540
    },
    "id": "CexxbtHbYok2",
    "outputId": "48bdced9-77f0-40ff-a0a8-0067a6045104"
   },
   "outputs": [],
   "source": [
    "print(contVars+taxVars)\n",
    "\n",
    "x_train_ct = x_train[contVars+taxVars]\n",
    "x_valid_ct = x_valid[contVars+taxVars]"
   ]
  },
  {
   "cell_type": "code",
   "execution_count": null,
   "metadata": {
    "colab": {
     "base_uri": "https://localhost:8080/"
    },
    "executionInfo": {
     "elapsed": 26637,
     "status": "ok",
     "timestamp": 1632907437746,
     "user": {
      "displayName": "lover coffee",
      "photoUrl": "https://lh3.googleusercontent.com/a/default-user=s64",
      "userId": "02387638799294991184"
     },
     "user_tz": -540
    },
    "id": "4mZGDWmbYha6",
    "outputId": "a5eddbf1-1fdc-4ba6-a138-7183a07fe638"
   },
   "outputs": [],
   "source": [
    "%%time\n",
    "\n",
    "pipeline = Pipeline(\n",
    "    [('imp', SimpleImputer()),\n",
    "      ('feat_select', SelectKBest()),\n",
    "      ('lgbm', LGBMRegressor())\n",
    "                     \n",
    "])\n",
    "\n",
    "parameters = {\n",
    "    'imp__strategy': ['mean', 'median', 'most_frequent'],\n",
    "    'feat_select__k' : [5, 10]\n",
    "} \n",
    "\n",
    "gridsearch = GridSearchCV(pipeline, parameters, scoring = 'neg_mean_absolute_error', n_jobs= 1)\n",
    "gridsearch.fit(x_train_ct, y_train)   \n",
    "\n",
    "print('Best parameter combination is ')\n",
    "print(gridsearch.best_params_)    \n",
    "\n",
    "y_pred = gridsearch.predict(x_valid_ct)\n",
    "print('MAE on validation set: %s' % (round(mean_absolute_error(y_valid, y_pred), 5)))"
   ]
  },
  {
   "cell_type": "code",
   "execution_count": null,
   "metadata": {
    "executionInfo": {
     "elapsed": 11,
     "status": "ok",
     "timestamp": 1632907437747,
     "user": {
      "displayName": "lover coffee",
      "photoUrl": "https://lh3.googleusercontent.com/a/default-user=s64",
      "userId": "02387638799294991184"
     },
     "user_tz": -540
    },
    "id": "P-tN9ueiYhRN"
   },
   "outputs": [],
   "source": []
  },
  {
   "cell_type": "code",
   "execution_count": null,
   "metadata": {
    "executionInfo": {
     "elapsed": 12,
     "status": "ok",
     "timestamp": 1632907437748,
     "user": {
      "displayName": "lover coffee",
      "photoUrl": "https://lh3.googleusercontent.com/a/default-user=s64",
      "userId": "02387638799294991184"
     },
     "user_tz": -540
    },
    "id": "iEtNpfLNZTQB"
   },
   "outputs": [],
   "source": [
    "from sklearn.base import BaseEstimator, TransformerMixin\n",
    "\n",
    "class ColumnSelector(BaseEstimator, TransformerMixin):\n",
    "    def __init__(self, subset):\n",
    "        self.subset = subset\n",
    "\n",
    "    def transform(self, X, *_):\n",
    "        return X.loc[:, self.subset]\n",
    "\n",
    "    def fit(self, *_):\n",
    "        return self"
   ]
  },
  {
   "cell_type": "code",
   "execution_count": null,
   "metadata": {
    "colab": {
     "base_uri": "https://localhost:8080/"
    },
    "executionInfo": {
     "elapsed": 88347,
     "status": "ok",
     "timestamp": 1632907526084,
     "user": {
      "displayName": "lover coffee",
      "photoUrl": "https://lh3.googleusercontent.com/a/default-user=s64",
      "userId": "02387638799294991184"
     },
     "user_tz": -540
    },
    "id": "oEOwCT3KYfwG",
    "outputId": "9b349c49-c4f9-46b7-eb30-1f919ad529f8"
   },
   "outputs": [],
   "source": [
    "pipeline = Pipeline([\n",
    "        \n",
    "    ('unity', FeatureUnion(\n",
    "        transformer_list=[\n",
    "            ('cont_portal', Pipeline([\n",
    "                ('selector', ColumnSelector(contVars)),\n",
    "                ('cont_imp', SimpleImputer(strategy = 'median')),\n",
    "                #('scaler', StandardScaler())             \n",
    "            ])),\n",
    "            ('tax_portal', Pipeline([\n",
    "                ('selector', ColumnSelector(taxVars)),\n",
    "                ('tax_imp', SimpleImputer(strategy = 'most_frequent')),\n",
    "                #('scaler', MinMaxScaler(copy=True, feature_range=(0, 3)))\n",
    "            ])),\n",
    "        ],\n",
    "    )),\n",
    "    ('column_purge', SelectKBest(k = 5)),    \n",
    "    ('lgbm', LGBMRegressor()),\n",
    "])\n",
    "\n",
    "parameters = {\n",
    "    'column_purge__k' : [5, 10],\n",
    "    'lgbm__num_leaves': [5, 15, 30], # default 31\n",
    "    'lgbm__reg_alpha ': [0.01, 0], # default 0\n",
    "    'lgbm__reg_lambda': [0.01, 0] # default 0\n",
    "}\n",
    "\n",
    "grid = GridSearchCV(pipeline, parameters, scoring = 'neg_mean_absolute_error', n_jobs= 2)\n",
    "grid.fit(x_train, y_train)   \n",
    "\n",
    "print('Best parameter combination is ')\n",
    "\n",
    "print(grid.best_params_)    \n",
    "\n",
    "y_pred = grid.predict(x_valid)\n",
    "print('MAE on validation set: %s' % (round(mean_absolute_error(y_valid, y_pred), 5)))"
   ]
  },
  {
   "cell_type": "code",
   "execution_count": null,
   "metadata": {
    "executionInfo": {
     "elapsed": 41,
     "status": "ok",
     "timestamp": 1632907526085,
     "user": {
      "displayName": "lover coffee",
      "photoUrl": "https://lh3.googleusercontent.com/a/default-user=s64",
      "userId": "02387638799294991184"
     },
     "user_tz": -540
    },
    "id": "UdUlhF48XzwF"
   },
   "outputs": [],
   "source": []
  },
  {
   "cell_type": "code",
   "execution_count": null,
   "metadata": {
    "colab": {
     "base_uri": "https://localhost:8080/"
    },
    "executionInfo": {
     "elapsed": 40,
     "status": "ok",
     "timestamp": 1632907526085,
     "user": {
      "displayName": "lover coffee",
      "photoUrl": "https://lh3.googleusercontent.com/a/default-user=s64",
      "userId": "02387638799294991184"
     },
     "user_tz": -540
    },
    "id": "o48iFdhAbkoT",
    "outputId": "69bf35eb-6bd2-425d-c89a-76c3e345dd2e"
   },
   "outputs": [],
   "source": [
    "from sklearn import svm\n",
    "from sklearn import datasets\n",
    "\n",
    "clf = svm.SVC()\n",
    "X, y= datasets.load_iris(return_X_y=True)\n",
    "clf.fit(X, y)"
   ]
  },
  {
   "cell_type": "code",
   "execution_count": null,
   "metadata": {
    "colab": {
     "base_uri": "https://localhost:8080/"
    },
    "executionInfo": {
     "elapsed": 36,
     "status": "ok",
     "timestamp": 1632907526086,
     "user": {
      "displayName": "lover coffee",
      "photoUrl": "https://lh3.googleusercontent.com/a/default-user=s64",
      "userId": "02387638799294991184"
     },
     "user_tz": -540
    },
    "id": "9WSvU_BPbplC",
    "outputId": "b550f15a-7138-4ea2-8c37-bedc9357548a"
   },
   "outputs": [],
   "source": [
    "import pickle\n",
    "\n",
    "s = pickle.dumps(clf)\n",
    "\n",
    "clf2 = pickle.loads(s)\n",
    "clf2.predict(X[0:1])"
   ]
  },
  {
   "cell_type": "code",
   "execution_count": null,
   "metadata": {
    "colab": {
     "base_uri": "https://localhost:8080/"
    },
    "executionInfo": {
     "elapsed": 32,
     "status": "ok",
     "timestamp": 1632907526086,
     "user": {
      "displayName": "lover coffee",
      "photoUrl": "https://lh3.googleusercontent.com/a/default-user=s64",
      "userId": "02387638799294991184"
     },
     "user_tz": -540
    },
    "id": "5kE1i6EWbvrB",
    "outputId": "b157dc5b-5fe3-4a0f-c5a4-dfcb042747e3"
   },
   "outputs": [],
   "source": [
    "s"
   ]
  },
  {
   "cell_type": "code",
   "execution_count": null,
   "metadata": {
    "colab": {
     "base_uri": "https://localhost:8080/"
    },
    "executionInfo": {
     "elapsed": 21,
     "status": "ok",
     "timestamp": 1632907526086,
     "user": {
      "displayName": "lover coffee",
      "photoUrl": "https://lh3.googleusercontent.com/a/default-user=s64",
      "userId": "02387638799294991184"
     },
     "user_tz": -540
    },
    "id": "6s6lFG9vcPWY",
    "outputId": "23562361-70e0-489c-9919-a1ff9e7627bd"
   },
   "outputs": [],
   "source": [
    "pickle.dump(clf, open('classifier.pickle', 'wb'))\n",
    "\n",
    "clf2 = pickle.load(open('classifier.pickle', 'rb'))\n",
    "clf2.predict(X[0:1])"
   ]
  },
  {
   "cell_type": "code",
   "execution_count": null,
   "metadata": {
    "colab": {
     "base_uri": "https://localhost:8080/"
    },
    "executionInfo": {
     "elapsed": 16,
     "status": "ok",
     "timestamp": 1632907526087,
     "user": {
      "displayName": "lover coffee",
      "photoUrl": "https://lh3.googleusercontent.com/a/default-user=s64",
      "userId": "02387638799294991184"
     },
     "user_tz": -540
    },
    "id": "U0h3vF0rc-qr",
    "outputId": "840d68be-95a3-4ad9-ef28-70962372dca6"
   },
   "outputs": [],
   "source": [
    "with open('classifier.pickle', 'wb') as f:\n",
    "    pickle.dump(clf, f)\n",
    "\n",
    "with open('classifier.pickle', 'rb') as f:\n",
    "    clf2 = pickle.load(f)\n",
    "\n",
    "clf2.predict(X[0:1])"
   ]
  },
  {
   "cell_type": "code",
   "execution_count": null,
   "metadata": {
    "executionInfo": {
     "elapsed": 12,
     "status": "ok",
     "timestamp": 1632907526087,
     "user": {
      "displayName": "lover coffee",
      "photoUrl": "https://lh3.googleusercontent.com/a/default-user=s64",
      "userId": "02387638799294991184"
     },
     "user_tz": -540
    },
    "id": "I7nyKdcMdiUo"
   },
   "outputs": [],
   "source": []
  },
  {
   "cell_type": "code",
   "execution_count": null,
   "metadata": {
    "colab": {
     "base_uri": "https://localhost:8080/"
    },
    "executionInfo": {
     "elapsed": 11,
     "status": "ok",
     "timestamp": 1632907526087,
     "user": {
      "displayName": "lover coffee",
      "photoUrl": "https://lh3.googleusercontent.com/a/default-user=s64",
      "userId": "02387638799294991184"
     },
     "user_tz": -540
    },
    "id": "mSxBujnkdiSM",
    "outputId": "bcaf8169-4524-4b19-c550-f30116ccbf45"
   },
   "outputs": [],
   "source": [
    "with open('grid.pickle', 'wb') as f:\n",
    "    pickle.dump(grid, f)\n",
    "\n",
    "with open('grid.pickle', 'rb') as f:\n",
    "    grid_loaded = pickle.load(f)\n",
    "\n",
    "grid_loaded"
   ]
  },
  {
   "cell_type": "code",
   "execution_count": null,
   "metadata": {
    "colab": {
     "base_uri": "https://localhost:8080/"
    },
    "executionInfo": {
     "elapsed": 365,
     "status": "ok",
     "timestamp": 1632907526445,
     "user": {
      "displayName": "lover coffee",
      "photoUrl": "https://lh3.googleusercontent.com/a/default-user=s64",
      "userId": "02387638799294991184"
     },
     "user_tz": -540
    },
    "id": "FUOdRBuVdrm1",
    "outputId": "b827b0b7-bff9-4356-e03b-23b8afba0888"
   },
   "outputs": [],
   "source": [
    "y_pred = grid.predict(x_valid)\n",
    "print('MAE on validation set: %s' % (round(mean_absolute_error(y_valid, y_pred), 5)))"
   ]
  },
  {
   "cell_type": "code",
   "execution_count": null,
   "metadata": {
    "executionInfo": {
     "elapsed": 17,
     "status": "ok",
     "timestamp": 1632907526445,
     "user": {
      "displayName": "lover coffee",
      "photoUrl": "https://lh3.googleusercontent.com/a/default-user=s64",
      "userId": "02387638799294991184"
     },
     "user_tz": -540
    },
    "id": "TkM_xj-neHFY"
   },
   "outputs": [],
   "source": []
  },
  {
   "cell_type": "code",
   "execution_count": null,
   "metadata": {
    "colab": {
     "base_uri": "https://localhost:8080/"
    },
    "executionInfo": {
     "elapsed": 18,
     "status": "ok",
     "timestamp": 1632907526446,
     "user": {
      "displayName": "lover coffee",
      "photoUrl": "https://lh3.googleusercontent.com/a/default-user=s64",
      "userId": "02387638799294991184"
     },
     "user_tz": -540
    },
    "id": "OBXiyd5ibUzg",
    "outputId": "920c49c2-3b84-48f3-d817-d4520d9f08c1"
   },
   "outputs": [],
   "source": [
    "from sklearn.externals import joblib\n",
    "\n",
    "joblib.dump(grid.best_estimator_, 'grid.pkl')"
   ]
  },
  {
   "cell_type": "code",
   "execution_count": null,
   "metadata": {
    "colab": {
     "base_uri": "https://localhost:8080/"
    },
    "executionInfo": {
     "elapsed": 14,
     "status": "ok",
     "timestamp": 1632907526446,
     "user": {
      "displayName": "lover coffee",
      "photoUrl": "https://lh3.googleusercontent.com/a/default-user=s64",
      "userId": "02387638799294991184"
     },
     "user_tz": -540
    },
    "id": "aoKx1JB_eByx",
    "outputId": "a1844e13-5bcd-4819-a601-d9da6e560188"
   },
   "outputs": [],
   "source": [
    "grid_loaded = joblib.load('grid.pkl')\n",
    "grid_loaded"
   ]
  },
  {
   "cell_type": "code",
   "execution_count": null,
   "metadata": {
    "executionInfo": {
     "elapsed": 9,
     "status": "ok",
     "timestamp": 1632907526446,
     "user": {
      "displayName": "lover coffee",
      "photoUrl": "https://lh3.googleusercontent.com/a/default-user=s64",
      "userId": "02387638799294991184"
     },
     "user_tz": -540
    },
    "id": "oWb0N8iDd-kw"
   },
   "outputs": [],
   "source": []
  },
  {
   "cell_type": "code",
   "execution_count": null,
   "metadata": {
    "colab": {
     "base_uri": "https://localhost:8080/"
    },
    "executionInfo": {
     "elapsed": 10,
     "status": "ok",
     "timestamp": 1632907526447,
     "user": {
      "displayName": "lover coffee",
      "photoUrl": "https://lh3.googleusercontent.com/a/default-user=s64",
      "userId": "02387638799294991184"
     },
     "user_tz": -540
    },
    "id": "DnIqqsHud92M",
    "outputId": "899c8b53-00f8-4f4a-f9be-cbfc51359342"
   },
   "outputs": [],
   "source": [
    "import joblib\n",
    "\n",
    "joblib.dump(grid.best_estimator_, 'grid.pkl')\n",
    "grid_loaded = joblib.load('grid.pkl')\n",
    "grid_loaded"
   ]
  },
  {
   "cell_type": "code",
   "execution_count": null,
   "metadata": {
    "executionInfo": {
     "elapsed": 6,
     "status": "ok",
     "timestamp": 1632907526447,
     "user": {
      "displayName": "lover coffee",
      "photoUrl": "https://lh3.googleusercontent.com/a/default-user=s64",
      "userId": "02387638799294991184"
     },
     "user_tz": -540
    },
    "id": "eOAI3m-hbUxS"
   },
   "outputs": [],
   "source": []
  },
  {
   "cell_type": "markdown",
   "metadata": {
    "id": "txOXWX4WOO5G"
   },
   "source": [
    "## Bayesian Opt"
   ]
  },
  {
   "cell_type": "code",
   "execution_count": null,
   "metadata": {
    "colab": {
     "base_uri": "https://localhost:8080/"
    },
    "executionInfo": {
     "elapsed": 5815,
     "status": "ok",
     "timestamp": 1632907532257,
     "user": {
      "displayName": "lover coffee",
      "photoUrl": "https://lh3.googleusercontent.com/a/default-user=s64",
      "userId": "02387638799294991184"
     },
     "user_tz": -540
    },
    "id": "18DhgDTPe4c1",
    "outputId": "85329b27-0a0d-46cc-b7c2-0d0b5f08b40d"
   },
   "outputs": [],
   "source": [
    "!pip install bayesian-optimization\n",
    "!pip install catboost"
   ]
  },
  {
   "cell_type": "code",
   "execution_count": null,
   "metadata": {
    "executionInfo": {
     "elapsed": 12,
     "status": "ok",
     "timestamp": 1632907532258,
     "user": {
      "displayName": "lover coffee",
      "photoUrl": "https://lh3.googleusercontent.com/a/default-user=s64",
      "userId": "02387638799294991184"
     },
     "user_tz": -540
    },
    "id": "dvA2Pk9pOQmU"
   },
   "outputs": [],
   "source": [
    "import warnings\n",
    "warnings.filterwarnings('ignore')\n",
    "from sklearn.preprocessing import LabelEncoder\n",
    "import numpy as np\n",
    "import pandas as pd\n",
    "import lightgbm\n",
    "from bayes_opt import BayesianOptimization\n",
    "from catboost import CatBoostClassifier, cv, Pool"
   ]
  },
  {
   "cell_type": "code",
   "execution_count": null,
   "metadata": {
    "executionInfo": {
     "elapsed": 520,
     "status": "ok",
     "timestamp": 1632907532766,
     "user": {
      "displayName": "lover coffee",
      "photoUrl": "https://lh3.googleusercontent.com/a/default-user=s64",
      "userId": "02387638799294991184"
     },
     "user_tz": -540
    },
    "id": "hgGY4NBDe227"
   },
   "outputs": [],
   "source": [
    "train_df = pd.read_csv('/content/drive/MyDrive/21_ls/data/flight_delays_train.csv')\n",
    "test_df = pd.read_csv('/content/drive/MyDrive/21_ls/data/flight_delays_test.csv')\n",
    "\n",
    "train_df = train_df[train_df.DepTime <= 2400].copy() # departure time 을 기준으로 자름. 24시간 기준인데 이것을 넘어가는 것이 있어서.\n",
    "y_train = train_df['dep_delayed_15min'].map({'Y': 1, 'N': 0}).values # delay가 15분 이상된 것(Y)는 1로, 아닌 것(N)은 0으로 정답을 삼아 문제를 설계"
   ]
  },
  {
   "cell_type": "code",
   "execution_count": null,
   "metadata": {
    "colab": {
     "base_uri": "https://localhost:8080/",
     "height": 419
    },
    "executionInfo": {
     "elapsed": 20,
     "status": "ok",
     "timestamp": 1632907532767,
     "user": {
      "displayName": "lover coffee",
      "photoUrl": "https://lh3.googleusercontent.com/a/default-user=s64",
      "userId": "02387638799294991184"
     },
     "user_tz": -540
    },
    "id": "pnpjZ7PlfttE",
    "outputId": "25f46d81-2e69-48e5-d575-8503f767452c"
   },
   "outputs": [],
   "source": [
    "train_df"
   ]
  },
  {
   "cell_type": "code",
   "execution_count": null,
   "metadata": {
    "executionInfo": {
     "elapsed": 20,
     "status": "ok",
     "timestamp": 1632907532768,
     "user": {
      "displayName": "lover coffee",
      "photoUrl": "https://lh3.googleusercontent.com/a/default-user=s64",
      "userId": "02387638799294991184"
     },
     "user_tz": -540
    },
    "id": "9nk3SmLtfzVl"
   },
   "outputs": [],
   "source": [
    "def label_enc(df_column):\n",
    "    df_column = LabelEncoder().fit_transform(df_column)\n",
    "    return df_column\n",
    "\n",
    "def make_features_sin(value, period=2400): # 주기성을 띄는 것을 sin 함수로 전처리. ex: 시간\n",
    "    value *= 2 * np.pi / period \n",
    "    return np.sin(value)\n",
    "\n",
    "def make_features_cos(value, period=2400): # 주기성을 띄는 것을 cos 함수로 전처리. ex: 시간\n",
    "    value *= 2 * np.pi / period \n",
    "    return np.cos(value)\n",
    "\n",
    "def feature_engineering(df):\n",
    "    df['flight'] = df['Origin']+df['Dest'] # 출발지 + 목적지\n",
    "    df['Month'] = df.Month.map(lambda x: x.split('-')[-1]).astype('int32') # '-' 로 쪼개고 마지막에 있는 것만 사용, 정수형으로 변환\n",
    "    df['DayofMonth'] = df.DayofMonth.map(lambda x: x.split('-')[-1]).astype('uint8') # '-' 로 쪼개고 마지막에 있는 것만 사용, 정수형으로 변환\n",
    "    df['is_begin_of_month'] = (df['DayofMonth'] < 10).astype('uint8') # 월 초\n",
    "    df['is_midddle_of_month'] = ((df['DayofMonth'] >= 10)&(df['DayofMonth'] < 20)).astype('uint8')\n",
    "    df['is_end_of_month'] = (df['DayofMonth'] >= 20).astype('uint8') # 월 말\n",
    "    df['DayOfWeek'] = df.DayOfWeek.map(lambda x: x.split('-')[-1]).astype('uint8') # 일주일 중 몇번째 날인지, 요일 -> 숫자버젼\n",
    "    df['hour'] = df.DepTime.map(lambda x: x/100).astype('int32') # 출발 시간\n",
    "    df['is_morning'] = df['hour'].map(lambda x: 1 if (x <= 11)& (x >= 7) else 0).astype('uint8') # 시간대 구분 -> 단순히 시간으로 안하고 시간대로 구분한다? -> continuous하지 않은 feature. why? 단순 비례/반비례 관계 외의 정보\n",
    "    df['is_daytime'] = df['hour'].map(lambda x: 1 if (x >= 12) & (x <= 18) else 0).astype('uint8') # 시간대 구분\n",
    "    df['is_evening'] = df['hour'].map(lambda x: 1 if (x >= 19) & (x <= 23) else 0).astype('uint8') # 시간대 구분\n",
    "    df['is_night'] = df['hour'].map(lambda x: 1 if (x >= 0) & (x <= 6) else 0).astype('int32') # 시간대 구분\n",
    "    df['is_winter'] = df['Month'].map(lambda x: x in [12, 1, 2]).astype('int32') # 계절 구분\n",
    "    df['is_spring'] = df['Month'].map(lambda x: x in [3, 4, 5]).astype('int32') # 계절 구분\n",
    "    df['is_summer'] = df['Month'].map(lambda x: x in [6, 7, 8]).astype('int32') # 계절 구분\n",
    "    df['is_autumn'] = df['Month'].map(lambda x: x in [9, 10, 11]).astype('int32') # 계절 구분\n",
    "    df['is_holiday'] = (df['DayOfWeek'] >= 5).astype(int) # 주말\n",
    "    df['is_weekday'] = (df['DayOfWeek'] < 5).astype(int) # 주중\n",
    "    df['airport_dest_count'] = df.groupby(['Dest'])['Dest'].transform('count') # 해당 목적지를 향하는 총 비행편 수\n",
    "    df['airport_origin_count'] = df.groupby(['Origin'])['Origin'].transform('count') # 해당 출발지로부터의 총 비행편 수\n",
    "    df['carrier_count'] = df.groupby(['UniqueCarrier'])['Dest'].transform('count') # 항공/운송업체 코드 (ex AA: American Airline) 의 목적지를 향하는 총 비행편 수\n",
    "    df['airport_dest_per_month'] = df.groupby(['Dest', 'Month'])['Dest'].transform('count') # 해당 목적지를 향하는 비행편의 월 편 수\n",
    "    df['airport_origin_per_month'] = df.groupby(['Origin', 'Month'])['Origin'].transform('count') # 해당 출발지로부터의 비행편의 월 편 수\n",
    "    df['carrier_count_per month'] = df.groupby(['UniqueCarrier', 'Month'])['Dest'].transform('count') # 항공 코드의 목적지를 향하는 비행편의 월 편 수\n",
    "    df['deptime_sin'] = df['DepTime'].map(make_features_sin) # 시간은 주기성이 있기에 sin으로 처리 (2400을 주기성으로, 근데 전처리에서 이미 해주긴 했음.)\n",
    "    df['deptime_cos'] = df['DepTime'].map(make_features_cos) # 시간은 주기성이 있기에 sin으로 처리 \n",
    "    df['flightUC'] = df['flight']+df['UniqueCarrier'] # 출발지 + 목적지 + 항공코드\n",
    "    df['DestUC'] = df['Dest']+df['UniqueCarrier'] # 목적지 + 항공코드\n",
    "    df['OriginUC'] = df['Origin']+df['UniqueCarrier'] # 출발지 + 항공코드\n",
    "    return df.drop('DepTime', axis=1) # depature time은 제외하고 feature engineering한 것을 return"
   ]
  },
  {
   "cell_type": "code",
   "execution_count": null,
   "metadata": {
    "colab": {
     "base_uri": "https://localhost:8080/"
    },
    "executionInfo": {
     "elapsed": 20,
     "status": "ok",
     "timestamp": 1632907532769,
     "user": {
      "displayName": "lover coffee",
      "photoUrl": "https://lh3.googleusercontent.com/a/default-user=s64",
      "userId": "02387638799294991184"
     },
     "user_tz": -540
    },
    "id": "5FnMx2BUjmdv",
    "outputId": "533838bb-52d2-4931-ca0f-4071f6bfc41f"
   },
   "outputs": [],
   "source": [
    "train_df['Origin'].value_counts()"
   ]
  },
  {
   "cell_type": "code",
   "execution_count": null,
   "metadata": {
    "colab": {
     "base_uri": "https://localhost:8080/",
     "height": 419
    },
    "executionInfo": {
     "elapsed": 17,
     "status": "ok",
     "timestamp": 1632907532770,
     "user": {
      "displayName": "lover coffee",
      "photoUrl": "https://lh3.googleusercontent.com/a/default-user=s64",
      "userId": "02387638799294991184"
     },
     "user_tz": -540
    },
    "id": "bkr7x3i7jz3Q",
    "outputId": "6da80610-e763-4d07-cc2f-40fd1e2aefbb"
   },
   "outputs": [],
   "source": [
    "train_df[train_df['Origin']=='ATL']"
   ]
  },
  {
   "cell_type": "code",
   "execution_count": null,
   "metadata": {
    "colab": {
     "base_uri": "https://localhost:8080/"
    },
    "executionInfo": {
     "elapsed": 15,
     "status": "ok",
     "timestamp": 1632907532770,
     "user": {
      "displayName": "lover coffee",
      "photoUrl": "https://lh3.googleusercontent.com/a/default-user=s64",
      "userId": "02387638799294991184"
     },
     "user_tz": -540
    },
    "id": "lsFQ5oxljL3d",
    "outputId": "cc2438bf-1790-4c3b-aac8-c52bc46d3777"
   },
   "outputs": [],
   "source": [
    "train_df.groupby(['Origin'])['Origin'].transform('count')"
   ]
  },
  {
   "cell_type": "code",
   "execution_count": null,
   "metadata": {
    "executionInfo": {
     "elapsed": 11,
     "status": "ok",
     "timestamp": 1632907532771,
     "user": {
      "displayName": "lover coffee",
      "photoUrl": "https://lh3.googleusercontent.com/a/default-user=s64",
      "userId": "02387638799294991184"
     },
     "user_tz": -540
    },
    "id": "qA2pSv_ajv6_"
   },
   "outputs": [],
   "source": []
  },
  {
   "cell_type": "code",
   "execution_count": null,
   "metadata": {
    "executionInfo": {
     "elapsed": 2389,
     "status": "ok",
     "timestamp": 1632907535149,
     "user": {
      "displayName": "lover coffee",
      "photoUrl": "https://lh3.googleusercontent.com/a/default-user=s64",
      "userId": "02387638799294991184"
     },
     "user_tz": -540
    },
    "id": "TWSHkI-tlR_S"
   },
   "outputs": [],
   "source": [
    "full_df = pd.concat([train_df.drop('dep_delayed_15min', axis=1), test_df])\n",
    "full_df = feature_engineering(full_df) \n",
    "\n",
    "for column in ['UniqueCarrier', 'Origin', 'Dest','flight',  'flightUC', 'DestUC', 'OriginUC']: # categorical feature는 label encoding\n",
    "    full_df[column] = label_enc(full_df[column])\n",
    "\n",
    "X_train = full_df[:train_df.shape[0]]\n",
    "X_test = full_df[train_df.shape[0]:]"
   ]
  },
  {
   "cell_type": "code",
   "execution_count": null,
   "metadata": {
    "colab": {
     "base_uri": "https://localhost:8080/",
     "height": 241
    },
    "executionInfo": {
     "elapsed": 12,
     "status": "ok",
     "timestamp": 1632907535154,
     "user": {
      "displayName": "lover coffee",
      "photoUrl": "https://lh3.googleusercontent.com/a/default-user=s64",
      "userId": "02387638799294991184"
     },
     "user_tz": -540
    },
    "id": "7xWx1R5Klj6G",
    "outputId": "c55d7e63-c44d-4671-e2bf-2d512b13c0fe"
   },
   "outputs": [],
   "source": [
    "X_train.head()"
   ]
  },
  {
   "cell_type": "code",
   "execution_count": null,
   "metadata": {
    "executionInfo": {
     "elapsed": 10,
     "status": "ok",
     "timestamp": 1632907535154,
     "user": {
      "displayName": "lover coffee",
      "photoUrl": "https://lh3.googleusercontent.com/a/default-user=s64",
      "userId": "02387638799294991184"
     },
     "user_tz": -540
    },
    "id": "nAfHodQelYxt"
   },
   "outputs": [],
   "source": []
  },
  {
   "cell_type": "code",
   "execution_count": null,
   "metadata": {
    "executionInfo": {
     "elapsed": 12,
     "status": "ok",
     "timestamp": 1632907535156,
     "user": {
      "displayName": "lover coffee",
      "photoUrl": "https://lh3.googleusercontent.com/a/default-user=s64",
      "userId": "02387638799294991184"
     },
     "user_tz": -540
    },
    "id": "nbGvvyRjmJwR"
   },
   "outputs": [],
   "source": [
    "categorical_features = ['Month',  'DayOfWeek', 'UniqueCarrier', 'Origin', 'Dest','flight',  'flightUC', 'DestUC', 'OriginUC']\n",
    "\n",
    "X_train, X_valid, y_train, y_valid = train_test_split(X_train, y_train, test_size=0.33)"
   ]
  },
  {
   "cell_type": "code",
   "execution_count": null,
   "metadata": {
    "colab": {
     "base_uri": "https://localhost:8080/"
    },
    "executionInfo": {
     "elapsed": 3735,
     "status": "ok",
     "timestamp": 1632907538879,
     "user": {
      "displayName": "lover coffee",
      "photoUrl": "https://lh3.googleusercontent.com/a/default-user=s64",
      "userId": "02387638799294991184"
     },
     "user_tz": -540
    },
    "id": "Qz3MDMA0qVDo",
    "outputId": "c327a12c-8cf6-4f0c-dcd7-1fbfa4c00c4c"
   },
   "outputs": [],
   "source": [
    "%time \n",
    "\n",
    "model = lgb.LGBMClassifier()\n",
    "model.fit(X_train, y_train, categorical_feature=categorical_features)\n",
    "model.score(X_valid, y_valid)"
   ]
  },
  {
   "cell_type": "code",
   "execution_count": null,
   "metadata": {
    "executionInfo": {
     "elapsed": 10,
     "status": "ok",
     "timestamp": 1632907538880,
     "user": {
      "displayName": "lover coffee",
      "photoUrl": "https://lh3.googleusercontent.com/a/default-user=s64",
      "userId": "02387638799294991184"
     },
     "user_tz": -540
    },
    "id": "fWTCwKvMnM1w"
   },
   "outputs": [],
   "source": []
  },
  {
   "cell_type": "code",
   "execution_count": null,
   "metadata": {
    "colab": {
     "base_uri": "https://localhost:8080/"
    },
    "executionInfo": {
     "elapsed": 143774,
     "status": "ok",
     "timestamp": 1632907682645,
     "user": {
      "displayName": "lover coffee",
      "photoUrl": "https://lh3.googleusercontent.com/a/default-user=s64",
      "userId": "02387638799294991184"
     },
     "user_tz": -540
    },
    "id": "JrsfKId1nu6G",
    "outputId": "986e14e3-4be6-4df5-b1b3-b7f6bfd54a45"
   },
   "outputs": [],
   "source": [
    "%%time\n",
    "\n",
    "opt = BayesSearchCV(\n",
    "    estimator = lgb.LGBMClassifier(),\n",
    "    search_spaces= {\n",
    "        'num_leaves': (15, 50),\n",
    "        'lambda_l2': (0.0, 0.05),\n",
    "        'lambda_l1': (0.0, 0.05),\n",
    "        'min_child_samples': (50, 10000),\n",
    "        'min_data_in_leaf': (100, 2000)\n",
    "    },\n",
    "    n_iter=32,\n",
    "    cv=3\n",
    ")\n",
    "\n",
    "opt.fit(X_train, y_train)\n",
    "opt.score(X_valid, y_valid)"
   ]
  },
  {
   "cell_type": "code",
   "execution_count": null,
   "metadata": {
    "colab": {
     "base_uri": "https://localhost:8080/"
    },
    "executionInfo": {
     "elapsed": 16,
     "status": "ok",
     "timestamp": 1632907682645,
     "user": {
      "displayName": "lover coffee",
      "photoUrl": "https://lh3.googleusercontent.com/a/default-user=s64",
      "userId": "02387638799294991184"
     },
     "user_tz": -540
    },
    "id": "ShyroH1SrfAT",
    "outputId": "4c249225-1018-41c9-918e-6811e16123db"
   },
   "outputs": [],
   "source": [
    "print(opt.best_params_)"
   ]
  },
  {
   "cell_type": "code",
   "execution_count": null,
   "metadata": {
    "executionInfo": {
     "elapsed": 15,
     "status": "ok",
     "timestamp": 1632907682646,
     "user": {
      "displayName": "lover coffee",
      "photoUrl": "https://lh3.googleusercontent.com/a/default-user=s64",
      "userId": "02387638799294991184"
     },
     "user_tz": -540
    },
    "id": "y8RNZhyBwGs_"
   },
   "outputs": [],
   "source": []
  },
  {
   "cell_type": "code",
   "execution_count": null,
   "metadata": {},
   "outputs": [],
   "source": []
  },
  {
   "cell_type": "code",
   "execution_count": null,
   "metadata": {},
   "outputs": [],
   "source": []
  },
  {
   "cell_type": "code",
   "execution_count": null,
   "metadata": {},
   "outputs": [],
   "source": []
  }
 ],
 "metadata": {
  "colab": {
   "authorship_tag": "ABX9TyPCFClj9v8mKrul5Ep/3MWv",
   "collapsed_sections": [],
   "mount_file_id": "1YyE3OJjD59z-Jq4FTt2MFgDy_6m9bbh5",
   "name": "Unit_6.ipynb",
   "provenance": []
  },
  "kernelspec": {
   "display_name": "Python 3",
   "language": "python",
   "name": "python3"
  },
  "language_info": {
   "codemirror_mode": {
    "name": "ipython",
    "version": 3
   },
   "file_extension": ".py",
   "mimetype": "text/x-python",
   "name": "python",
   "nbconvert_exporter": "python",
   "pygments_lexer": "ipython3",
   "version": "3.8.5"
  },
  "toc": {
   "base_numbering": 1,
   "nav_menu": {},
   "number_sections": true,
   "sideBar": true,
   "skip_h1_title": false,
   "title_cell": "Table of Contents",
   "title_sidebar": "Contents",
   "toc_cell": false,
   "toc_position": {},
   "toc_section_display": true,
   "toc_window_display": false
  }
 },
 "nbformat": 4,
 "nbformat_minor": 1
}
